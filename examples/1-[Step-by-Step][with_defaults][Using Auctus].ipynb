{
 "cells": [
  {
   "cell_type": "markdown",
   "id": "67ccef14f011c0f5",
   "metadata": {},
   "source": [
    "# Welcome to OSMNxMapping ☀️!\n",
    "\n",
    "_Chapter 1_ will be about reproducing the \"Getting Started\" section from the [OSMNxMapping README](https://github.com/VIDA-NYU/OSMNXMapping#getting-started). \n",
    "\n",
    "We demonstrate how to use the OSMNxMapping library to map urban data to street networks, **step by step**. We'll use the example of PLUTO (Primary Land Use Tax Lot Output) buildings in New York City to:\n",
    "\n",
    "- Import the library.\n",
    "- Initialise an OSMNxMapping instance.\n",
    "- Search for datasets using Auctus.\n",
    "- Load the selected dataset.\n",
    "- Convert the dataset for OSMNxMapping.\n",
    "- Query a road network.\n",
    "- Map data to street nodes.\n",
    "- Preprocess the data (imputing and filtering).\n",
    "- Enrich the network with aggregated data.\n",
    "- Visualise the results.\n",
    "\n",
    "Let's dive in! 🚀"
   ]
  },
  {
   "cell_type": "markdown",
   "id": "49a96ec9a621b9f9",
   "metadata": {},
   "source": [
    "## Step 1: Import the Library\n",
    "\n",
    "We start by importing the `osmnx_mapping` library with the alias `oxm` for convenience."
   ]
  },
  {
   "cell_type": "code",
   "execution_count": null,
   "id": "e75dee01f17efde9",
   "metadata": {},
   "outputs": [],
   "source": [
    "import osmnx_mapping as oxm"
   ]
  },
  {
   "cell_type": "markdown",
   "id": "b26746bdd8501f02",
   "metadata": {},
   "source": [
    "## Step 2: Initialise an OSMNxMapping Instance\n",
    "\n",
    "Next, we create an instance of `OSMNxMapping`. This instance, named `pluto_buildings`, will manage our urban data and road network analysis. At this point, no data is loaded or queried—everything is set up for the steps ahead."
   ]
  },
  {
   "cell_type": "code",
   "execution_count": null,
   "id": "9162e8f5c6a857fa",
   "metadata": {},
   "outputs": [],
   "source": [
    "pluto_buildings = oxm.OSMNxMapping()"
   ]
  },
  {
   "cell_type": "markdown",
   "id": "f94488b280a5b2b4",
   "metadata": {},
   "source": [
    "## Step 3: Search for Datasets\n",
    "\n",
    "We use the `AuctusSearchMixin` to search for datasets related to \"PLUTO\" via the Auctus API. Setting `display_initial_results=True` shows an interactive grid of dataset cards in the notebook.\n",
    "\n",
    "> **Note**: After running this cell, browse the displayed datasets and click \"Select This Dataset\" on the one you want to use. You can also load data manually from a file—see the `examples/` folder in the repository for different examples."
   ]
  },
  {
   "cell_type": "code",
   "execution_count": null,
   "id": "ebb0b453f07a9099",
   "metadata": {},
   "outputs": [],
   "source": [
    "collection = pluto_buildings.auctus.search_datasets(search_query=\"PLUTO\", display_initial_results=True)"
   ]
  },
  {
   "cell_type": "markdown",
   "id": "4c21db892960927a",
   "metadata": {},
   "source": [
    "## Step 3-BIS: Profile the Selected Dataset\n",
    "\n",
    "After selecting a dataset in Step 3, we can profile thanks to https://github.com/soniacq/DataProfileVis integrated within https://github.com/VIDA-NYU/auctus_search the dataset. Yet we cannot yet edit a profiling in the current version, further discussion needs to be made."
   ]
  },
  {
   "cell_type": "code",
   "execution_count": null,
   "id": "e9748338dd088c7",
   "metadata": {},
   "outputs": [],
   "source": [
    "pluto_buildings.auctus.profile_selected_dataset()"
   ]
  },
  {
   "cell_type": "markdown",
   "id": "32fe10ca8e4173b1",
   "metadata": {},
   "source": [
    "## Step 4: Load the Selected Dataset\n",
    "\n",
    "After selecting a dataset in Step 3, we load it into memory using `load_dataset_from_auctus()`. This returns a `pandas.DataFrame` or `geopandas.GeoDataFrame` and displays an interactive table preview by default."
   ]
  },
  {
   "cell_type": "code",
   "execution_count": null,
   "id": "c829a7dadee158d4",
   "metadata": {},
   "outputs": [],
   "source": [
    "dataset = pluto_buildings.auctus.load_dataset_from_auctus()"
   ]
  },
  {
   "cell_type": "markdown",
   "id": "4c096db918da67f0",
   "metadata": {},
   "source": [
    "## Step 5: Load Your Auctus Dataset into OSMNxMapping\n",
    "\n",
    "We convert the loaded dataset into a format compatible with OSMNxMapping using `load_from_dataframe`. This method transposes the data into a `geopandas.GeoDataFrame`, specifying the latitude and longitude columns. We then display it interactively with `interactive_display` (which uses `Skrub` for interactive data exploration).\n",
    "\n",
    "> **Note**: Adjust `\"latitude\"` and `\"longitude\"` to match your dataset's actual column names if they differ."
   ]
  },
  {
   "cell_type": "code",
   "execution_count": null,
   "id": "6bb7ee4153ac43f8",
   "metadata": {},
   "outputs": [],
   "source": [
    "loaded_data = pluto_buildings.loader.load_from_dataframe(\n",
    "    input_dataframe=dataset,\n",
    "    latitude_column=\"latitude\",  # Replace with your dataset's latitude column name\n",
    "    longitude_column=\"longitude\"  # Replace with your dataset's longitude column name\n",
    ")\n",
    "pluto_buildings.table_vis.interactive_display(loaded_data)"
   ]
  },
  {
   "cell_type": "markdown",
   "id": "17dc45eb742b7e14",
   "metadata": {},
   "source": [
    "## Step 6: Query a Road Network\n",
    "\n",
    "We query the road network for Manhattan using `network_from_place`. Setting `render=True` displays a plot of the network."
   ]
  },
  {
   "cell_type": "code",
   "execution_count": null,
   "id": "6e801df05d3f068f",
   "metadata": {},
   "outputs": [],
   "source": [
    "graph, nodes, edges = pluto_buildings.road_networks.network_from_place(\"Manhattan, New York City, USA\", render=True)"
   ]
  },
  {
   "cell_type": "markdown",
   "id": "e24b0c9c531bda39",
   "metadata": {},
   "source": [
    "## Step 7: Geo Preprocessing Your Dataset\n",
    "\n",
    "We perform two preprocessing steps:\n",
    "\n",
    "1. **Impute Missing Values**: Drop rows with missing latitude or longitude values using the default `SimpleGeoImputer`. To see if you have some use the interactive viz. of Skrub, click on a column say latitude or longitude and you'll see a distribution and the number of missing values.\n",
    "2. **Filter Data**: Keep only points within the road network's bounding box using `BoundingBoxFilter`.\n",
    "\n",
    "> **Note**: Each `PreprocessingMixin` instance can only perform one action (impute or filter). We reuse the mixin for each step here. For advanced preprocessing, see the `PreprocessingMixin` API."
   ]
  },
  {
   "cell_type": "markdown",
   "id": "a4176ce23063f391",
   "metadata": {},
   "source": [
    "### Substep 1: Impute Missing Values"
   ]
  },
  {
   "cell_type": "code",
   "execution_count": null,
   "id": "d1e1e678ec27eac3",
   "metadata": {},
   "outputs": [],
   "source": [
    "loaded_data = (\n",
    "    pluto_buildings.preprocessing\n",
    "    .with_default_imputer(latitude_column_name=\"latitude\", longitude_column_name=\"longitude\")\n",
    "    .transform(input_data=loaded_data)\n",
    ")"
   ]
  },
  {
   "cell_type": "markdown",
   "id": "9485c07f5661332d",
   "metadata": {},
   "source": [
    "### Substep 2: Filter Data Within Bounding Box\n",
    "\n",
    "Note that this is most of the time very useful especially say your data is for NYC entirely but you are focusing only on Manhattan, you better be filtering this out; otherwise, you may have outliers that could skew your urban pipeline analysis here.\n",
    "\n",
    "Here below we use CreatePreprocessor. Which is the same pluto_buildings.preprocessing... However, it creates a new instance. That is because we do not allow to have two instances of a preprocessing with different actions (imputer vs. filter). Though for consistences, we could have used two times the CreatePreprocessor but we wanted to show what's possible. When there is only one preprocessing action, I would recommend using the above's. When more than one simply use CreatePreprocessor it'll be much easier."
   ]
  },
  {
   "cell_type": "code",
   "execution_count": null,
   "id": "58360dd478d040a5",
   "metadata": {},
   "outputs": [],
   "source": [
    "from osmnx_mapping.modules.preprocessing import CreatePreprocessor\n",
    "\n",
    "loaded_data = (\n",
    "    CreatePreprocessor().with_filter(\n",
    "        filter_type=\"BoundingBoxFilter\",\n",
    "        nodes=nodes\n",
    "    ).build().transform(loaded_data)\n",
    ")"
   ]
  },
  {
   "cell_type": "markdown",
   "id": "ea1d47e9c2262b59",
   "metadata": {},
   "source": [
    "## Step 8: Map the Loaded Data to the Nearest Street Nodes\n",
    "\n",
    "We map each data point (e.g., a building) to the nearest node in the road network using `map_nearest_street`. This adds a column (default: `\"nearest_node\"`) to `loaded_data` with the ID of the closest node, which is crucial for the enrichment step."
   ]
  },
  {
   "cell_type": "code",
   "execution_count": null,
   "id": "561bfc823574998d",
   "metadata": {},
   "outputs": [],
   "source": [
    "loaded_data = pluto_buildings.road_networks.map_nearest_street(\n",
    "    data=loaded_data,\n",
    "    longitude_column=\"longitude\",\n",
    "    latitude_column=\"latitude\"\n",
    ")"
   ]
  },
  {
   "cell_type": "markdown",
   "id": "2893441034a33646",
   "metadata": {},
   "source": [
    "## Step 9: Enrich the Network with the Loaded Data\n",
    "\n",
    "We enrich the network by calculating the average number of floors (`\"numfloors\"`) per street segment. We use the `with_default` method for simplicity, configuring the enricher to aggregate data by `\"nearest_node\"` using the `mean` method.\n",
    "\n",
    "Then, we apply the enricher to the network with `enrich_network`.\n",
    "\n",
    "> **Tip**: For more advanced configurations see the `EnricherMixin` API for details."
   ]
  },
  {
   "cell_type": "code",
   "execution_count": null,
   "id": "ef79e889a88656e1",
   "metadata": {},
   "outputs": [],
   "source": [
    "# Configure a default enricher\n",
    "pluto_buildings.enricher.with_default(\n",
    "    group_by_column=\"nearest_node\",\n",
    "    values_from_column=\"numfloors\",\n",
    "    output_column=\"avg_numfloors\",\n",
    "    method=\"mean\",\n",
    "    edge_method=\"average\"\n",
    ")\n",
    "\n",
    "# Apply the enricher to the network\n",
    "enriched_data, graph, nodes, edges = pluto_buildings.enricher.enrich_network(\n",
    "    input_data=loaded_data,\n",
    "    input_graph=graph,\n",
    "    input_nodes=nodes,\n",
    "    input_edges=edges\n",
    ")"
   ]
  },
  {
   "cell_type": "markdown",
   "id": "f48d94755e808b46",
   "metadata": {},
   "source": [
    "## Step 10: Visualise Your Enriched Network\n",
    "\n",
    "We visualise the enriched network in two ways:\n",
    "\n",
    "1. **Static Visualisation**: Using the default `StaticVisualiser` to create a Matplotlib plot.\n",
    "2. **Interactive Visualisation**: Using `InteractiveVisualiser` for a Folium map.\n",
    "\n",
    "> **Note**: Ensure you have the necessary Jupyter extensions installed for interactive visualisations (see the README's Installation section)."
   ]
  },
  {
   "cell_type": "markdown",
   "id": "8e26a43b1dc16284",
   "metadata": {},
   "source": [
    "### Substep 1: Static Visualisation (Matplotlib)"
   ]
  },
  {
   "cell_type": "code",
   "execution_count": null,
   "id": "92ee389ee801bd5d",
   "metadata": {},
   "outputs": [],
   "source": [
    "viz = pluto_buildings.visual.visualise(graph=graph, nodes=nodes, edges=edges, result_columns=\"avg_numfloors\")\n",
    "viz"
   ]
  },
  {
   "cell_type": "markdown",
   "id": "4777f8383adcc7e5",
   "metadata": {},
   "source": [
    "### Substep 2: Interactive Visualisation (Folium)"
   ]
  },
  {
   "cell_type": "code",
   "execution_count": null,
   "id": "9d36c2dd77e9efc8",
   "metadata": {},
   "outputs": [],
   "source": [
    "from osmnx_mapping.modules.visualiser.visualisers import InteractiveVisualiser\n",
    "\n",
    "pluto_buildings = oxm.OSMNxMapping() # Refreshing the instance to avoid the visualiser to be confused between static and interactive visualiser.\n",
    "\n",
    "viz = pluto_buildings.visual(visualiser=InteractiveVisualiser()).visualise(graph=graph, nodes=nodes, edges=edges, result_columns=\"avg_numfloors\")\n",
    "viz"
   ]
  },
  {
   "cell_type": "markdown",
   "id": "d1901c3cfeab4b2f",
   "metadata": {},
   "source": [
    "## Conclusion\n",
    "\n",
    "Voila! 🥐 You've successfully mapped the PLUTO buildings dataset to Manhattan's street network, enriched it with the average number of floors per street segment, and visualised the results both statically and interactively. 🎉\n",
    "\n",
    "This is just the beginning—explore the [OSMNxMapping API](https://github.com/VIDA-NYU/OSMNXMapping#api) and the `examples/` directory for more advanced features and use cases. Happy urban mapping! 🌆"
   ]
  },
  {
   "cell_type": "code",
   "execution_count": null,
   "id": "b385694efb6c7c2d",
   "metadata": {},
   "outputs": [],
   "source": []
  }
 ],
 "metadata": {
  "kernelspec": {
   "display_name": "Python 3 (ipykernel)",
   "language": "python",
   "name": "python3"
  },
  "language_info": {
   "codemirror_mode": {
    "name": "ipython",
    "version": 3
   },
   "file_extension": ".py",
   "mimetype": "text/x-python",
   "name": "python",
   "nbconvert_exporter": "python",
   "pygments_lexer": "ipython3",
   "version": "3.10.12"
  }
 },
 "nbformat": 4,
 "nbformat_minor": 5
}
