{
 "cells": [
  {
   "cell_type": "markdown",
   "metadata": {},
   "source": [
    "# Welcome to OSMNxMapping ☀️!\n",
    "\n",
    "This Jupyter notebook demonstrates how to use the OSMNxMapping library to map urban taxi trip data to street networks, step by step. We'll focus on taxi trips in New York City, showcasing a different enrichment approach compared to `1-OSMNX_MAPPING_with_Auctus_basics`'s notebook. Here, we'll:\n",
    "\n",
    "- Import the library.\n",
    "- Initialise an OSMNxMapping instance.\n",
    "- Search for taxi trip datasets using Auctus (or load manually).\n",
    "- Load the selected dataset.\n",
    "- Convert the dataset for OSMNxMapping.\n",
    "- Query a road network.\n",
    "- Map data to street nodes.\n",
    "- Preprocess the data (imputing and filtering).\n",
    "- Enrich the network by counting trips (with a preview).\n",
    "- Visualise the results.\n",
    "\n",
    "Let's dive in! 🚕"
   ]
  },
  {
   "cell_type": "markdown",
   "metadata": {},
   "source": [
    "## Step 1: Import the Library\n",
    "\n",
    "We begin by importing the `osmnx_mapping` library with the alias `oxm` for convenience."
   ]
  },
  {
   "cell_type": "code",
   "execution_count": 1,
   "metadata": {},
   "outputs": [],
   "source": [
    "import osmnx_mapping as oxm"
   ]
  },
  {
   "cell_type": "markdown",
   "metadata": {},
   "source": [
    "## Step 2: Initialise an OSMNxMapping Instance\n",
    "\n",
    "Next, we create an instance of `OSMNxMapping` named `taxi_trips`. This instance will manage our taxi trip data and road network analysis. At this stage, no data is loaded or queried—it’s just the foundation for our next steps."
   ]
  },
  {
   "cell_type": "code",
   "execution_count": 2,
   "metadata": {},
   "outputs": [],
   "source": [
    "taxi_trips = oxm.OSMNxMapping()"
   ]
  },
  {
   "cell_type": "markdown",
   "metadata": {},
   "source": [
    "## Step 3: Search for Datasets\n",
    "\n",
    "We use the `AuctusSearchMixin` to search for datasets related to \"taxis\" via the Auctus API. Setting `display_initial_results=True` shows an interactive grid of dataset cards in the notebook.\n",
    "\n",
    "> **Note**: After running this cell, browse the displayed datasets and click \"Select This Dataset\" on the one you want to use (e.g., a NYC taxi trip dataset). Alternatively, you can load taxi trip data manually from a file—see the `examples/` folder in the repository for examples like loading from CSV or Parquet files."
   ]
  },
  {
   "cell_type": "code",
   "execution_count": 5,
   "metadata": {},
   "outputs": [
    {
     "data": {
      "application/vnd.jupyter.widget-view+json": {
       "model_id": "8c344d0e1cec4c68b9175c4f479849a6",
       "version_major": 2,
       "version_minor": 0
      },
      "text/plain": [
       "Output(outputs=({'output_type': 'display_data', 'data': {'text/plain': \"Label(value='', layout=Layout(margin='…"
      ]
     },
     "metadata": {},
     "output_type": "display_data"
    }
   ],
   "source": [
    "collection = taxi_trips.auctus.search_datasets(search_query=\"taxis, NYC\", size=100, display_initial_results=True)"
   ]
  },
  {
   "cell_type": "markdown",
   "metadata": {},
   "source": [
    "## Step 4: Load the Selected Dataset\n",
    "\n",
    "After selecting a dataset in Step 3, we load it into memory using `load_dataset_from_auctus()`. This returns a `pandas.DataFrame` or `geopandas.GeoDataFrame` and displays an interactive table preview by default."
   ]
  },
  {
   "cell_type": "code",
   "execution_count": null,
   "metadata": {},
   "outputs": [],
   "source": [
    "dataset = taxi_trips.auctus.load_dataset_from_auctus()"
   ]
  },
  {
   "cell_type": "markdown",
   "metadata": {},
   "source": [
    "## Step 5: Load Your Auctus Dataset into OSMNxMapping\n",
    "\n",
    "We convert the loaded dataset into a format compatible with OSMNxMapping using `load_from_dataframe`. This method transposes the data into a `geopandas.GeoDataFrame`, specifying the latitude and longitude columns. We then display it interactively with `interactive_display` (using Skrub).\n",
    "\n",
    "> **Note**: Adjust `\"latitude\"` and `\"longitude\"` to match your dataset’s actual column names if they differ (e.g., `\"pickup_latitude\"` and `\"pickup_longitude\"` for taxi data)."
   ]
  },
  {
   "cell_type": "code",
   "execution_count": null,
   "metadata": {},
   "outputs": [],
   "source": [
    "loaded_data = taxi_trips.loader.load_from_dataframe(\n",
    "    input_dataframe=dataset,\n",
    "    latitude_column=\"latitude\",  # Replace with your dataset's latitude column name\n",
    "    longitude_column=\"longitude\"  # Replace with your dataset's longitude column name\n",
    ")\n",
    "taxi_trips.table_vis.interactive_display(loaded_data)"
   ]
  },
  {
   "cell_type": "markdown",
   "metadata": {},
   "source": [
    "## Step 6: Query a Road Network\n",
    "\n",
    "We query the road network for Manhattan using `network_from_place`. Setting `render=True` displays a plot of the network."
   ]
  },
  {
   "cell_type": "code",
   "execution_count": null,
   "metadata": {},
   "outputs": [],
   "source": [
    "graph, nodes, edges = taxi_trips.road_networks.network_from_place(\"Manhattan, New York City, USA\", render=True)"
   ]
  },
  {
   "cell_type": "markdown",
   "metadata": {},
   "source": [
    "## Step 7: Geo Preprocessing Your Dataset\n",
    "\n",
    "We perform two preprocessing steps:\n",
    "\n",
    "1. **Impute Missing Values**: Drop rows with missing latitude or longitude values using the default `SimpleGeoImputer`.\n",
    "2. **Filter Data**: Keep only points within the road network’s bounding box using `BoundingBoxFilter`.\n",
    "\n",
    "> **Note**: Each `PreprocessingMixin` instance can only perform one action (impute or filter). We reuse the mixin for each step here. For advanced preprocessing, see the `PreprocessingMixin` API."
   ]
  },
  {
   "cell_type": "markdown",
   "metadata": {},
   "source": [
    "### Substep 1: Impute Missing Values"
   ]
  },
  {
   "cell_type": "code",
   "execution_count": null,
   "metadata": {},
   "outputs": [],
   "source": [
    "loaded_data = (\n",
    "    taxi_trips.preprocessing\n",
    "    .with_default_imputer(latitude_column_name=\"latitude\", longitude_column_name=\"longitude\")\n",
    "    .transform(input_data=loaded_data)\n",
    ")"
   ]
  },
  {
   "cell_type": "markdown",
   "metadata": {},
   "source": [
    "### Substep 2: Filter Data Within Bounding Box\n",
    "\n",
    "Note that this is most of the time very useful especially say your data is for NYC entirely but you are focussing only on Manhattan, you better be filtering this out otherwise you may have outliers that could skew your urban pipeline analysis here."
   ]
  },
  {
   "cell_type": "code",
   "execution_count": null,
   "metadata": {},
   "outputs": [],
   "source": [
    "loaded_data = (\n",
    "    taxi_trips.preprocessing\n",
    "    .with_default_filter(nodes=nodes)\n",
    "    .transform(input_data=loaded_data)\n",
    ")"
   ]
  },
  {
   "cell_type": "markdown",
   "metadata": {},
   "source": [
    "## Step 8: Map the Loaded Data to the Nearest Street Nodes\n",
    "\n",
    "We map each taxi trip to the nearest node in the road network using `map_nearest_street`. This adds a column (default: `\"nearest_node\"`) to `loaded_data` with the ID of the closest node, essential for the enrichment step."
   ]
  },
  {
   "cell_type": "code",
   "execution_count": null,
   "metadata": {},
   "outputs": [],
   "source": [
    "loaded_data = taxi_trips.road_networks.map_nearest_street(\n",
    "    data=loaded_data,\n",
    "    longitude_column=\"longitude\",\n",
    "    latitude_column=\"latitude\"\n",
    ")"
   ]
  },
  {
   "cell_type": "markdown",
   "metadata": {},
   "source": [
    "## Step 9: Enrich the Network with the Loaded Data\n",
    "\n",
    "We enrich the network by counting the number of taxi trips per street segment, using the `CreateEnricher` factory with `count_by` instead of `aggregate_with` (as used in Notebook 1). This counts occurrences by `\"nearest_node\"` without aggregating a specific value column.\n",
    "\n",
    "Before building the enricher, we preview its configuration with `preview()` to compare with Notebook 1’s approach.\n",
    "\n",
    "> **Tip**: Compare this `count_by` method with Notebook 1’s `aggregate_with` to see the difference in enrichment strategies!"
   ]
  },
  {
   "cell_type": "code",
   "execution_count": null,
   "metadata": {},
   "outputs": [],
   "source": [
    "from osmnx_mapping.modules.enricher import CreateEnricher\n",
    "\n",
    "# Configure the enricher to count trips\n",
    "count_enricher = (\n",
    "    CreateEnricher()\n",
    "    .with_data(group_by=\"nearest_node\")\n",
    "    .count_by(edge_method=\"average\", output_column=\"total_trips\")\n",
    ")\n",
    "\n",
    "# Preview the enricher configuration\n",
    "print(count_enricher.preview())\n",
    "\n",
    "# Build the enricher\n",
    "count_enricher = count_enricher.build()\n",
    "\n",
    "# Apply the enricher to the network\n",
    "enriched_data, graph, nodes, edges = taxi_trips.enricher(count_enricher).enrich_network(\n",
    "    input_data=loaded_data,\n",
    "    input_graph=graph,\n",
    "    input_nodes=nodes,\n",
    "    input_edges=edges\n",
    ")"
   ]
  },
  {
   "cell_type": "markdown",
   "metadata": {},
   "source": [
    "## Step 10: Visualise Your Enriched Network\n",
    "\n",
    "We visualise the enriched network in two ways:\n",
    "\n",
    "1. **Static Visualisation**: Using the default `StaticVisualiser` to create a Matplotlib plot.\n",
    "2. **Interactive Visualisation**: Using `InteractiveVisualiser` for a Folium map.\n",
    "\n",
    "> **Note**: Ensure you have the necessary Jupyter extensions installed for interactive visualisations (see the README’s Installation section)."
   ]
  },
  {
   "cell_type": "markdown",
   "metadata": {},
   "source": [
    "### Substep 1: Static Visualisation (Matplotlib)"
   ]
  },
  {
   "cell_type": "code",
   "execution_count": null,
   "metadata": {},
   "outputs": [],
   "source": [
    "viz = taxi_trips.visual.visualise(graph, edges, \"total_trips\")\n",
    "viz"
   ]
  },
  {
   "cell_type": "markdown",
   "metadata": {},
   "source": [
    "### Substep 2: Interactive Visualisation (Folium)"
   ]
  },
  {
   "cell_type": "code",
   "execution_count": null,
   "metadata": {},
   "outputs": [],
   "source": [
    "from osmnx_mapping.modules.visualiser.visualisers import InteractiveVisualiser\n",
    "\n",
    "taxi_trips = oxm.OSMNxMapping() # Refreshing the instance to avoid the visualiser to be confused between static and interactive visualiser.\n",
    "\n",
    "\n",
    "viz = taxi_trips.visual(visualiser=InteractiveVisualiser()).visualise(graph, edges, \"total_trips\")\n",
    "viz"
   ]
  },
  {
   "cell_type": "markdown",
   "metadata": {},
   "source": [
    "## Conclusion\n",
    "\n",
    "Voila! 🥐 You’ve successfully mapped taxi trip data to Manhattan’s street network, enriched it by counting trips per street segment, and visualised the results both statically and interactively. 🎉\n",
    "\n",
    "Compare this notebook with Notebook 1—notice how we used `count_by` here instead of `aggregate_with` to simply count trips rather than averaging a value like building floors. The `preview()` output highlights this difference in enrichment strategy.\n",
    "\n",
    "For more advanced features or to explore manual loading options, dive into the [OSMNxMapping API](https://github.com/VIDA-NYU/OSMNXMapping#api) and the `examples/` directory.\n",
    "\n",
    "Happy urban mapping! 🌆"
   ]
  },
  {
   "cell_type": "code",
   "execution_count": null,
   "metadata": {},
   "outputs": [],
   "source": []
  }
 ],
 "metadata": {
  "kernelspec": {
   "display_name": "Python 3 (ipykernel)",
   "language": "python",
   "name": "python3"
  },
  "language_info": {
   "codemirror_mode": {
    "name": "ipython",
    "version": 3
   },
   "file_extension": ".py",
   "mimetype": "text/x-python",
   "name": "python",
   "nbconvert_exporter": "python",
   "pygments_lexer": "ipython3",
   "version": "3.10.12"
  }
 },
 "nbformat": 4,
 "nbformat_minor": 4
}
