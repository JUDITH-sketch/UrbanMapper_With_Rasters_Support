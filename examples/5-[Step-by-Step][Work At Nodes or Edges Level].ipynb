{
 "cells": [
  {
   "cell_type": "markdown",
   "id": "47a7cf1b345a7894",
   "metadata": {},
   "source": [
    "# Welcome to OSMNxMapping ☀️!\n",
    "\n",
    "_Chapter 5_ will be about playing with a new parameter, the `target` parameter in OSMNxMapping. `Target` will primarily be useful when you do not want analysis to the edges' level but to the nodes' one or both nodes and edges.\n",
    "\n",
    "We'll process PLUTO building data from New York City, enriching a Manhattan street network with the average number of floors and experimenting with targeting nodes, edges, or both during enrichment and visualisation. This example demonstrates how `target` influences where data is enriched and how it’s displayed, offering flexibility in urban analysis workflows.\n",
    "\n",
    "**Goals**:\n",
    "- Import the OSMNxMapping library and necessary modules.\n",
    "- Initialise an OSMNxMapping instance.\n",
    "- Build a step-by-step workflow to load, preprocess, map, enrich, and visualise data.\n",
    "- Experiment with the `target` parameter in enrichment (`nodes`, `edges`, or `both`).\n",
    "- Visualise results with different `target` settings (`edges` and `both`).\n",
    "- Understand the impact of `target` on enrichment and visualisation outputs.\n",
    "\n",
    "This notebook uses local data (e.g., CSV format) without Auctus, focusing on a sample `pluto.csv` file. For simpler workflows, see chapter 1's notebook.\n",
    "\n",
    "Let’s get started! 🚀"
   ]
  },
  {
   "cell_type": "markdown",
   "id": "91dfdf4a8343d87c",
   "metadata": {},
   "source": [
    "## Step 1: Import the Library and Modules\n",
    "\n",
    "We import the `osmnx_mapping` library as `oxm`, along with `osmnx` and `geopandas` for network and geospatial operations. These modules support our pipeline steps."
   ]
  },
  {
   "cell_type": "code",
   "execution_count": null,
   "id": "4675b75bdc4428ba",
   "metadata": {},
   "outputs": [],
   "source": [
    "import osmnx_mapping as oxm\n",
    "import osmnx as ox\n",
    "import geopandas as gpd"
   ]
  },
  {
   "cell_type": "markdown",
   "id": "f38ca8d791d9f4b9",
   "metadata": {},
   "source": [
    "## Step 2: Initialise an OSMNxMapping Instance\n",
    "\n",
    "We create an `OSMNxMapping` instance named `mapping`. This instance manages our urban data processing workflow."
   ]
  },
  {
   "cell_type": "code",
   "execution_count": null,
   "id": "f75a158216d055ff",
   "metadata": {},
   "outputs": [],
   "source": [
    "mapping = oxm.OSMNxMapping()"
   ]
  },
  {
   "cell_type": "markdown",
   "id": "1407977eab9e8859",
   "metadata": {},
   "source": [
    "## Step 3: Load the PLUTO Data\n",
    "\n",
    "We load PLUTO building data from a CSV file using the `loader` mixin, specifying latitude and longitude columns.\n",
    "\n",
    "> **Note**: Adjust the file path (`../data/PLUTO/csv/pluto.csv`) and ensure column names match your dataset."
   ]
  },
  {
   "cell_type": "code",
   "execution_count": null,
   "id": "df121a38b244ae11",
   "metadata": {},
   "outputs": [],
   "source": [
    "data = mapping.loader.load_from_file(\n",
    "    \"../data/PLUTO/csv/pluto.csv\", latitude_column=\"latitude\", longitude_column=\"longitude\"\n",
    ")"
   ]
  },
  {
   "cell_type": "markdown",
   "id": "5c87c20d3a29e9d8",
   "metadata": {},
   "source": [
    "## Step 4: Query the Manhattan Street Network\n",
    "\n",
    "Using the `road_networks` mixin, we fetch a drive network for Manhattan, returning the graph, nodes, and edges."
   ]
  },
  {
   "cell_type": "code",
   "execution_count": null,
   "id": "6d90c3e112632127",
   "metadata": {},
   "outputs": [],
   "source": [
    "graph, nodes, edges = mapping.road_networks.network_from_place(\"Manhattan, New York City, USA\")"
   ]
  },
  {
   "cell_type": "markdown",
   "id": "70336258fc8b6636",
   "metadata": {},
   "source": [
    "## Step 5: Impute Missing Coordinates\n",
    "\n",
    "We apply `SimpleGeoImputer` to drop rows with missing coordinates, ensuring clean data for mapping."
   ]
  },
  {
   "cell_type": "code",
   "execution_count": null,
   "id": "aa0d39a4339bd6d0",
   "metadata": {},
   "outputs": [],
   "source": [
    "data = (\n",
    "    mapping.preprocessing\n",
    "    .with_default_imputer(latitude_column_name=\"latitude\", longitude_column_name=\"longitude\")\n",
    "    .transform(input_data=data)\n",
    ")"
   ]
  },
  {
   "cell_type": "markdown",
   "id": "a043f4c8b728b05f",
   "metadata": {},
   "source": [
    "## Step 6: Filter Data by Bounding Box\n",
    "\n",
    "We use `CreatePreprocessor` with a `BoundingBoxFilter` to retain only data within the network’s spatial bounds."
   ]
  },
  {
   "cell_type": "code",
   "execution_count": null,
   "id": "59d2342b34454fae",
   "metadata": {},
   "outputs": [],
   "source": [
    "from osmnx_mapping.modules.preprocessing import CreatePreprocessor\n",
    "\n",
    "data = (\n",
    "    CreatePreprocessor().with_filter(\n",
    "        filter_type=\"BoundingBoxFilter\",\n",
    "        nodes=nodes\n",
    "    ).build().transform(data)\n",
    ")"
   ]
  },
  {
   "cell_type": "markdown",
   "id": "1382f8c854e3ed11",
   "metadata": {},
   "source": [
    "## Step 7: Map Data to Nearest Nodes\n",
    "\n",
    "We map building coordinates to the nearest street nodes using the `road_networks` mixin, storing results in `nearest_node`."
   ]
  },
  {
   "cell_type": "code",
   "execution_count": null,
   "id": "428decad3f447ff3",
   "metadata": {},
   "outputs": [],
   "source": [
    "mapped_data = mapping.road_networks.map_nearest_street(\n",
    "    data, longitude_column=\"longitude\", latitude_column=\"latitude\"\n",
    ")"
   ]
  },
  {
   "cell_type": "markdown",
   "id": "c9f989b89578770d",
   "metadata": {},
   "source": [
    "## Step 8: Enrich the Network with Target Exploration\n",
    "\n",
    "We create an enricher to compute the average number of floors per node, targeting `both` nodes and edges. The `target` parameter (`nodes`, `edges`, or `both`) controls where enrichment is applied. We preview the configuration before building.\n",
    "\n",
    "> **Experiment**: Using `target=\"both\"` enriches both nodes and edges, allowing us to test its effect in visualisation."
   ]
  },
  {
   "cell_type": "code",
   "execution_count": null,
   "id": "c784d74acb4631cf",
   "metadata": {},
   "outputs": [],
   "source": [
    "enricher = (\n",
    "    oxm.CreateEnricher()\n",
    "    .with_data(group_by=\"nearest_node\", values_from=\"numfloors\")\n",
    "    .aggregate_with(method=\"mean\", target=\"both\", output_column=\"avg_floors\")\n",
    ")\n",
    "print(enricher.preview())\n",
    "\n",
    "enricher = enricher.build()\n",
    "_, enriched_graph, enriched_nodes, enriched_edges = enricher.enrich(\n",
    "    mapped_data, graph, nodes, edges\n",
    ")"
   ]
  },
  {
   "cell_type": "markdown",
   "id": "93f2ecd3dbc74222",
   "metadata": {},
   "source": [
    "## Step 9: Visualise with Target=\"edges\"\n",
    "\n",
    "We use `StaticVisualiser` with `target=\"edges\"` to focus on street segments, displaying the average floor counts statically."
   ]
  },
  {
   "cell_type": "code",
   "execution_count": null,
   "id": "c5a7cf563e13ac3d",
   "metadata": {},
   "outputs": [],
   "source": [
    "fig = mapping.visual(visualiser=oxm.StaticVisualiser()).visualise(\n",
    "    enriched_graph, enriched_nodes, enriched_edges, result_columns=\"avg_floors\", target=\"edges\"\n",
    ")\n",
    "fig"
   ]
  },
  {
   "cell_type": "markdown",
   "id": "f79c031592e68a31",
   "metadata": {},
   "source": [
    "## Step 9: Visualise with Target=\"Nodes\"\n",
    "\n",
    "We use `InteractiveVisualiser` with `target=\"Nodes\"` to display both Nodes interactively, showing the combined enrichment effect.\n",
    "\n",
    "> **Note**: Install Jupyter extensions for interactive visualisation (see README)."
   ]
  },
  {
   "cell_type": "code",
   "execution_count": null,
   "id": "d8fc228ed96ed9de",
   "metadata": {},
   "outputs": [],
   "source": [
    "fig = mapping.visual(visualiser=oxm.InteractiveVisualiser()).visualise(\n",
    "    enriched_graph, enriched_nodes, enriched_edges, result_columns=\"avg_floors\", target=\"nodes\"\n",
    ")\n",
    "fig"
   ]
  },
  {
   "cell_type": "markdown",
   "id": "7fd93b5541de96b1",
   "metadata": {},
   "source": [
    "## Step 11: Visualise with Target=\"both\"\n",
    "\n",
    "We use `InteractiveVisualiser` with `target=\"both\"` to display both nodes and edges interactively, showing the combined enrichment effect.\n",
    "\n",
    "> **Note**: Install Jupyter extensions for interactive visualisation (see README)."
   ]
  },
  {
   "cell_type": "code",
   "execution_count": null,
   "id": "104ae1765d114246",
   "metadata": {},
   "outputs": [],
   "source": [
    "fig = mapping.visual(visualiser=oxm.InteractiveVisualiser()).visualise(\n",
    "    enriched_graph, enriched_nodes, enriched_edges, result_columns=\"avg_floors\", target=\"both\"\n",
    ")\n",
    "fig"
   ]
  },
  {
   "cell_type": "markdown",
   "id": "b305a7bfe66cf60f",
   "metadata": {},
   "source": [
    "## Conclusion\n",
    "\n",
    "Congratulations! 🎉 You’ve explored the `target` parameter with 'Advanced Pipelining [Exploring Targets]' in OSMNxMapping. By enriching a Manhattan network with PLUTO data and visualising it with `target=\"edges\"` and `target=\"both\"`, you’ve seen how it controls enrichment placement and visualisation focus. This flexibility enhances urban analysis precision.\n",
    "\n",
    "For simpler workflows, see 'Basic Pipelining'. For multiple mappings or enrichments, check 'Advanced Pipelining [Multiple Mappings and Enrichments]' or 'Advanced Pipelining [Multiple Enrichments]'. Dive into the OSMNxMapping API docs and `examples/` for more!\n",
    "\n",
    "Happy urban mapping! 🌆"
   ]
  },
  {
   "cell_type": "code",
   "execution_count": null,
   "id": "6a1344014f9c0e6a",
   "metadata": {},
   "outputs": [],
   "source": []
  }
 ],
 "metadata": {
  "kernelspec": {
   "display_name": "Python 3 (ipykernel)",
   "language": "python",
   "name": "python3"
  },
  "language_info": {
   "codemirror_mode": {
    "name": "ipython",
    "version": 3
   },
   "file_extension": ".py",
   "mimetype": "text/x-python",
   "name": "python",
   "nbconvert_exporter": "python",
   "pygments_lexer": "ipython3",
   "version": "3.10.12"
  }
 },
 "nbformat": 4,
 "nbformat_minor": 5
}
