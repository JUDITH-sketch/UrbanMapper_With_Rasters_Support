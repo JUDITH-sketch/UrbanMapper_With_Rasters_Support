{
 "cells": [
  {
   "cell_type": "markdown",
   "id": "58faece1-8fcb-4714-8f2f-f75ea09eff3b",
   "metadata": {},
   "source": [
    "# Welcome to OSMNxMapping ☀️!\n",
    "\n",
    "_Chapter 6_ will be the first notebook showcasing a basic, concise, and reproducible workflow using the `UrbanPipeline` class in OSMNxMapping. For the connaisseur, we try to mimick a `Scikit-Learn` based pipeline but for OSMNxMapping. That is, if you followed chapter 1, the steps would be all the steps done in a couple of cells now in one.\n",
    "\n",
    "We'll process PLUTO (Primary Land Use Tax Lot Output) building data from New York City, enrich a Manhattan road network with the average number of floors per street segment, and demonstrate how to save and load the pipeline for later use.\n",
    "\n",
    "Of course, you can re-use it as for a machine learning Sklearn's model.\n",
    "\n",
    "**Goal**: Learn to:\n",
    "- Import the OSMNxMapping library and necessary modules.\n",
    "- Initialise an OSMNxMapping instance.\n",
    "- Build a pipeline with steps for loading, preprocessing, networking, enriching, and visualising.\n",
    "- Execute the pipeline in one go with `compose_transform`.\n",
    "- Visualise the enriched network.\n",
    "- Save the pipeline to a file.\n",
    "- Load the pipeline and reuse it.\n",
    "\n",
    "Unlike previous notebooks, we won’t use Auctus here—data must be available locally in CSV, Shapefile, or Parquet format. We'll use a sample CSV file (`pluto.csv`). For foundational steps or alternative approaches, refer to the chapter 1's notebook.\n",
    "\n",
    "Let’s get started! 🚀"
   ]
  },
  {
   "cell_type": "markdown",
   "id": "97a1ac31-acd3-465b-8869-38f81ac9b571",
   "metadata": {},
   "source": [
    "## Step 1: Import the Library and Modules\n",
    "\n",
    "We begin by importing the `osmnx_mapping` library with the alias `oxm`, along with the necessary pipeline and module classes to build our workflow."
   ]
  },
  {
   "cell_type": "code",
   "execution_count": null,
   "id": "3e1a2122-1e84-4062-982a-f937ba0bd2de",
   "metadata": {},
   "outputs": [],
   "source": [
    "import osmnx_mapping as oxm\n",
    "from osmnx_mapping.modules.network import OSMNxNetwork\n",
    "from osmnx_mapping.modules.loader import CSVLoader\n",
    "from osmnx_mapping.modules.preprocessing import CreatePreprocessor\n",
    "from osmnx_mapping.modules.enricher import CreateEnricher\n",
    "from osmnx_mapping.modules.visualiser import InteractiveVisualiser, StaticVisualiser\n",
    "from osmnx_mapping.pipeline import UrbanPipeline\n",
    "from osmnx_mapping import CreateNetwork"
   ]
  },
  {
   "cell_type": "markdown",
   "id": "3b7a7ae4-5407-41eb-af64-4bfad19cfcd9",
   "metadata": {},
   "source": [
    "## Step 2: Initialise an OSMNxMapping Instance\n",
    "\n",
    "We create an instance of `OSMNxMapping` named `pluto_buildings`. This instance will serve as the foundation for managing our pipeline and urban data analysis."
   ]
  },
  {
   "cell_type": "code",
   "execution_count": null,
   "id": "426f37f0-563f-4f5c-88ff-df679394b98d",
   "metadata": {},
   "outputs": [],
   "source": [
    "pluto_buildings = oxm.OSMNxMapping()"
   ]
  },
  {
   "cell_type": "markdown",
   "id": "4bc23c79-6194-4cd3-98d5-b7f1a4d847da",
   "metadata": {},
   "source": [
    "## Step 3: Build the Urban Pipeline\n",
    "\n",
    "We construct an `UrbanPipeline` with a series of steps to process our data:\n",
    "\n",
    "- **Network**: Query a Manhattan road network using `OSMNxNetwork`. Inform which mapping is of interest, i.e. `map_nearest_nodes` `map_nearest_edges` so that your dataset's records can be enriched with the nearest <node/edge> in the querried network.\n",
    "- **Load**: Load PLUTO building data from a CSV file (`pluto.csv`) with `CSVLoader`.\n",
    "- **Impute**: Drop rows with missing latitude/longitude using `SimpleGeoImputer`.\n",
    "- **Filter**: Keep data within the network’s bounding box using `BoundingBoxFilter`.\n",
    "- **Enrich**: Calculate the average number of floors per street segment with `CreateEnricher`.\n",
    "- **Visualise**: Set up a `StaticVisualiser` for static output (we’ll switch to interactive later).\n",
    "\n",
    "> **Note**: Ensure the file path (`\"./pluto.csv\"`) matches your local CSV file’s location. Adjust column names (`\"latitude\"`, `\"longitude\"`, `\"numfloors\"`) if they differ in your dataset."
   ]
  },
  {
   "cell_type": "code",
   "execution_count": null,
   "id": "b536d3a8-05c9-4bdc-80d2-24528b470165",
   "metadata": {},
   "outputs": [],
   "source": [
    "pipeline = UrbanPipeline([\n",
    "    (\"load\", CSVLoader(file_path=\"./../data/PLUTO/csv/pluto.csv\")),\n",
    "    (\"network\", CreateNetwork()\n",
    "        .with_place(\"Manhattan, NYC\", network_type=\"drive\")\n",
    "        .with_mapping(\n",
    "            mapping_type=\"node\",\n",
    "            longitude_column_name=\"longitude\",\n",
    "            latitude_column_name=\"latitude\",\n",
    "            output_column=\"nearest_node\"\n",
    "        ).build()\n",
    "    ),    \n",
    "    (\"impute\", CreatePreprocessor()\n",
    "         .with_imputer(\n",
    "            imputer_type=\"SimpleGeoImputer\",\n",
    "        ).build()\n",
    "    ),\n",
    "    (\"filter\", CreatePreprocessor()\n",
    "         .with_filter(\n",
    "            filter_type=\"BoundingBoxFilter\"\n",
    "        ).build()\n",
    "    ),\n",
    "    (\"enrich\", CreateEnricher()\n",
    "        .with_data(group_by=\"nearest_node\", values_from=\"numfloors\")\n",
    "        .aggregate_with(method=\"mean\", edge_method=\"average\", output_column=\"avg_numfloors\")\n",
    "        .build()\n",
    "    ),\n",
    "    (\"viz\", StaticVisualiser())\n",
    "])"
   ]
  },
  {
   "cell_type": "markdown",
   "id": "6c583e3d-08b4-4463-98d9-475f4afde4b5",
   "metadata": {},
   "source": [
    "## Step 4: Execute the Pipeline\n",
    "\n",
    "We run the pipeline in one concise step using `compose_transform`, which configures and executes all steps (loading, preprocessing, networking, enriching). We specify the latitude and longitude column names required for the workflow.\n",
    "\n",
    "Note that you could have done the `.compose(latitude_column_name, longitude_column_name)` and `.transform()` steps separately as well. Hence here you can assume that compose will feed all steps with the latitude column name and longitude column name as a requirement to their initialisation / usage –– unless you are setting them in the pipeline initialisation.\n",
    "\n",
    "This returns the processed data, enriched graph, nodes, and edges."
   ]
  },
  {
   "cell_type": "code",
   "execution_count": null,
   "id": "fe842d47-8d45-4b44-b342-96689fbfef21",
   "metadata": {},
   "outputs": [],
   "source": [
    "data, graph, nodes, edges = pipeline.compose_transform(\n",
    "    latitude_column_name=\"latitude\",\n",
    "    longitude_column_name=\"longitude\"\n",
    ")"
   ]
  },
  {
   "cell_type": "markdown",
   "id": "111a6db1-e308-4de1-8bbf-2390ad445112",
   "metadata": {},
   "source": [
    "## Step 5: Visualise the Enriched Network\n",
    "\n",
    "We visualise the enriched network using the pipeline’s `visualise` method with the `StaticVisualiser` defined in the pipeline. This creates a static Matplotlib plot showing the average number of floors per street segment."
   ]
  },
  {
   "cell_type": "code",
   "execution_count": null,
   "id": "2047017e-73ff-4ae3-aa6f-ef4c21643c76",
   "metadata": {},
   "outputs": [],
   "source": [
    "pipeline.visualise(result_columns=\"avg_numfloors\")"
   ]
  },
  {
   "cell_type": "code",
   "execution_count": null,
   "id": "72c86abd-3705-4fff-8684-f92027645a65",
   "metadata": {},
   "outputs": [],
   "source": []
  }
 ],
 "metadata": {
  "kernelspec": {
   "display_name": "Python 3 (ipykernel)",
   "language": "python",
   "name": "python3"
  },
  "language_info": {
   "codemirror_mode": {
    "name": "ipython",
    "version": 3
   },
   "file_extension": ".py",
   "mimetype": "text/x-python",
   "name": "python",
   "nbconvert_exporter": "python",
   "pygments_lexer": "ipython3",
   "version": "3.10.12"
  }
 },
 "nbformat": 4,
 "nbformat_minor": 5
}
