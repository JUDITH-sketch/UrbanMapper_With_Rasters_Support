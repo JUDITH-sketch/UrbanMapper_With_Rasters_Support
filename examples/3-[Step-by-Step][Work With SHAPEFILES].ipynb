{
 "cells": [
  {
   "cell_type": "markdown",
   "id": "313691ec1582522",
   "metadata": {},
   "source": [
    "# Welcome to OSMNxMapping ☀️!\n",
    "\n",
    "_Chapter 3_ will be about exploring how to load a shapefile containing geometry-based information (e.g., buildings in New York City from the PLUTO dataset)—that is assuming latitude and longitude-related information are not available –– into OSMNxMapping and visualise it interactively using Skrub.\n",
    "\n",
    "Unlike datasets with explicit latitude and longitude columns, shapefiles rely on geometry data, which OSMNxMapping handles seamlessly—thanks to a loader module that handles various data formats, such as, as shown here, shapefiles.\n",
    "\n",
    "**Goal**: Learn to:\n",
    "- Import the OSMNxMapping library.\n",
    "- Initialise an OSMNxMapping instance.\n",
    "- Load a shapefile without separate latitude/longitude columns.\n",
    "- Visualise the loaded data interactively with Skrub.\n",
    "\n",
    "We'll use an example shapefile (`MapPLUTO.shp`) (from MapPLUTO - Shoreline Clipped (Shapefile)\t/ https://www.nyc.gov/site/planning/data-maps/open-data/dwn-pluto-mappluto.page) representing NYC buildings. For further steps like querying road networks, mapping data, or enriching networks, please refer to the chapter 1's notebook.\n",
    "\n",
    "Let's get started! 🚀"
   ]
  },
  {
   "cell_type": "markdown",
   "id": "554c3df7e6d9e893",
   "metadata": {},
   "source": [
    "## Step 1: Import the Library\n",
    "\n",
    "We begin by importing the `osmnx_mapping` library with the alias `oxm` for ease of use."
   ]
  },
  {
   "cell_type": "code",
   "execution_count": null,
   "id": "cbdc36a826b58a1a",
   "metadata": {},
   "outputs": [],
   "source": [
    "import osmnx_mapping as oxm"
   ]
  },
  {
   "cell_type": "markdown",
   "id": "84b9e4473b7e7d04",
   "metadata": {},
   "source": [
    "## Step 2: Initialise an OSMNxMapping Instance\n",
    "\n",
    "Next, we create an instance of `OSMNxMapping` named `pluto_buildings`. This instance will manage our urban data. At this stage, no data is loaded—it’s just the foundation for our next steps."
   ]
  },
  {
   "cell_type": "code",
   "execution_count": null,
   "id": "c1c9e98367df4fbe",
   "metadata": {},
   "outputs": [],
   "source": [
    "pluto_buildings = oxm.OSMNxMapping()"
   ]
  },
  {
   "cell_type": "markdown",
   "id": "32958dc1b8ae375c",
   "metadata": {},
   "source": [
    "## Step 3: Load the Shapefile\n",
    "\n",
    "We load the shapefile `MapPLUTO.shp` using the `load_from_file` method from the `LoaderMixin`. Since this is a shapefile with geometry information (rather than separate latitude and longitude columns), we don’t need to specify those columns—OSMNxMapping automatically extracts representative points from the geometry.\n",
    "\n",
    "> **Note**: Ensure the file path (`\"./MapPLUTO.shp\"`) matches the location of your shapefile. Adjust it if necessary."
   ]
  },
  {
   "cell_type": "code",
   "execution_count": null,
   "id": "622d635ac87d54d8",
   "metadata": {},
   "outputs": [],
   "source": [
    "data = pluto_buildings.loader.load_from_file(\n",
    "    file_path=\"./../data/PLUTO/shp/MapPLUTO.shp\"\n",
    ")"
   ]
  },
  {
   "cell_type": "markdown",
   "id": "371350596aa43122",
   "metadata": {},
   "source": [
    "## Step 4: Visualise the Loaded Data Interactively\n",
    "\n",
    "Now, we use the `TableVisMixin`’s `interactive_display` method to visualise the loaded data interactively with Skrub. This creates a sortable, filterable table in the notebook, allowing you to explore the dataset’s attributes (e.g., building details from PLUTO).\n",
    "\n",
    "More importantly, it'll show two new \"temporary\" columns that are the projected latitude and longitude based on the geometry of the shapefile.\n",
    "\n",
    "> **Tip**: Skrub’s interactive table lets you sort columns, apply filters, and inspect the data easily. Try it out!"
   ]
  },
  {
   "cell_type": "code",
   "execution_count": null,
   "id": "a3bbd63b1e3fc985",
   "metadata": {},
   "outputs": [],
   "source": [
    "pluto_buildings.table_vis.interactive_display(data)"
   ]
  },
  {
   "cell_type": "markdown",
   "id": "9cf6c23f1f1c190d",
   "metadata": {},
   "source": [
    "## Conclusion\n",
    "\n",
    "Well done! 🥐 You’ve successfully loaded a shapefile of NYC buildings into OSMNxMapping and visualised it interactively using Skrub. This is a great starting point for exploring geometry-based urban data.\n",
    "\n",
    "To take your analysis further—such as querying a road network, mapping buildings to streets, enriching the network, or visualising the results—check out the `1-OSMNX_MAPPING_with_Auctus_basics` or any other notebooks – It builds on this foundation with a complete workflow.\n",
    "\n",
    "Happy mapping! 🌆"
   ]
  },
  {
   "cell_type": "code",
   "execution_count": null,
   "id": "3f14558ddf1abff8",
   "metadata": {},
   "outputs": [],
   "source": []
  }
 ],
 "metadata": {
  "kernelspec": {
   "display_name": "Python 3 (ipykernel)",
   "language": "python",
   "name": "python3"
  },
  "language_info": {
   "codemirror_mode": {
    "name": "ipython",
    "version": 3
   },
   "file_extension": ".py",
   "mimetype": "text/x-python",
   "name": "python",
   "nbconvert_exporter": "python",
   "pygments_lexer": "ipython3",
   "version": "3.10.12"
  }
 },
 "nbformat": 4,
 "nbformat_minor": 5
}
