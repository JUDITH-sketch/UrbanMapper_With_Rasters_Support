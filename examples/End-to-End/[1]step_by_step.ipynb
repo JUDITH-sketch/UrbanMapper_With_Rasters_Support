{
 "cells": [
  {
   "cell_type": "markdown",
   "metadata": {},
   "source": [
    "# 🌇 Welcome to the `Step-By-Step` `End-To-End` example!\n",
    "\n",
    "This notebook guides you through a complete `UrbanMapper` workflow, step-by-step, using the `PLUTO` dataset in `Downtown Brooklyn`.\n",
    "\n",
    "We’ll load data, create a street intersections layer, impute missing coordinates, filter data, map it to intersections, enrich with average floors, and visualise the results interactively. This essentially walks through `Basics/[1-6]` examples in a single notebook.\n",
    "\n",
    "**Data source used**:\n",
    "- PLUTO data from NYC Open Data. https://www.nyc.gov/content/planning/pages/resources/datasets/mappluto-pluto-change\n",
    "\n",
    "**What you’ll learn**:\n",
    "\n",
    "- Load PLUTO data from a CSV file.\n",
    "- Create a street intersections layer for Downtown Brooklyn.\n",
    "- Impute missing longitude and latitude values.\n",
    "- Filter data to the layer’s bounding box.\n",
    "- Map data to the nearest intersections.\n",
    "- Enrich the layer with average floors per intersection.\n",
    "- Visualise the enriched layer on an interactive map.\n",
    "\n",
    "Each step includes explanations of its purpose and the input-output transformations."
   ]
  },
  {
   "cell_type": "code",
   "execution_count": null,
   "metadata": {},
   "outputs": [],
   "source": [
    "import urban_mapper as um\n",
    "\n",
    "# Initialise UrbanMapper\n",
    "mapper = um.UrbanMapper()"
   ]
  },
  {
   "cell_type": "markdown",
   "metadata": {},
   "source": [
    "## Step 1: Load Data\n",
    "\n",
    "**Goal**: Load the PLUTO dataset to begin our analysis.\n",
    "\n",
    "**Input**: A CSV file path (`./pluto.csv`) containing PLUTO data with columns like `longitude`, `latitude`, and `numfloors`. Replace with your own csv filepath here.\n",
    "\n",
    "**Output**: A GeoDataFrame (`gdf`) with the loaded data, tagged with longitude and latitude columns for geospatial analysis.\n",
    "\n",
    "Here, we use the `loader` module to read the CSV and specify the coordinate columns, making the data ready for geospatial operations."
   ]
  },
  {
   "cell_type": "code",
   "execution_count": null,
   "metadata": {},
   "outputs": [],
   "source": [
    "data = (\n",
    "    mapper.loader.from_file(\"./pluto.csv\").with_columns(longitude_column=\"longitude\", latitude_column=\"latitude\").load()\n",
    ")\n",
    "data.head(10)  # Preview the first ten rows"
   ]
  },
  {
   "cell_type": "markdown",
   "metadata": {},
   "source": [
    "## Step 2: Create Urban Layer\n",
    "\n",
    "**Goal**: Build a foundational layer of street intersections in `Downtown Brooklyn` to map our data onto.\n",
    "\n",
    "**Input**: A place name (`Downtown Brooklyn, New York City, USA`) and mapping configuration (`longitude`, `latitude`, `output column`, and `threshold distance`).\n",
    "\n",
    "**Output**: An `UrbanLayer` object representing street intersections, ready to associate data points with specific intersections.\n",
    "\n",
    "We use the `urban_layer` module with type `streets_intersections`, fetch the network via OSMnx (using `drive` network type), and configure mapping to assign data points to the nearest intersection within 50 meters."
   ]
  },
  {
   "cell_type": "code",
   "execution_count": null,
   "metadata": {},
   "outputs": [],
   "source": [
    "layer = (\n",
    "    mapper.urban_layer.with_type(\"streets_intersections\")\n",
    "    .from_place(\"Downtown Brooklyn, New York City, USA\", network_type=\"drive\")\n",
    "    .with_mapping(\n",
    "        longitude_column=\"longitude\",\n",
    "        latitude_column=\"latitude\",\n",
    "        output_column=\"nearest_intersection\",\n",
    "        threshold_distance=50,\n",
    "    )\n",
    "    .build()\n",
    ")\n",
    "layer.static_render()  # Visualise the plain intersections statically (Optional)"
   ]
  },
  {
   "cell_type": "markdown",
   "metadata": {},
   "source": [
    "## Step 3: Impute Missing Data\n",
    "\n",
    "**Goal**: Fill in missing `longitude` and `latitude` values to ensure all data points can be mapped and played with.\n",
    "\n",
    "**Input**: The GeoDataFrame from Step 1 (with potential missing coordinates) and the urban layer from Step 2.\n",
    "\n",
    "**Output**: A GeoDataFrame with imputed coordinates, reducing missing values.\n",
    "\n",
    "The `SimpleGeoImputer` from the `imputer` module removes records that simply are having missing coordinates (naive way) –– Further look in the documentation for more. We check missing values before and after to see the effect."
   ]
  },
  {
   "cell_type": "code",
   "execution_count": null,
   "metadata": {},
   "outputs": [],
   "source": [
    "print(f\"Missing before: {data[['longitude', 'latitude']].isna().sum()}\")\n",
    "imputed_data = (\n",
    "    mapper.imputer.with_type(\"SimpleGeoImputer\")\n",
    "    .on_columns(longitude_column=\"longitude\", latitude_column=\"latitude\")\n",
    "    .transform(data, layer)\n",
    ")\n",
    "print(f\"Missing after: {imputed_data[['longitude', 'latitude']].isna().sum()}\")"
   ]
  },
  {
   "cell_type": "markdown",
   "metadata": {},
   "source": [
    "## Step 4: Filter Data\n",
    "\n",
    "**Goal**: Narrow down the data to only points within Downtown Brooklyn’s bounds.\n",
    "\n",
    "**Input**: The imputed GeoDataFrame from Step 3 and the urban layer from Step 2.\n",
    "\n",
    "**Output**: A filtered GeoDataFrame containing only data within the layer’s bounding box.\n",
    "\n",
    "Using the `BoundingBoxFilter` from the `filter` module, we trim the dataset to match the spatial extent of our intersections layer, reducing irrelevant data."
   ]
  },
  {
   "cell_type": "code",
   "execution_count": null,
   "metadata": {},
   "outputs": [],
   "source": [
    "print(f\"Rows before: {len(imputed_data)}\")\n",
    "filtered_data = mapper.filter.with_type(\"BoundingBoxFilter\").transform(\n",
    "    imputed_data, layer\n",
    ")\n",
    "print(f\"Rows after: {len(filtered_data)}\")"
   ]
  },
  {
   "cell_type": "markdown",
   "metadata": {},
   "source": [
    "## Step 5: Map to Nearest Layer\n",
    "\n",
    "**Goal**: Link each data point to its nearest street intersection so later on we could enrich the intersections with some basic aggregations or geo-statistics.\n",
    "\n",
    "**Input**: The filtered GeoDataFrame from Step 4.\n",
    "\n",
    "**Output**: An updated `UrbanLayer` and a GeoDataFrame with a new `nearest_intersection` column indicating the closest intersection for each point.\n",
    "\n",
    "The `map_nearest_layer` method uses the mapping configuration from Step 2 to associate data points with intersections, enabling spatial aggregation in the next step."
   ]
  },
  {
   "cell_type": "code",
   "execution_count": null,
   "metadata": {},
   "outputs": [],
   "source": [
    "_, mapped_data = layer.map_nearest_layer(filtered_data) # Outputs both the layer (unnecessary here) and the mapped data\n",
    "mapped_data.head()  # Check the new 'nearest_intersection' column"
   ]
  },
  {
   "cell_type": "markdown",
   "metadata": {},
   "source": [
    "## Step 6: Enrich the Layer\n",
    "\n",
    "**Goal**: Add meaningful insights by calculating the average number of floors per intersection.\n",
    "\n",
    "**Input**: The mapped GeoDataFrame from Step 5 and the urban layer from Step 2.\n",
    "\n",
    "**Output**: An enriched `UrbanLayer` with an `avg_floors` column in its GeoDataFrame.\n",
    "\n",
    "The `enricher` module aggregates the `numfloors` column by `nearest_intersection` using the mean, adding this statistic to the layer for visualisation or further analysis like Machine Learning-based."
   ]
  },
  {
   "cell_type": "code",
   "execution_count": null,
   "metadata": {},
   "outputs": [],
   "source": [
    "enricher = (\n",
    "    mapper.enricher.with_data(group_by=\"nearest_intersection\", values_from=\"numfloors\")\n",
    "    .aggregate_by(method=\"mean\", output_column=\"avg_floors\")\n",
    "    .build()\n",
    ")\n",
    "enriched_layer = enricher.enrich(mapped_data, layer)\n",
    "enriched_layer.get_layer().head()  # Preview the enriched layer's GeoDataFrame content"
   ]
  },
  {
   "cell_type": "markdown",
   "metadata": {},
   "source": [
    "## Step 7: Visualise Results\n",
    "\n",
    "**Goal**: Display the enriched data on an interactive map for exploration.\n",
    "\n",
    "**Input**: The enriched GeoDataFrame from Step 6.\n",
    "\n",
    "**Output**: An interactive Folium map showing average floors per intersection with a dark theme.\n",
    "\n",
    "The `visual` module creates an interactive map with the `Interactive` type and a dark `CartoDB dark_matter` style, highlighting the `avg_floors` column."
   ]
  },
  {
   "cell_type": "code",
   "execution_count": null,
   "metadata": {},
   "outputs": [],
   "source": [
    "fig = (\n",
    "    mapper.visual.with_type(\"Interactive\")\n",
    "    .with_style({\"tiles\": \"CartoDB dark_matter\"})\n",
    "    .show(columns=[\"avg_floors\"])  # Show the avg_floors column\n",
    "    .render(enriched_layer.get_layer())\n",
    ")\n",
    "fig  # Display the map"
   ]
  },
  {
   "cell_type": "markdown",
   "metadata": {},
   "source": [
    "## Conclusion\n",
    "\n",
    "Congratulations! You’ve completed a full UrbanMapper workflow, step-by-step. You’ve transformed raw PLUTO data into a visually rich map of average building floors per intersection in Downtown Brooklyn. For a more streamlined approach, check out the Pipeline End-To-End notebook!"
   ]
  },
  {
   "cell_type": "code",
   "execution_count": null,
   "metadata": {},
   "outputs": [],
   "source": []
  }
 ],
 "metadata": {
  "kernelspec": {
   "display_name": "Python 3 (ipykernel)",
   "language": "python",
   "name": "python3"
  },
  "language_info": {
   "codemirror_mode": {
    "name": "ipython",
    "version": 3
   },
   "file_extension": ".py",
   "mimetype": "text/x-python",
   "name": "python",
   "nbconvert_exporter": "python",
   "pygments_lexer": "ipython3",
   "version": "3.10.12"
  }
 },
 "nbformat": 4,
 "nbformat_minor": 4
}
