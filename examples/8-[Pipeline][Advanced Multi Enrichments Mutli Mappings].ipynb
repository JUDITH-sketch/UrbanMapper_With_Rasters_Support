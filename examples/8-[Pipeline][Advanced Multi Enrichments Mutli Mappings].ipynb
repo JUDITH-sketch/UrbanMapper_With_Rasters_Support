{
 "cells": [
  {
   "cell_type": "markdown",
   "id": "29596c99a34a8123",
   "metadata": {},
   "source": [
    "# Welcome to OSMNxMapping ☀️!\n",
    "\n",
    "_Chapter 8_ will dive into an advanced pipelining workflow with the `UrbanPipeline` class from OSMNxMapping using multi enrichments as seen in chapter 7, yet with a novelty: multi mapping. We want to map more than one pair of latitude and longitude, then multi-enrich either each pair once or more than once.\n",
    "\n",
    "We'll therefore process taxi trip data from New York City, mapping pickup and dropoff pair locations to a Downtown Brooklyn street network and enriching it with multiple metrics: pickup counts and dropoff counts per node.\n",
    "\n",
    "**Goals**:\n",
    "- Import the OSMNxMapping library and required modules.\n",
    "- Build an `UrbanPipeline` with steps for loading, preprocessing, multiple mappings, and multiple enrichments.\n",
    "- Execute the pipeline using `compose_transform`.\n",
    "- Visualise the enriched network with multiple attributes.\n",
    "- Understand how to handle multiple mappings and enrichments seamlessly.\n",
    "\n",
    "Unlike previous notebooks, we won’t use Auctus here—data must be available locally in CSV, Shapefile, or Parquet format. We'll use a sample CSV file (`taxis.csv`). For foundational steps or alternative approaches, refer to the chapter's 1 notebook.\n",
    "\n",
    "Let’s dive in! 🚀"
   ]
  },
  {
   "cell_type": "markdown",
   "id": "ed035a5fd0ff0117",
   "metadata": {},
   "source": [
    "## Step 1: Import the Library and Modules\n",
    "\n",
    "We import the `osmnx_mapping` library and necessary pipeline modules to construct our workflow."
   ]
  },
  {
   "cell_type": "code",
   "execution_count": null,
   "id": "cc4e16caf39ff628",
   "metadata": {},
   "outputs": [],
   "source": [
    "import osmnx_mapping as oxm\n",
    "from osmnx_mapping import UrbanPipeline, CreateNetwork, CSVLoader, CreatePreprocessor, CreateEnricher, InteractiveVisualiser, StaticVisualiser"
   ]
  },
  {
   "cell_type": "markdown",
   "id": "4b5e0407037be7fc",
   "metadata": {},
   "source": [
    "## Step 2: Define and Execute the Urban Pipeline\n",
    "\n",
    "We define an `UrbanPipeline` to process taxi trip data and enrich the network:\n",
    "\n",
    "- **Loader**: Loads taxi data from CSV.\n",
    "- **Impute Pickup/Dropoff**: Ensures valid coordinates.\n",
    "- **Filter**: Retains data within the network’s bounding box.\n",
    "- **Network**: Maps pickup and dropoff locations to nodes.\n",
    "- **Enrich Pickup/Dropoff**: Counts pickups and dropoffs per node.\n",
    "\n",
    "We execute it with `compose_transform`.\n",
    "\n",
    "> **Note**: Adjust the file path if needed and ensure column names match your dataset.\n",
    "\n",
    "\n",
    "> **IMPORTANT**: Notice that here we will as much as possible specify `latitude_column_name` and `longitude_column_name` to avoid confusing ourselves because here we are in more depth than only one pair of latitude/longitude columns we are in two. Imagine if N. We therefore specify as much as possible so that we can distinguish each step –––– Pssstt! Not only you but people re utilising your saved and shared pipeline :)"
   ]
  },
  {
   "cell_type": "code",
   "execution_count": null,
   "id": "c0ab6e90a460d2d9",
   "metadata": {},
   "outputs": [],
   "source": [
    "pipeline = UrbanPipeline([\n",
    "    ('loader', CSVLoader(file_path='./../data/TAXIS/csv/taxisvis1M.csv')),\n",
    "    ('network', CreateNetwork()\n",
    "        .with_place('Downtown, Brooklyn, New York, USA', network_type='drive')\n",
    "        .with_mapping(mapping_type='node', longitude_column_name='pickup_longitude', latitude_column_name='pickup_latitude', output_column='pickup_node')\n",
    "        .with_mapping(mapping_type='node', longitude_column_name='dropoff_longitude', latitude_column_name='dropoff_latitude', output_column='dropoff_node')\n",
    "        .build()\n",
    "    ),\n",
    "    ('impute_pickup', CreatePreprocessor()\n",
    "         .with_imputer(\n",
    "            imputer_type='SimpleGeoImputer',\n",
    "            latitude_column_name='pickup_latitude',\n",
    "            longitude_column_name='pickup_longitude'\n",
    "        ).build()\n",
    "    ),\n",
    "    ('impute_dropoff', CreatePreprocessor()\n",
    "         .with_imputer(\n",
    "        imputer_type='SimpleGeoImputer',\n",
    "            latitude_column_name='dropoff_latitude',\n",
    "            longitude_column_name='dropoff_longitude'\n",
    "        ).build()\n",
    "    ),\n",
    "    ('filter', CreatePreprocessor()\n",
    "         .with_filter(\n",
    "            filter_type='BoundingBoxFilter'\n",
    "        ).build()\n",
    "    ),\n",
    "    ('enrich_pickup', CreateEnricher()\n",
    "        .with_data(group_by='pickup_node')\n",
    "        .count_by(target='nodes', output_column='pickup_count')\n",
    "        .build()\n",
    "    ),\n",
    "    ('enrich_dropoff', CreateEnricher()\n",
    "        .with_data(group_by='dropoff_node')\n",
    "        .count_by(target='nodes', output_column='dropoff_count')\n",
    "        .build()\n",
    "    ),\n",
    "    (\"viz\", StaticVisualiser())\n",
    "])"
   ]
  },
  {
   "cell_type": "code",
   "execution_count": null,
   "id": "4ebc3f8a25db0a60",
   "metadata": {},
   "outputs": [],
   "source": [
    "data, graph, nodes, edges = pipeline.compose_transform(\n",
    "    latitude_column_name='pickup_latitude', # Not sure yet if this is highly necessary. Future releases could make this \"non-mandatory-anymore\" so that we'd not have to put them when stacking mappings and enrichers.\n",
    "    longitude_column_name='pickup_longitude'\n",
    ")"
   ]
  },
  {
   "cell_type": "markdown",
   "id": "c3d2094c59797e47",
   "metadata": {},
   "source": [
    "## Step 3: Visualise the Enriched Network\n",
    "\n",
    "We use `InteractiveVisualiser` to display the enriched network, targeting nodes to show pickup and dropoff counts interactively.\n",
    "\n",
    "> **Note**: Ensure Jupyter extensions are installed (see README)."
   ]
  },
  {
   "cell_type": "code",
   "execution_count": null,
   "id": "d3247d81a4bf0a45",
   "metadata": {},
   "outputs": [],
   "source": [
    "viz = pipeline.visualise(\n",
    "    # result_columns=['pickup_count', 'dropoff_count'], # For InteractiveVisualiser\n",
    "    result_columns=\"pickup_count\",\n",
    "    target='nodes'\n",
    ")\n",
    "viz"
   ]
  },
  {
   "cell_type": "markdown",
   "id": "9ba265f36931f8d2",
   "metadata": {},
   "source": [
    "## Conclusion\n",
    "\n",
    "Congratulations! 🎉 You’ve built an advanced urban pipeline with OSMNxMapping [Multiple Mappings and Enrichments], efficiently processing taxi trip data to map and enrich a Downtown Brooklyn network with pickup and dropoff counts. This workflow demonstrates the power of chaining multiple mappings and enrichments seamlessly.\n",
    "\n",
    "For simpler examples, check 'Basic Pipelining'. For target exploration, see 'Advanced Pipelining [Exploring Targets]'. Explore the OSMNxMapping API docs and `examples/` for more!\n",
    "\n",
    "Happy urban mapping! 🌆"
   ]
  },
  {
   "cell_type": "code",
   "execution_count": null,
   "id": "ad27acae4f16be8a",
   "metadata": {},
   "outputs": [],
   "source": []
  }
 ],
 "metadata": {
  "kernelspec": {
   "display_name": "Python 3 (ipykernel)",
   "language": "python",
   "name": "python3"
  },
  "language_info": {
   "codemirror_mode": {
    "name": "ipython",
    "version": 3
   },
   "file_extension": ".py",
   "mimetype": "text/x-python",
   "name": "python",
   "nbconvert_exporter": "python",
   "pygments_lexer": "ipython3",
   "version": "3.10.12"
  }
 },
 "nbformat": 4,
 "nbformat_minor": 5
}
