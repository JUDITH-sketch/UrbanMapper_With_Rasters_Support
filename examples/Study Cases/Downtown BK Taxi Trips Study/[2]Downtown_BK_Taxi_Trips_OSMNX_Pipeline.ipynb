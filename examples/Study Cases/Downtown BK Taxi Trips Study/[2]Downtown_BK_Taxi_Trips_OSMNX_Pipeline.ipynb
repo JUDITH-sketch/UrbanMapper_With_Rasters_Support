{
 "cells": [
  {
   "cell_type": "code",
   "execution_count": null,
   "id": "2f08176e-748d-40c9-9052-e0d050f74557",
   "metadata": {},
   "outputs": [],
   "source": [
    "import osmnx_mapping as oxm\n",
    "from osmnx_mapping.pipeline import UrbanPipeline\n",
    "from osmnx_mapping.modules.loader import CSVLoader\n",
    "from osmnx_mapping.modules.preprocessing import CreatePreprocessor\n",
    "from osmnx_mapping.modules.enricher import CreateEnricher\n",
    "from osmnx_mapping.modules.visualiser import InteractiveVisualiser\n",
    "from osmnx_mapping import CreateNetwork"
   ]
  },
  {
   "cell_type": "code",
   "execution_count": null,
   "id": "75bb8667-d5d6-454d-88e7-c45c0a76a46b",
   "metadata": {},
   "outputs": [],
   "source": [
    "taxi_study = oxm.OSMNxMapping()"
   ]
  },
  {
   "cell_type": "code",
   "execution_count": null,
   "id": "0ac3c4ff-c362-4099-bcfd-97e7817dfb01",
   "metadata": {},
   "outputs": [],
   "source": [
    "pipeline = UrbanPipeline([\n",
    "    # Step 1: Load taxi trip data from CSV\n",
    "    (\"load\", CSVLoader(\n",
    "        file_path=\"./../../../data/TAXIS/csv/taxisvis1M.csv\"\n",
    "    )),\n",
    "\n",
    "    # Step 2: Build Downtown Brooklyn street network and map pickups/dropoffs to nodes\n",
    "    (\"network\", CreateNetwork()\n",
    "        .with_place(\"Downtown, Brooklyn, New York, USA\", network_type=\"drive\")\n",
    "        .with_mapping(\n",
    "            mapping_type=\"node\",\n",
    "            longitude_column_name=\"pickup_longitude\",\n",
    "            latitude_column_name=\"pickup_latitude\",\n",
    "            output_column=\"pickup_node\"\n",
    "        )\n",
    "        .with_mapping(\n",
    "            mapping_type=\"node\",\n",
    "            longitude_column_name=\"dropoff_longitude\",\n",
    "            latitude_column_name=\"dropoff_latitude\",\n",
    "            output_column=\"dropoff_node\"\n",
    "        )\n",
    "        .build()\n",
    "    ),\n",
    "\n",
    "    # Step 3: Impute missing pickup coordinates\n",
    "    (\"impute_pickup\", CreatePreprocessor()\n",
    "        .with_imputer(\n",
    "            imputer_type=\"SimpleGeoImputer\",\n",
    "            latitude_column_name=\"pickup_latitude\",\n",
    "            longitude_column_name=\"pickup_longitude\"\n",
    "        )\n",
    "        .build()\n",
    "    ),\n",
    "\n",
    "    # Step 4: Impute missing dropoff coordinates\n",
    "    (\"impute_dropoff\", CreatePreprocessor()\n",
    "        .with_imputer(\n",
    "            imputer_type=\"SimpleGeoImputer\",\n",
    "            latitude_column_name=\"dropoff_latitude\",\n",
    "            longitude_column_name=\"dropoff_longitude\"\n",
    "        )\n",
    "        .build()\n",
    "    ),\n",
    "\n",
    "    # Step 5: Filter data to the network's bounding box\n",
    "    (\"filter\", CreatePreprocessor()\n",
    "        .with_filter(\n",
    "            filter_type=\"BoundingBoxFilter\"\n",
    "        )\n",
    "        .build()\n",
    "    ),\n",
    "\n",
    "    # Step 6: Enrich with pickup counts\n",
    "    (\"enrich_pickups\", CreateEnricher()\n",
    "        .with_data(\n",
    "            group_by=\"pickup_node\"\n",
    "        )\n",
    "        .count_by(\n",
    "            target=\"both\",  # Enrich both nodes and edges\n",
    "            output_column=\"pickup_count\"\n",
    "        )\n",
    "        .build()\n",
    "    ),\n",
    "\n",
    "    # Step 7: Enrich with dropoff counts\n",
    "    (\"enrich_dropoffs\", CreateEnricher()\n",
    "        .with_data(\n",
    "            group_by=\"dropoff_node\"\n",
    "        )\n",
    "        .count_by(\n",
    "            target=\"both\",  # Enrich both nodes and edges\n",
    "            output_column=\"dropoff_count\"\n",
    "        )\n",
    "        .build()\n",
    "    ),\n",
    "\n",
    "    # Step 8: Viz enriched network\n",
    "    (\"viz\", InteractiveVisualiser()),\n",
    "])"
   ]
  },
  {
   "cell_type": "code",
   "execution_count": null,
   "id": "62876127-d7a8-4870-8819-b8b51841be28",
   "metadata": {},
   "outputs": [],
   "source": [
    "data, graph, nodes, edges = pipeline.compose_transform(\n",
    "    latitude_column_name=\"pickup_latitude\", # Innapropriate, will change in Urban Mapper\n",
    "    longitude_column_name=\"pickup_longitude\" # Innapropriate, will change in Urban Mapper\n",
    ")"
   ]
  },
  {
   "cell_type": "code",
   "execution_count": null,
   "id": "1a02533a-9e7f-4bf3-870d-e291a7cd964a",
   "metadata": {},
   "outputs": [],
   "source": [
    "# Visualise the enriched network on intersections (nodes)\n",
    "viz = pipeline.visualise(\n",
    "    result_columns=[\"pickup_count\", \"dropoff_count\"],\n",
    "    target=\"edges\",\n",
    "    colormap=\"Reds\",\n",
    "    tile_provider=\"Cartodb dark_matter\"\n",
    ")\n",
    "viz"
   ]
  },
  {
   "cell_type": "code",
   "execution_count": null,
   "id": "bd3cd445-ad60-4178-9b19-c700f193738f",
   "metadata": {},
   "outputs": [],
   "source": [
    "# Visualise the enriched network on intersections (nodes)\n",
    "viz = pipeline.visualise(\n",
    "    result_columns=[\"pickup_count\", \"dropoff_count\"],\n",
    "    target=\"nodes\",\n",
    "    colormap=\"Reds\",\n",
    "    tile_provider=\"Cartodb dark_matter\"\n",
    ")\n",
    "viz"
   ]
  },
  {
   "cell_type": "code",
   "execution_count": null,
   "id": "7383af79-f5fe-4c67-9f9d-0923d91bd376",
   "metadata": {},
   "outputs": [],
   "source": []
  }
 ],
 "metadata": {
  "kernelspec": {
   "display_name": "Python 3 (ipykernel)",
   "language": "python",
   "name": "python3"
  },
  "language_info": {
   "codemirror_mode": {
    "name": "ipython",
    "version": 3
   },
   "file_extension": ".py",
   "mimetype": "text/x-python",
   "name": "python",
   "nbconvert_exporter": "python",
   "pygments_lexer": "ipython3",
   "version": "3.10.12"
  }
 },
 "nbformat": 4,
 "nbformat_minor": 5
}
