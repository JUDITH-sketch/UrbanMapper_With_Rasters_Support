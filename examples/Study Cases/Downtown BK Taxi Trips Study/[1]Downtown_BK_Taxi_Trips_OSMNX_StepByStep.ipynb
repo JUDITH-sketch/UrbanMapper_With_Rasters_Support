{
 "cells": [
  {
   "cell_type": "markdown",
   "id": "c459257f",
   "metadata": {},
   "source": [
    "## Step 1: Import Modules"
   ]
  },
  {
   "cell_type": "code",
   "execution_count": null,
   "id": "ac68ba46",
   "metadata": {},
   "outputs": [],
   "source": [
    "import osmnx_mapping as oxm\n",
    "from osmnx_mapping.modules.preprocessing import CreatePreprocessor\n",
    "from osmnx_mapping.modules.enricher import CreateEnricher\n",
    "from osmnx_mapping.modules.visualiser import InteractiveVisualiser, StaticVisualiser"
   ]
  },
  {
   "cell_type": "markdown",
   "id": "d8591877",
   "metadata": {},
   "source": [
    "## Step 2: Initialise OSMNxMapping"
   ]
  },
  {
   "cell_type": "code",
   "execution_count": null,
   "id": "4a323ad3",
   "metadata": {},
   "outputs": [],
   "source": [
    "taxi_study = oxm.OSMNxMapping()"
   ]
  },
  {
   "cell_type": "markdown",
   "id": "3636a59b",
   "metadata": {},
   "source": [
    "## Step 3: Query the Street Network"
   ]
  },
  {
   "cell_type": "code",
   "execution_count": null,
   "id": "e1f388f9",
   "metadata": {},
   "outputs": [],
   "source": [
    "graph, nodes, edges = taxi_study.road_networks.network_from_place(\n",
    "    'Downtown, Brooklyn, New York, USA',\n",
    "    network_type='drive',\n",
    "    render=True\n",
    ")"
   ]
  },
  {
   "cell_type": "markdown",
   "id": "054fa825",
   "metadata": {},
   "source": [
    "## Step 4: Load Taxi Trip Data"
   ]
  },
  {
   "cell_type": "code",
   "execution_count": null,
   "id": "267f7662",
   "metadata": {},
   "outputs": [],
   "source": [
    "data = taxi_study.loader.load_from_file(\n",
    "    file_path='./../../../data/TAXIS/csv/taxisvis1M.csv',\n",
    "    latitude_column='pickup_latitude', # Innapropriate will change in Urban Mapper\n",
    "    longitude_column='pickup_longitude' # Innapropriate will change in Urban Mapper\n",
    ")\n",
    "taxi_study.table_vis.interactive_display(data)"
   ]
  },
  {
   "cell_type": "markdown",
   "id": "fd3647b7",
   "metadata": {},
   "source": [
    "## Step 5: Impute Missing Coordinates"
   ]
  },
  {
   "cell_type": "code",
   "execution_count": null,
   "id": "a5ff574b",
   "metadata": {},
   "outputs": [],
   "source": [
    "# ( Not necessary if no missing values are presented below ) \n",
    "\n",
    "# Impute pickups\n",
    "imputer_pickup = CreatePreprocessor().with_imputer(\n",
    "    imputer_type='SimpleGeoImputer',\n",
    "    latitude_column_name='pickup_latitude',\n",
    "    longitude_column_name='pickup_longitude'\n",
    ").build()\n",
    "data = imputer_pickup.transform(data)\n",
    "\n",
    "# Impute dropoffs\n",
    "imputer_dropoff = CreatePreprocessor().with_imputer(\n",
    "    imputer_type='SimpleGeoImputer',\n",
    "    latitude_column_name='dropoff_latitude',\n",
    "    longitude_column_name='dropoff_longitude'\n",
    ").build()\n",
    "data = imputer_dropoff.transform(data)\n",
    "\n",
    "taxi_study.table_vis.interactive_display(data)"
   ]
  },
  {
   "cell_type": "markdown",
   "id": "936f1edc",
   "metadata": {},
   "source": [
    "## Step 6: Filter to Bounding Box"
   ]
  },
  {
   "cell_type": "code",
   "execution_count": null,
   "id": "51594df7",
   "metadata": {},
   "outputs": [],
   "source": [
    "filterer = CreatePreprocessor().with_filter(\n",
    "    filter_type='BoundingBoxFilter',\n",
    "    nodes=nodes\n",
    ").build()\n",
    "\n",
    "data = filterer.transform(data)\n",
    "\n",
    "taxi_study.table_vis.interactive_display(data)"
   ]
  },
  {
   "cell_type": "markdown",
   "id": "34189e27",
   "metadata": {},
   "source": [
    "## Step 7: Map to Street Segments"
   ]
  },
  {
   "cell_type": "code",
   "execution_count": null,
   "id": "3d3820ca",
   "metadata": {},
   "outputs": [],
   "source": [
    "# Map pickups\n",
    "data = taxi_study.road_networks.map_nearest_street( # Name is innapropriate, things will change in Urban Mapper\n",
    "    data=data,\n",
    "    longitude_column='pickup_longitude',\n",
    "    latitude_column='pickup_latitude',\n",
    "    output_column='pickup_node',\n",
    ")\n",
    "\n",
    "# Map dropoffs\n",
    "data = taxi_study.road_networks.map_nearest_street( # Name is innapropriate, things will change in Urban Mapper\n",
    "    data=data,\n",
    "    longitude_column='dropoff_longitude',\n",
    "    latitude_column='dropoff_latitude',\n",
    "    output_column='dropoff_node',\n",
    ")\n",
    "\n",
    "taxi_study.table_vis.interactive_display(data)"
   ]
  },
  {
   "cell_type": "markdown",
   "id": "d257a5a7",
   "metadata": {},
   "source": [
    "## Step 8: Enrich the Network"
   ]
  },
  {
   "cell_type": "code",
   "execution_count": null,
   "id": "78fe725a",
   "metadata": {},
   "outputs": [],
   "source": [
    "# Enrich with pickup counts\n",
    "enricher_pickup = CreateEnricher().with_data(\n",
    "    group_by='pickup_node'\n",
    ").count_by(\n",
    "    target='both',\n",
    "    output_column='pickup_count'\n",
    ").build()\n",
    "enriched_data, enriched_graph, enriched_nodes, enriched_edges = enricher_pickup.enrich(\n",
    "    data, graph=graph, nodes=nodes, edges=edges\n",
    ")\n",
    "\n",
    "# Enrich with dropoff counts\n",
    "enricher_dropoff = CreateEnricher().with_data(\n",
    "    group_by='dropoff_node'\n",
    ").count_by(\n",
    "    target='both',\n",
    "    output_column='dropoff_count'\n",
    ").build()\n",
    "\n",
    "enriched_data, enriched_graph, enriched_nodes, enriched_edges = enricher_dropoff.enrich(\n",
    "    enriched_data, graph=enriched_graph, nodes=enriched_nodes, edges=enriched_edges\n",
    ")"
   ]
  },
  {
   "cell_type": "markdown",
   "id": "2f8e7e47",
   "metadata": {},
   "source": [
    "## Step 9: Visualise Interactively (streets)"
   ]
  },
  {
   "cell_type": "code",
   "execution_count": null,
   "id": "65c869aa",
   "metadata": {},
   "outputs": [],
   "source": [
    "visualiser = InteractiveVisualiser()\n",
    "viz = visualiser.render(\n",
    "    graph=enriched_graph,\n",
    "    nodes=enriched_nodes,\n",
    "    edges=enriched_edges,\n",
    "    result_columns=['pickup_count', 'dropoff_count'],\n",
    "    target='edges',\n",
    "    colormap='Blues',\n",
    "    tile_provider=\"Cartodb dark_matter\"\n",
    ")\n",
    "viz"
   ]
  },
  {
   "cell_type": "markdown",
   "id": "0a1c87df-38d3-4eed-b728-ec56a17f907a",
   "metadata": {},
   "source": [
    "## Step 10: Visualise Interactively (intersections)"
   ]
  },
  {
   "cell_type": "code",
   "execution_count": null,
   "id": "1dba8e20-448f-43e1-ae51-dc30c8e46822",
   "metadata": {},
   "outputs": [],
   "source": [
    "visualiser = InteractiveVisualiser()\n",
    "viz = visualiser.render(\n",
    "    graph=enriched_graph,\n",
    "    nodes=enriched_nodes,\n",
    "    edges=enriched_edges,\n",
    "    result_columns=['pickup_count', 'dropoff_count'],\n",
    "    target='nodes',\n",
    "    colormap='Blues',\n",
    "    tile_provider=\"Cartodb dark_matter\"\n",
    ")\n",
    "viz"
   ]
  },
  {
   "cell_type": "markdown",
   "id": "378a39be-af1d-482f-b45c-2985a2459a4c",
   "metadata": {},
   "source": [
    "## Step 11: Visualise Static (intersections)"
   ]
  },
  {
   "cell_type": "code",
   "execution_count": null,
   "id": "4ac9a0b3-5429-43a2-8b9f-d286d1aa3e03",
   "metadata": {},
   "outputs": [],
   "source": [
    "from IPython.display import display\n",
    "\n",
    "visualiser = StaticVisualiser()\n",
    "\n",
    "print(\"######## Pickup:\")\n",
    "\n",
    "pickup = visualiser.render(\n",
    "    graph=enriched_graph,\n",
    "    nodes=enriched_nodes,\n",
    "    edges=enriched_edges,\n",
    "    result_columns='pickup_count',\n",
    "    target='nodes',\n",
    "    colormap='Blues',\n",
    "    tile_provider=\"Cartodb dark_matter\"\n",
    ")\n",
    "\n",
    "display(pickup)\n",
    "\n",
    "print(\"######## Dropoff:\")\n",
    "\n",
    "\n",
    "dropoff = visualiser.render(\n",
    "    graph=enriched_graph,\n",
    "    nodes=enriched_nodes,\n",
    "    edges=enriched_edges,\n",
    "    result_columns='dropoff_count',\n",
    "    target='nodes',\n",
    "    colormap='Blues',\n",
    "    tile_provider=\"Cartodb dark_matter\"\n",
    ")\n",
    "\n",
    "display(dropoff)"
   ]
  },
  {
   "cell_type": "code",
   "execution_count": null,
   "id": "1b5d9c17-3884-4624-aa37-469c6d25b9e0",
   "metadata": {},
   "outputs": [],
   "source": []
  }
 ],
 "metadata": {
  "kernelspec": {
   "display_name": "Python 3 (ipykernel)",
   "language": "python",
   "name": "python3"
  },
  "language_info": {
   "codemirror_mode": {
    "name": "ipython",
    "version": 3
   },
   "file_extension": ".py",
   "mimetype": "text/x-python",
   "name": "python",
   "nbconvert_exporter": "python",
   "pygments_lexer": "ipython3",
   "version": "3.10.12"
  }
 },
 "nbformat": 4,
 "nbformat_minor": 5
}
