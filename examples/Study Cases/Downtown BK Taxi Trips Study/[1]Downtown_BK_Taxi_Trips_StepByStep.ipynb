{
 "cells": [
  {
   "cell_type": "markdown",
   "metadata": {},
   "source": [
    "# Downtown Brooklyn Taxi Trips Study - Step-by-Step\n",
    "This notebook analyzes taxi trip data, mapping pickups and dropoffs to street segments and visualizing counts."
   ]
  },
  {
   "cell_type": "code",
   "execution_count": 1,
   "metadata": {},
   "outputs": [
    {
     "name": "stderr",
     "output_type": "stream",
     "text": [
      "/Users/sgp28/Desktop/Delivery/NYU/UrbanMapper/.venv/lib/python3.10/site-packages/osmnx/convert.py:542: FutureWarning: <class 'geopandas.array.GeometryArray'>._reduce will require a `keepdims` parameter in the future\n",
      "  dupes = edges[mask].dropna(subset=[\"geometry\"])\n"
     ]
    }
   ],
   "source": [
    "import urban_mapper as um\n",
    "\n",
    "# Initialise UrbanMapper\n",
    "mapper = um.UrbanMapper()\n",
    "\n",
    "# Step 1: Create urban layer for street segments\n",
    "layer = (\n",
    "    mapper.urban_layer\n",
    "    .with_type(\"streets_roads\")\n",
    "    .from_place(\"Downtown Brooklyn, New York City, USA\", network_type=\"drive\")\n",
    "    .build()\n",
    ")"
   ]
  },
  {
   "cell_type": "code",
   "execution_count": 2,
   "metadata": {},
   "outputs": [],
   "source": [
    "# Step 2: Load taxi trip data\n",
    "data = (\n",
    "    mapper.loader\n",
    "    .from_file(\"./taxisvis1M.csv\")\n",
    "    .with_columns(longitude_column=\"pickup_longitude\", latitude_column=\"pickup_latitude\")\n",
    "    .load()\n",
    ")"
   ]
  },
  {
   "cell_type": "code",
   "execution_count": 3,
   "metadata": {},
   "outputs": [],
   "source": [
    "# Step 3: Impute missing coordinates\n",
    "imputer_pickup = (\n",
    "    mapper.imputer\n",
    "    .with_type(\"SimpleGeoImputer\")\n",
    "    .on_columns(\"pickup_longitude\", \"pickup_latitude\")\n",
    "    .build()\n",
    ")\n",
    "data = imputer_pickup.transform(data, layer)\n",
    "\n",
    "imputer_dropoff = (\n",
    "    mapper.imputer\n",
    "    .with_type(\"SimpleGeoImputer\")\n",
    "    .on_columns(\"dropoff_longitude\", \"dropoff_latitude\")\n",
    "    .build()\n",
    ")\n",
    "data = imputer_dropoff.transform(data, layer)"
   ]
  },
  {
   "cell_type": "code",
   "execution_count": 4,
   "metadata": {},
   "outputs": [],
   "source": [
    "# Step 4: Filter to bounding box\n",
    "filter_step = mapper.filter.with_type(\"BoundingBoxFilter\").build()\n",
    "data = filter_step.transform(data, layer)"
   ]
  },
  {
   "cell_type": "code",
   "execution_count": 5,
   "metadata": {},
   "outputs": [],
   "source": [
    "# Step 5: Map pickups and dropoffs\n",
    "import copy\n",
    "tmp_layer = copy.deepcopy(layer)\n",
    "\n",
    "_, mapped_pickups = layer.map_nearest_layer(\n",
    "    data,\n",
    "    longitude_column=\"pickup_longitude\",\n",
    "    latitude_column=\"pickup_latitude\",\n",
    "    output_column=\"pickup_segment\"\n",
    ")\n",
    "\n",
    "_, mapped_dropoffs = tmp_layer.map_nearest_layer(\n",
    "    data,\n",
    "    longitude_column=\"dropoff_longitude\",\n",
    "    latitude_column=\"dropoff_latitude\",\n",
    "    output_column=\"dropoff_segment\"\n",
    ")"
   ]
  },
  {
   "cell_type": "code",
   "execution_count": 6,
   "metadata": {},
   "outputs": [],
   "source": [
    "# Step 6: Enrich with counts\n",
    "enricher_pickup = (\n",
    "    mapper.enricher\n",
    "    .with_data(group_by=\"pickup_segment\")\n",
    "    .count_by(output_column=\"pickup_count\")\n",
    "    .build()\n",
    ")\n",
    "enriched_layer_pickup = enricher_pickup.enrich(mapped_pickups, layer)\n",
    "\n",
    "enricher_dropoff = (\n",
    "    mapper.enricher\n",
    "    .with_data(group_by=\"dropoff_segment\")\n",
    "    .count_by(output_column=\"dropoff_count\")\n",
    "    .build()\n",
    ")\n",
    "enriched_layer = enricher_dropoff.enrich(mapped_dropoffs, enriched_layer_pickup)"
   ]
  },
  {
   "cell_type": "code",
   "execution_count": 7,
   "metadata": {},
   "outputs": [
    {
     "data": {
      "application/vnd.jupyter.widget-view+json": {
       "model_id": "b0863bb1ce634decaffdac9a4754ed5f",
       "version_major": 2,
       "version_minor": 0
      },
      "text/plain": [
       "VBox(children=(Dropdown(description='Column:', options=('pickup_count', 'dropoff_count'), value='pickup_count'…"
      ]
     },
     "execution_count": 7,
     "metadata": {},
     "output_type": "execute_result"
    }
   ],
   "source": [
    "# Step 7: Visualize interactively\n",
    "visualiser = (\n",
    "    mapper.visual\n",
    "    .with_type(\"Interactive\")\n",
    "    .with_style({\"tiles\": \"CartoDB dark_matter\"})\n",
    "    .build()\n",
    ")\n",
    "fig = visualiser.render(enriched_layer.get_layer(), columns=[\"pickup_count\", \"dropoff_count\"])\n",
    "fig"
   ]
  },
  {
   "cell_type": "code",
   "execution_count": null,
   "metadata": {},
   "outputs": [],
   "source": []
  }
 ],
 "metadata": {
  "kernelspec": {
   "display_name": "Python 3 (ipykernel)",
   "language": "python",
   "name": "python3"
  },
  "language_info": {
   "codemirror_mode": {
    "name": "ipython",
    "version": 3
   },
   "file_extension": ".py",
   "mimetype": "text/x-python",
   "name": "python",
   "nbconvert_exporter": "python",
   "pygments_lexer": "ipython3",
   "version": "3.10.12"
  }
 },
 "nbformat": 4,
 "nbformat_minor": 4
}
