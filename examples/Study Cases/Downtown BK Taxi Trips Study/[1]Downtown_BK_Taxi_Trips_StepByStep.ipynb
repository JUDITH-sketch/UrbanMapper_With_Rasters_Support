{
 "cells": [
  {
   "cell_type": "markdown",
   "metadata": {},
   "source": [
    "# Downtown Brooklyn Taxi Trips Study - Step-by-Step\n",
    "This notebook analyzes taxi trip data, mapping pickups and dropoffs to street segments and visualizing counts."
   ]
  },
  {
   "metadata": {},
   "cell_type": "code",
   "outputs": [],
   "execution_count": null,
   "source": [
    "import urban_mapper as um\n",
    "\n",
    "# Initialise UrbanMapper\n",
    "mapper = um.UrbanMapper()\n",
    "\n",
    "# Step 1: Create urban layer for street segments\n",
    "layer = (\n",
    "    mapper.urban_layer\n",
    "    .with_type(\"streets_roads\")\n",
    "    .from_place(\"Downtown Brooklyn, New York City, USA\", network_type=\"drive\")\n",
    "    .build()\n",
    ")"
   ]
  },
  {
   "metadata": {},
   "cell_type": "code",
   "outputs": [],
   "execution_count": null,
   "source": [
    "# Step 2: Load taxi trip data\n",
    "data = (\n",
    "    mapper.loader\n",
    "    .from_file(\"./taxisvis1M.csv\")\n",
    "    .with_columns(longitude_column=\"pickup_longitude\", latitude_column=\"pickup_latitude\")\n",
    "    .load()\n",
    ")"
   ]
  },
  {
   "metadata": {},
   "cell_type": "code",
   "outputs": [],
   "execution_count": null,
   "source": [
    "# Step 3: Impute missing coordinates\n",
    "imputer_pickup = (\n",
    "    mapper.imputer\n",
    "    .with_type(\"SimpleGeoImputer\")\n",
    "    .on_columns(\"pickup_longitude\", \"pickup_latitude\")\n",
    "    .build()\n",
    ")\n",
    "data = imputer_pickup.transform(data, layer)\n",
    "\n",
    "imputer_dropoff = (\n",
    "    mapper.imputer\n",
    "    .with_type(\"SimpleGeoImputer\")\n",
    "    .on_columns(\"dropoff_longitude\", \"dropoff_latitude\")\n",
    "    .build()\n",
    ")\n",
    "data = imputer_dropoff.transform(data, layer)"
   ]
  },
  {
   "metadata": {},
   "cell_type": "code",
   "outputs": [],
   "execution_count": null,
   "source": [
    "# Step 4: Filter to bounding box\n",
    "filter_step = mapper.filter.with_type(\"BoundingBoxFilter\").build()\n",
    "data = filter_step.transform(data, layer)"
   ]
  },
  {
   "metadata": {},
   "cell_type": "code",
   "outputs": [],
   "execution_count": null,
   "source": [
    "# Step 5: Map pickups and dropoffs\n",
    "_, mapped_pickups = layer.map_nearest_layer(\n",
    "    data,\n",
    "    longitude_column=\"pickup_longitude\",\n",
    "    latitude_column=\"pickup_latitude\",\n",
    "    output_column=\"pickup_segment\"\n",
    ")\n",
    "_, mapped_dropoffs = layer.map_nearest_layer(\n",
    "    data,\n",
    "    longitude_column=\"dropoff_longitude\",\n",
    "    latitude_column=\"dropoff_latitude\",\n",
    "    output_column=\"dropoff_segment\"\n",
    ")"
   ]
  },
  {
   "metadata": {},
   "cell_type": "code",
   "outputs": [],
   "execution_count": null,
   "source": [
    "# Step 6: Enrich with counts\n",
    "enricher_pickup = (\n",
    "    mapper.enricher\n",
    "    .with_data(group_by=\"pickup_segment\")\n",
    "    .count_by(output_column=\"pickup_count\")\n",
    "    .build()\n",
    ")\n",
    "enriched_layer_pickup = enricher_pickup.enrich(mapped_pickups, layer)\n",
    "\n",
    "enricher_dropoff = (\n",
    "    mapper.enricher\n",
    "    .with_data(group_by=\"dropoff_segment\")\n",
    "    .count_by(output_column=\"dropoff_count\")\n",
    "    .build()\n",
    ")\n",
    "enriched_layer = enricher_dropoff.enrich(mapped_dropoffs, enriched_layer_pickup)"
   ]
  },
  {
   "metadata": {},
   "cell_type": "code",
   "outputs": [],
   "execution_count": null,
   "source": [
    "# Step 7: Visualize interactively\n",
    "visualiser = (\n",
    "    mapper.visual\n",
    "    .with_type(\"Interactive\")\n",
    "    .with_style({\"tiles\": \"CartoDB dark_matter\"})\n",
    "    .build()\n",
    ")\n",
    "fig = visualiser.render(enriched_layer.get_layer(), columns=[\"pickup_count\", \"dropoff_count\"])\n",
    "fig"
   ]
  }
 ],
 "metadata": {
  "kernelspec": {
   "display_name": "Python 3",
   "language": "python",
   "name": "python3"
  },
  "language_info": {
   "codemirror_mode": {
    "name": "ipython",
    "version": 3
   },
   "file_extension": ".py",
   "mimetype": "text/x-python",
   "name": "python",
   "nbconvert_exporter": "python",
   "pygments_lexer": "ipython3",
   "version": "3.8.5"
  }
 },
 "nbformat": 4,
 "nbformat_minor": 4
}
