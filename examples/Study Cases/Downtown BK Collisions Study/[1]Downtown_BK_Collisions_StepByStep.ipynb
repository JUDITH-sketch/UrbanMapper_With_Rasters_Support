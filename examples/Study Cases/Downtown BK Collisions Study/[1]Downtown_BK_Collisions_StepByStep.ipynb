{
 "cells": [
  {
   "cell_type": "markdown",
   "metadata": {},
   "source": [
    "# Downtown Brooklyn Collisions Study - Step-by-Step\n",
    "This notebook walks through analyzing motor vehicle collisions in Downtown Brooklyn using UrbanMapper.\n",
    "We’ll load collision data, map it to intersections, count collisions per node, and visualise the results."
   ]
  },
  {
   "cell_type": "code",
   "execution_count": null,
   "metadata": {},
   "outputs": [],
   "source": [
    "import urban_mapper as um\n",
    "\n",
    "# Initialise UrbanMapper\n",
    "mapper = um.UrbanMapper()\n",
    "\n",
    "# Step 1: Create urban layer for intersections\n",
    "layer = (\n",
    "    mapper.urban_layer\n",
    "    .with_type(\"streets_intersections\")\n",
    "    .from_place(\"Downtown Brooklyn, New York City, USA\", network_type=\"drive\")\n",
    "    .build()\n",
    ")"
   ]
  },
  {
   "cell_type": "code",
   "execution_count": null,
   "metadata": {},
   "outputs": [],
   "source": [
    "# Step 2: Load collision data\n",
    "data = (\n",
    "    mapper.loader\n",
    "    .from_file(\"./NYC_Motor_Vehicle_Collisions_Mar_12_2025.csv\")\n",
    "    .with_columns(longitude_column=\"LONGITUDE\", latitude_column=\"LATITUDE\")\n",
    "    .load()\n",
    ")"
   ]
  },
  {
   "cell_type": "code",
   "execution_count": null,
   "metadata": {},
   "outputs": [],
   "source": [
    "\n",
    "# Step 3: Impute missing coordinates\n",
    "imputer = (\n",
    "    mapper.imputer\n",
    "    .with_type(\"SimpleGeoImputer\")\n",
    "    .on_columns(\"LONGITUDE\", \"LATITUDE\")\n",
    "    .build()\n",
    ")\n",
    "data = imputer.transform(data, layer)"
   ]
  },
  {
   "cell_type": "code",
   "execution_count": null,
   "metadata": {},
   "outputs": [],
   "source": [
    "# Step 4: Filter to bounding box\n",
    "filter_step = mapper.filter.with_type(\"BoundingBoxFilter\").build()\n",
    "data = filter_step.transform(data, layer)"
   ]
  },
  {
   "cell_type": "code",
   "execution_count": null,
   "metadata": {},
   "outputs": [],
   "source": [
    "# Step 5: Map to nearest intersections\n",
    "_, mapped_data = layer.map_nearest_layer(\n",
    "    data,\n",
    "    longitude_column=\"LONGITUDE\",\n",
    "    latitude_column=\"LATITUDE\",\n",
    "    output_column=\"nearest_intersection\"\n",
    ")"
   ]
  },
  {
   "cell_type": "code",
   "execution_count": null,
   "metadata": {},
   "outputs": [],
   "source": [
    "\n",
    "# Step 6: Enrich with collision counts\n",
    "enricher = (\n",
    "    mapper.enricher\n",
    "    .with_data(group_by=\"nearest_intersection\")\n",
    "    .count_by(output_column=\"collision_count\")\n",
    "    .build()\n",
    ")\n",
    "enriched_layer = enricher.enrich(mapped_data, layer)"
   ]
  },
  {
   "cell_type": "code",
   "execution_count": null,
   "metadata": {},
   "outputs": [],
   "source": [
    "# Step 7: Visualize interactively\n",
    "visualiser = (\n",
    "    mapper.visual\n",
    "    .with_type(\"Interactive\")\n",
    "    .with_style({\"tiles\": \"CartoDB dark_matter\"})\n",
    "    .build()\n",
    ")\n",
    "fig_interactive = visualiser.render(enriched_layer.get_layer(), columns=[\"collision_count\"])\n",
    "fig_interactive"
   ]
  },
  {
   "cell_type": "code",
   "execution_count": null,
   "metadata": {},
   "outputs": [],
   "source": [
    "# Step 8: Visualize statically\n",
    "visualiser = mapper.visual.with_type(\"Static\").build()\n",
    "fig_static = visualiser.render(enriched_layer.get_layer(), columns=[\"collision_count\"])"
   ]
  },
  {
   "cell_type": "code",
   "execution_count": null,
   "metadata": {},
   "outputs": [],
   "source": []
  },
  {
   "cell_type": "code",
   "execution_count": null,
   "metadata": {},
   "outputs": [],
   "source": []
  }
 ],
 "metadata": {
  "kernelspec": {
   "display_name": "Python 3 (ipykernel)",
   "language": "python",
   "name": "python3"
  },
  "language_info": {
   "codemirror_mode": {
    "name": "ipython",
    "version": 3
   },
   "file_extension": ".py",
   "mimetype": "text/x-python",
   "name": "python",
   "nbconvert_exporter": "python",
   "pygments_lexer": "ipython3",
   "version": "3.10.12"
  }
 },
 "nbformat": 4,
 "nbformat_minor": 4
}
