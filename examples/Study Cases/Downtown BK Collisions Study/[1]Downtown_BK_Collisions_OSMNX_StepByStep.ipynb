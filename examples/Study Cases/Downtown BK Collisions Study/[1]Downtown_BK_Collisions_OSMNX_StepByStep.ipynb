{
 "cells": [
  {
   "cell_type": "code",
   "execution_count": null,
   "id": "2f08176e-748d-40c9-9052-e0d050f74557",
   "metadata": {},
   "outputs": [],
   "source": [
    "# Import necessary modules\n",
    "import osmnx_mapping as oxm\n",
    "from osmnx_mapping.modules.preprocessing import CreatePreprocessor\n",
    "from osmnx_mapping.modules.enricher import CreateEnricher\n",
    "from osmnx_mapping.modules.visualiser import InteractiveVisualiser, StaticVisualiser"
   ]
  },
  {
   "cell_type": "code",
   "execution_count": null,
   "id": "75bb8667-d5d6-454d-88e7-c45c0a76a46b",
   "metadata": {},
   "outputs": [],
   "source": [
    "# Initialise an OSMNxMapping instance\n",
    "collisions_study = oxm.OSMNxMapping()"
   ]
  },
  {
   "cell_type": "code",
   "execution_count": null,
   "id": "4d21c86e-59d8-4db7-963d-a659e71043a2",
   "metadata": {},
   "outputs": [],
   "source": [
    "# Step 1: Query the street network for Downtown Brooklyn\n",
    "graph, nodes, edges = collisions_study.road_networks.network_from_place(\n",
    "    \"Downtown, Brooklyn, New York, USA\",\n",
    "    network_type=\"drive\",\n",
    "    render=True\n",
    ")"
   ]
  },
  {
   "cell_type": "code",
   "execution_count": null,
   "id": "0ac3c4ff-c362-4099-bcfd-97e7817dfb01",
   "metadata": {},
   "outputs": [],
   "source": [
    "# Step 2: Load collision data from CSV file\n",
    "data = collisions_study.loader.load_from_file(\n",
    "    file_path=\"./../../../data/ACCIDENTS/NYC/CSV/NYC_Motor_Vehicle_Collisions_Mar_12_2025.csv\",\n",
    "    latitude_column=\"LATITUDE\",\n",
    "    longitude_column=\"LONGITUDE\"\n",
    ")\n",
    "# This loads the CSV into a GeoDataFrame, setting the geometry based on LATITUDE and LONGITUDE columns.\n",
    "\n",
    "\n",
    "# Feel free to use the interactive table viz as follows (click on column name latitude and or longitude):\n",
    "collisions_study.table_vis.interactive_display(data)"
   ]
  },
  {
   "cell_type": "code",
   "execution_count": null,
   "id": "bd3cd445-ad60-4178-9b19-c700f193738f",
   "metadata": {},
   "outputs": [],
   "source": [
    "# Step 3: Impute missing values by dropping rows with missing latitude or longitude as above we detected missing values\n",
    "# SimpleGeoImputer removes rows where LATITUDE or LONGITUDE is missing, ensuring valid geospatial data. More primitives exists! This one is just basic.\n",
    "imputer = CreatePreprocessor().with_imputer(\n",
    "    imputer_type=\"SimpleGeoImputer\",\n",
    "    latitude_column_name=\"LATITUDE\",\n",
    "    longitude_column_name=\"LONGITUDE\"\n",
    ").build()\n",
    "\n",
    "data = imputer.transform(data)\n",
    "\n",
    "\n",
    "# Feel free to use the interactive table viz as follows:\n",
    "collisions_study.table_vis.interactive_display(data)"
   ]
  },
  {
   "cell_type": "code",
   "execution_count": null,
   "id": "29ad6f0c-7554-4720-97de-bc749d8f9981",
   "metadata": {},
   "outputs": [],
   "source": [
    "# Step 4: Filter data to keep only points within the network's bounding box\n",
    "# This retains only the data points that fall within the spatial extent of the network's nodes.\n",
    "filterer = CreatePreprocessor().with_filter(\n",
    "    filter_type=\"BoundingBoxFilter\",\n",
    "    nodes=nodes\n",
    ").build()\n",
    "data = filterer.transform(data)\n",
    "\n",
    "\n",
    "# Feel free to use the interactive table viz as follows (look at the number of rows):\n",
    "collisions_study.table_vis.interactive_display(data)"
   ]
  },
  {
   "cell_type": "code",
   "execution_count": null,
   "id": "ab63869d-bcbe-4055-85aa-ecc1e2ac3858",
   "metadata": {},
   "outputs": [],
   "source": [
    "# Step 5: Map collision data to the nearest intersections (nodes)\n",
    "# This adds a 'nearest_intersection' column to the data, identifying the closest node for each collision.\n",
    "\n",
    "data = collisions_study.road_networks.map_nearest_street( # Name is innapropriate and outdated. Things will change in Urban Mapper.\n",
    "    data=data,\n",
    "    longitude_column=\"LONGITUDE\",\n",
    "    latitude_column=\"LATITUDE\",\n",
    "    output_column=\"nearest_intersection\"\n",
    ")\n",
    "\n",
    "\n",
    "# Feel free to use the interactive table viz as follows (look at the new column by the end):\n",
    "collisions_study.table_vis.interactive_display(data)"
   ]
  },
  {
   "cell_type": "code",
   "execution_count": null,
   "id": "20844d1e-495b-44d4-9cb1-2a2da3eb7509",
   "metadata": {},
   "outputs": [],
   "source": [
    "# Step 6: Enrich the network by counting collisions per node (intersections)\n",
    "# This counts the number of collisions per node and attaches the 'collision_count' to the enriched nodes.\n",
    "\n",
    "enricher = CreateEnricher().with_data(\n",
    "    group_by=\"nearest_intersection\"\n",
    ").count_by(\n",
    "    target=\"nodes\",\n",
    "    output_column=\"collision_count\"\n",
    ").build()\n",
    "\n",
    "enriched_data, enriched_graph, enriched_nodes, enriched_edges = enricher.enrich(\n",
    "    data,\n",
    "    graph=graph,\n",
    "    nodes=nodes,\n",
    "    edges=edges\n",
    ")"
   ]
  },
  {
   "cell_type": "code",
   "execution_count": null,
   "id": "9e5cfca6-25f2-4057-8ad3-d2b9baf378ca",
   "metadata": {},
   "outputs": [],
   "source": [
    "# Step 7: Visualise the enriched network interactively\n",
    "# This creates an interactive map showing collision counts at nodes, styled with a red colormap on a dark Folium basemap.\n",
    "\n",
    "visualiser = InteractiveVisualiser()\n",
    "\n",
    "viz = visualiser.render(\n",
    "    graph=enriched_graph,\n",
    "    nodes=enriched_nodes,\n",
    "    edges=enriched_edges,\n",
    "    result_columns=\"collision_count\",\n",
    "    target=\"nodes\",\n",
    "    colormap=\"Reds\",\n",
    "    tile_provider=\"Cartodb dark_matter\"\n",
    ")\n",
    "viz"
   ]
  },
  {
   "cell_type": "code",
   "execution_count": null,
   "id": "19f50fcc-3361-413b-bea7-19473c4bff65",
   "metadata": {},
   "outputs": [],
   "source": [
    "# Step 8: Visualise the enriched network Statically\n",
    "# This creates a static mat plot lib viz showing collision counts at nodes, styled with a red colormap.\n",
    "\n",
    "visualiser = StaticVisualiser()\n",
    "\n",
    "viz = visualiser.render(\n",
    "    graph=enriched_graph,\n",
    "    nodes=enriched_nodes,\n",
    "    edges=enriched_edges,\n",
    "    result_columns=\"collision_count\",\n",
    "    target=\"nodes\",\n",
    "    colormap=\"Reds\",\n",
    "    tile_provider=\"Cartodb dark_matter\"\n",
    ")\n",
    "viz"
   ]
  },
  {
   "cell_type": "code",
   "execution_count": null,
   "id": "e80d99b5-c867-4794-af0d-eaed7e641abc",
   "metadata": {},
   "outputs": [],
   "source": []
  },
  {
   "cell_type": "code",
   "execution_count": null,
   "id": "1f64de7c-8edc-4040-b7bc-69d364d1aff3",
   "metadata": {},
   "outputs": [],
   "source": []
  }
 ],
 "metadata": {
  "kernelspec": {
   "display_name": "Python 3 (ipykernel)",
   "language": "python",
   "name": "python3"
  },
  "language_info": {
   "codemirror_mode": {
    "name": "ipython",
    "version": 3
   },
   "file_extension": ".py",
   "mimetype": "text/x-python",
   "name": "python",
   "nbconvert_exporter": "python",
   "pygments_lexer": "ipython3",
   "version": "3.10.12"
  }
 },
 "nbformat": 4,
 "nbformat_minor": 5
}
