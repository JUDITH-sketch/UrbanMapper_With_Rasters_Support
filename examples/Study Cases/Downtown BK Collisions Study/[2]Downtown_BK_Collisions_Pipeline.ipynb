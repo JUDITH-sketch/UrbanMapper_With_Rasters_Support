{
 "cells": [
  {
   "cell_type": "markdown",
   "metadata": {},
   "source": [
    "# Downtown Brooklyn Collisions Study - Pipeline\n",
    "This notebook uses UrbanPipeline to efficiently analyse collision data, counting collisions per intersection."
   ]
  },
  {
   "cell_type": "code",
   "execution_count": null,
   "metadata": {},
   "outputs": [],
   "source": [
    "import urban_mapper as um\n",
    "from urban_mapper.pipeline import UrbanPipeline\n",
    "\n",
    "mapper = um.UrbanMapper()\n",
    "\n",
    "# Define the pipeline\n",
    "pipeline = UrbanPipeline([\n",
    "    (\"urban_layer\", (\n",
    "        mapper\n",
    "        .urban_layer\n",
    "        .with_type(\"streets_intersections\")\n",
    "        .from_place(\"Downtown Brooklyn, New York City, USA\", network_type=\"drive\")\n",
    "        .with_mapping(\n",
    "            longitude_column=\"LONGITUDE\",\n",
    "            latitude_column=\"LATITUDE\",\n",
    "            output_column=\"nearest_intersection\"\n",
    "        )\n",
    "        .build()\n",
    "    )),\n",
    "    (\"loader\", (\n",
    "        mapper\n",
    "        .loader\n",
    "        .from_file(\"./NYC_Motor_Vehicle_Collisions_Mar_12_2025.csv\")\n",
    "        .with_columns(longitude_column=\"LONGITUDE\", latitude_column=\"LATITUDE\")\n",
    "        .build()\n",
    "    )),\n",
    "    (\"imputer\", (\n",
    "        mapper\n",
    "        .imputer\n",
    "        .with_type(\"SimpleGeoImputer\")\n",
    "        .on_columns(\"LONGITUDE\", \"LATITUDE\")\n",
    "        .build()\n",
    "    )),\n",
    "    (\"filter\", um.UrbanMapper().filter.with_type(\"BoundingBoxFilter\").build()),\n",
    "    (\"enricher\", (\n",
    "        mapper\n",
    "        .enricher\n",
    "        .with_data(group_by=\"nearest_intersection\")\n",
    "        .count_by(output_column=\"collision_count\")\n",
    "        .build()\n",
    "    )),\n",
    "    (\"visualiser\", (\n",
    "        mapper\n",
    "        .visual\n",
    "        .with_type(\"Interactive\")\n",
    "        .with_style({\"tiles\": \"CartoDB dark_matter\"})\n",
    "        .build()\n",
    "    ))\n",
    "])"
   ]
  },
  {
   "cell_type": "code",
   "execution_count": null,
   "metadata": {},
   "outputs": [],
   "source": [
    "# Execute the pipeline\n",
    "mapped_data, enriched_layer = pipeline.compose_transform()"
   ]
  },
  {
   "cell_type": "code",
   "execution_count": null,
   "metadata": {},
   "outputs": [],
   "source": [
    "# Visualize results\n",
    "pipeline.visualise([\"collision_count\"])"
   ]
  },
  {
   "cell_type": "code",
   "execution_count": null,
   "metadata": {},
   "outputs": [],
   "source": [
    "# Save the pipeline\n",
    "pipeline.save(\"./collisions_pipeline.dill\")"
   ]
  },
  {
   "cell_type": "code",
   "execution_count": null,
   "metadata": {},
   "outputs": [],
   "source": []
  }
 ],
 "metadata": {
  "kernelspec": {
   "display_name": "Python 3 (ipykernel)",
   "language": "python",
   "name": "python3"
  },
  "language_info": {
   "codemirror_mode": {
    "name": "ipython",
    "version": 3
   },
   "file_extension": ".py",
   "mimetype": "text/x-python",
   "name": "python",
   "nbconvert_exporter": "python",
   "pygments_lexer": "ipython3",
   "version": "3.10.12"
  }
 },
 "nbformat": 4,
 "nbformat_minor": 4
}
