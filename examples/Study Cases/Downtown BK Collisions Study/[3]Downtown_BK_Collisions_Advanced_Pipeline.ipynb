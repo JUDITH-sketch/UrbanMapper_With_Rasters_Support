{
 "cells": [
  {
   "cell_type": "markdown",
   "metadata": {},
   "source": [
    "# Downtown Brooklyn Collisions Study - Advanced Pipeline\n",
    "This notebook uses UrbanPipeline to analyse collisions with multiple enrichments: injuries and fatalities per intersection."
   ]
  },
  {
   "cell_type": "code",
   "execution_count": 1,
   "execution_state": "idle",
   "metadata": {},
   "outputs": [],
   "source": [
    "import urban_mapper as um\n",
    "from urban_mapper.pipeline import UrbanPipeline\n",
    "\n",
    "# Define the pipeline\n",
    "pipeline = UrbanPipeline([\n",
    "    (\"urban_layer\", (\n",
    "        um.UrbanMapper().urban_layer\n",
    "        .with_type(\"streets_intersections\")\n",
    "        .from_place(\"Downtown Brooklyn, New York City, USA\", network_type=\"drive\")\n",
    "        .with_mapping(\n",
    "            longitude_column=\"LONGITUDE\",\n",
    "            latitude_column=\"LATITUDE\",\n",
    "            output_column=\"nearest_intersection\"\n",
    "        )\n",
    "        .build()\n",
    "    )),\n",
    "    (\"loader\", (\n",
    "        um.UrbanMapper().loader\n",
    "        .from_file(\"./NYC_Motor_Vehicle_Collisions_Mar_12_2025.csv\")\n",
    "        .with_columns(longitude_column=\"LONGITUDE\", latitude_column=\"LATITUDE\")\n",
    "        .build()\n",
    "    )),\n",
    "    (\"imputer\", (\n",
    "        um.UrbanMapper().imputer\n",
    "        .with_type(\"SimpleGeoImputer\")\n",
    "        .on_columns(\"LONGITUDE\", \"LATITUDE\")\n",
    "        .build()\n",
    "    )),\n",
    "    (\"filter\", um.UrbanMapper().filter.with_type(\"BoundingBoxFilter\").build()),\n",
    "    (\"enrich_injuries\", (\n",
    "        um.UrbanMapper().enricher\n",
    "        .with_data(group_by=\"nearest_intersection\", values_from=\"NUMBER OF PERSONS INJURED\")\n",
    "        .aggregate_by(method=\"sum\", output_column=\"total_injuries\")\n",
    "        .build()\n",
    "    )),\n",
    "    (\"enrich_fatalities\", (\n",
    "        um.UrbanMapper().enricher\n",
    "        .with_data(group_by=\"nearest_intersection\", values_from=\"NUMBER OF PERSONS KILLED\")\n",
    "        .aggregate_by(method=\"sum\", output_column=\"total_fatalities\")\n",
    "        .build()\n",
    "    )),\n",
    "    (\"visualiser\", (\n",
    "        um.UrbanMapper().visual\n",
    "        .with_type(\"Interactive\")\n",
    "        .with_style({\"tiles\": \"CartoDB dark_matter\"})\n",
    "        .build()\n",
    "    ))\n",
    "])"
   ]
  },
  {
   "cell_type": "code",
   "execution_count": 2,
   "execution_state": "idle",
   "metadata": {},
   "outputs": [
    {
     "ename": "FileNotFoundError",
     "evalue": "File 'NYC_Motor_Vehicle_Collisions_Mar_12_2025.csv' does not exist.",
     "output_type": "error",
     "traceback": [
      "\u001B[0;31m---------------------------------------------------------------------------\u001B[0m",
      "\u001B[0;31mFileNotFoundError\u001B[0m                         Traceback (most recent call last)",
      "Cell \u001B[0;32mIn[2], line 2\u001B[0m\n\u001B[1;32m      1\u001B[0m \u001B[38;5;66;03m# Execute the pipeline\u001B[39;00m\n\u001B[0;32m----> 2\u001B[0m mapped_data, enriched_layer \u001B[38;5;241m=\u001B[39m \u001B[43mpipeline\u001B[49m\u001B[38;5;241;43m.\u001B[39;49m\u001B[43mcompose_transform\u001B[49m\u001B[43m(\u001B[49m\u001B[43m)\u001B[49m\n",
      "File \u001B[0;32m<@beartype(urban_mapper.pipeline.pipeline.UrbanPipeline.compose_transform) at 0x16a247130>:13\u001B[0m, in \u001B[0;36mcompose_transform\u001B[0;34m(__beartype_object_4394230928, __beartype_object_5521835200, __beartype_get_violation, __beartype_conf, __beartype_check_meta, __beartype_func, *args, **kwargs)\u001B[0m\n",
      "File \u001B[0;32m~/Desktop/Delivery/NYU/UrbanMapper/src/urban_mapper/utils/helpers/require_attributes_not_none.py:35\u001B[0m, in \u001B[0;36mrequire_attributes_not_none.<locals>.decorator.<locals>.wrapper\u001B[0;34m(self, *args, **kwargs)\u001B[0m\n\u001B[1;32m     31\u001B[0m             \u001B[38;5;28;01melse\u001B[39;00m:\n\u001B[1;32m     32\u001B[0m                 \u001B[38;5;28;01mraise\u001B[39;00m \u001B[38;5;167;01mValueError\u001B[39;00m(\n\u001B[1;32m     33\u001B[0m                     \u001B[38;5;124mf\u001B[39m\u001B[38;5;124m\"\u001B[39m\u001B[38;5;124mAttribute \u001B[39m\u001B[38;5;124m'\u001B[39m\u001B[38;5;132;01m{\u001B[39;00mname\u001B[38;5;132;01m}\u001B[39;00m\u001B[38;5;124m'\u001B[39m\u001B[38;5;124m is None on \u001B[39m\u001B[38;5;132;01m{\u001B[39;00m\u001B[38;5;28mself\u001B[39m\u001B[38;5;241m.\u001B[39m\u001B[38;5;18m__class__\u001B[39m\u001B[38;5;241m.\u001B[39m\u001B[38;5;18m__name__\u001B[39m\u001B[38;5;132;01m}\u001B[39;00m\u001B[38;5;124m\"\u001B[39m\n\u001B[1;32m     34\u001B[0m                 )\n\u001B[0;32m---> 35\u001B[0m \u001B[38;5;28;01mreturn\u001B[39;00m \u001B[43mfunc\u001B[49m\u001B[43m(\u001B[49m\u001B[38;5;28;43mself\u001B[39;49m\u001B[43m,\u001B[49m\u001B[43m \u001B[49m\u001B[38;5;241;43m*\u001B[39;49m\u001B[43margs\u001B[49m\u001B[43m,\u001B[49m\u001B[43m \u001B[49m\u001B[38;5;241;43m*\u001B[39;49m\u001B[38;5;241;43m*\u001B[39;49m\u001B[43mkwargs\u001B[49m\u001B[43m)\u001B[49m\n",
      "File \u001B[0;32m~/Desktop/Delivery/NYU/UrbanMapper/src/urban_mapper/pipeline/pipeline.py:77\u001B[0m, in \u001B[0;36mUrbanPipeline.compose_transform\u001B[0;34m(self)\u001B[0m\n\u001B[1;32m     73\u001B[0m \u001B[38;5;129m@require_attributes_not_none\u001B[39m(\u001B[38;5;124m\"\u001B[39m\u001B[38;5;124msteps\u001B[39m\u001B[38;5;124m\"\u001B[39m)\n\u001B[1;32m     74\u001B[0m \u001B[38;5;28;01mdef\u001B[39;00m\u001B[38;5;250m \u001B[39m\u001B[38;5;21mcompose_transform\u001B[39m(\n\u001B[1;32m     75\u001B[0m     \u001B[38;5;28mself\u001B[39m,\n\u001B[1;32m     76\u001B[0m ) \u001B[38;5;241m-\u001B[39m\u001B[38;5;241m>\u001B[39m Tuple[gpd\u001B[38;5;241m.\u001B[39mGeoDataFrame, UrbanLayerBase]:\n\u001B[0;32m---> 77\u001B[0m     \u001B[38;5;28;01mreturn\u001B[39;00m \u001B[38;5;28;43mself\u001B[39;49m\u001B[38;5;241;43m.\u001B[39;49m\u001B[43mexecutor\u001B[49m\u001B[38;5;241;43m.\u001B[39;49m\u001B[43mcompose_transform\u001B[49m\u001B[43m(\u001B[49m\u001B[43m)\u001B[49m\n",
      "File \u001B[0;32m<@beartype(urban_mapper.pipeline.executor.PipelineExecutor.compose_transform) at 0x168f79510>:13\u001B[0m, in \u001B[0;36mcompose_transform\u001B[0;34m(__beartype_object_4394230928, __beartype_object_5521835200, __beartype_get_violation, __beartype_conf, __beartype_check_meta, __beartype_func, *args, **kwargs)\u001B[0m\n",
      "File \u001B[0;32m~/Desktop/Delivery/NYU/UrbanMapper/src/urban_mapper/pipeline/executor.py:92\u001B[0m, in \u001B[0;36mPipelineExecutor.compose_transform\u001B[0;34m(self)\u001B[0m\n\u001B[1;32m     89\u001B[0m \u001B[38;5;28;01mdef\u001B[39;00m\u001B[38;5;250m \u001B[39m\u001B[38;5;21mcompose_transform\u001B[39m(\n\u001B[1;32m     90\u001B[0m     \u001B[38;5;28mself\u001B[39m,\n\u001B[1;32m     91\u001B[0m ) \u001B[38;5;241m-\u001B[39m\u001B[38;5;241m>\u001B[39m Tuple[gpd\u001B[38;5;241m.\u001B[39mGeoDataFrame, UrbanLayerBase]:\n\u001B[0;32m---> 92\u001B[0m     \u001B[38;5;28;43mself\u001B[39;49m\u001B[38;5;241;43m.\u001B[39;49m\u001B[43mcompose\u001B[49m\u001B[43m(\u001B[49m\u001B[43m)\u001B[49m\n\u001B[1;32m     93\u001B[0m     \u001B[38;5;28;01mreturn\u001B[39;00m \u001B[38;5;28mself\u001B[39m\u001B[38;5;241m.\u001B[39mtransform()\n",
      "File \u001B[0;32m<@beartype(urban_mapper.pipeline.executor.PipelineExecutor.compose) at 0x168f793f0>:12\u001B[0m, in \u001B[0;36mcompose\u001B[0;34m(__beartype_object_4371077416, __beartype_get_violation, __beartype_conf, __beartype_check_meta, __beartype_func, *args, **kwargs)\u001B[0m\n",
      "File \u001B[0;32m~/Desktop/Delivery/NYU/UrbanMapper/src/urban_mapper/pipeline/executor.py:62\u001B[0m, in \u001B[0;36mPipelineExecutor.compose\u001B[0;34m(self)\u001B[0m\n\u001B[1;32m     60\u001B[0m     \u001B[38;5;28;01mraise\u001B[39;00m \u001B[38;5;167;01mValueError\u001B[39;00m(\u001B[38;5;124m\"\u001B[39m\u001B[38;5;124mPipeline must include exactly one LoaderBase step.\u001B[39m\u001B[38;5;124m\"\u001B[39m)\n\u001B[1;32m     61\u001B[0m loader_name, loader_instance \u001B[38;5;241m=\u001B[39m loader_step\n\u001B[0;32m---> 62\u001B[0m \u001B[38;5;28mself\u001B[39m\u001B[38;5;241m.\u001B[39mdata \u001B[38;5;241m=\u001B[39m \u001B[43mloader_instance\u001B[49m\u001B[38;5;241;43m.\u001B[39;49m\u001B[43mload_data_from_file\u001B[49m\u001B[43m(\u001B[49m\u001B[43m)\u001B[49m\n\u001B[1;32m     64\u001B[0m \u001B[38;5;28;01mfor\u001B[39;00m name, step \u001B[38;5;129;01min\u001B[39;00m \u001B[38;5;28mself\u001B[39m\u001B[38;5;241m.\u001B[39msteps:\n\u001B[1;32m     65\u001B[0m     \u001B[38;5;28;01mif\u001B[39;00m \u001B[38;5;28misinstance\u001B[39m(step, GeoImputerBase):\n",
      "File \u001B[0;32m<@beartype(urban_mapper.modules.loader.helpers.ensure_coordinate_reference_system.ensure_coordinate_reference_system.wrapper) at 0x112fa32e0>:12\u001B[0m, in \u001B[0;36mwrapper\u001B[0;34m(__beartype_object_4394230928, __beartype_get_violation, __beartype_conf, __beartype_check_meta, __beartype_func, *args, **kwargs)\u001B[0m\n",
      "File \u001B[0;32m~/Desktop/Delivery/NYU/UrbanMapper/src/urban_mapper/utils/helpers/file_exists.py:14\u001B[0m, in \u001B[0;36mfile_exists.<locals>.decorator.<locals>.wrapper\u001B[0;34m(self, *args, **kwargs)\u001B[0m\n\u001B[1;32m     12\u001B[0m path \u001B[38;5;241m=\u001B[39m \u001B[38;5;28mgetattr\u001B[39m(\u001B[38;5;28mself\u001B[39m, attr_name)\n\u001B[1;32m     13\u001B[0m \u001B[38;5;28;01mif\u001B[39;00m \u001B[38;5;129;01mnot\u001B[39;00m Path(path)\u001B[38;5;241m.\u001B[39mexists():\n\u001B[0;32m---> 14\u001B[0m     \u001B[38;5;28;01mraise\u001B[39;00m \u001B[38;5;167;01mFileNotFoundError\u001B[39;00m(\u001B[38;5;124mf\u001B[39m\u001B[38;5;124m\"\u001B[39m\u001B[38;5;124mFile \u001B[39m\u001B[38;5;124m'\u001B[39m\u001B[38;5;132;01m{\u001B[39;00mpath\u001B[38;5;132;01m}\u001B[39;00m\u001B[38;5;124m'\u001B[39m\u001B[38;5;124m does not exist.\u001B[39m\u001B[38;5;124m\"\u001B[39m)\n\u001B[1;32m     15\u001B[0m \u001B[38;5;28;01mreturn\u001B[39;00m func(\u001B[38;5;28mself\u001B[39m, \u001B[38;5;241m*\u001B[39margs, \u001B[38;5;241m*\u001B[39m\u001B[38;5;241m*\u001B[39mkwargs)\n",
      "\u001B[0;31mFileNotFoundError\u001B[0m: File 'NYC_Motor_Vehicle_Collisions_Mar_12_2025.csv' does not exist."
     ]
    }
   ],
   "source": [
    "# Execute the pipeline\n",
    "mapped_data, enriched_layer = pipeline.compose_transform()"
   ]
  },
  {
   "cell_type": "code",
   "execution_count": null,
   "execution_state": "idle",
   "metadata": {},
   "outputs": [],
   "source": [
    "# Visualize results\n",
    "fig = pipeline.visualise([\"total_injuries\", \"total_fatalities\"])\n",
    "fig"
   ]
  },
  {
   "cell_type": "code",
   "execution_count": null,
   "execution_state": "idle",
   "metadata": {},
   "outputs": [],
   "source": [
    "# Save the pipeline\n",
    "pipeline.save(\"./collisions_advanced_pipeline.dill\")"
   ]
  },
  {
   "cell_type": "code",
   "execution_count": null,
   "metadata": {},
   "outputs": [],
   "source": []
  }
 ],
 "metadata": {
  "kernelspec": {
   "display_name": "Python 3 (ipykernel)",
   "language": "python",
   "name": "python3"
  },
  "language_info": {
   "codemirror_mode": {
    "name": "ipython",
    "version": 3
   },
   "file_extension": ".py",
   "mimetype": "text/x-python",
   "name": "python",
   "nbconvert_exporter": "python",
   "pygments_lexer": "ipython3",
   "version": "3.10.12"
  }
 },
 "nbformat": 4,
 "nbformat_minor": 4
}
