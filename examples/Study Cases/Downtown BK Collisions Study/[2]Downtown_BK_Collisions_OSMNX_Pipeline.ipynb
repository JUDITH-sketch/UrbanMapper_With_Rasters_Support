{
 "cells": [
  {
   "cell_type": "code",
   "execution_count": null,
   "id": "2f08176e-748d-40c9-9052-e0d050f74557",
   "metadata": {},
   "outputs": [],
   "source": [
    "import osmnx_mapping as oxm\n",
    "from osmnx_mapping.pipeline import UrbanPipeline\n",
    "from osmnx_mapping.modules.loader import CSVLoader\n",
    "from osmnx_mapping.modules.preprocessing import CreatePreprocessor\n",
    "from osmnx_mapping.modules.enricher import CreateEnricher\n",
    "from osmnx_mapping.modules.visualiser import InteractiveVisualiser\n",
    "from osmnx_mapping.modules.network import CreateNetwork"
   ]
  },
  {
   "cell_type": "code",
   "execution_count": null,
   "id": "0ac3c4ff-c362-4099-bcfd-97e7817dfb01",
   "metadata": {},
   "outputs": [],
   "source": [
    "pipeline = UrbanPipeline([\n",
    "    # Load collision data from CSV file\n",
    "    (\"load\", CSVLoader(file_path=\"./../../data/ACCIDENTS/NYC/CSV/NYC_Motor_Vehicle_Collisions_Mar_12_2025.csv\")),\n",
    "\n",
    "    # Build Downtown Brooklyn street network and prepare mapper to map data to nearest intersections with threshold = \n",
    "    ('network', CreateNetwork()\n",
    "        .with_place('Downtown, Brooklyn, New York, USA', network_type='drive')\n",
    "        .with_mapping(mapping_type='node', output_column='nearest_intersection', longitude_column_name=\"LONGITUDE\", latitude_column_name=\"LATITUDE\")\n",
    "        .build()\n",
    "    ),\n",
    "\n",
    "    # Drop rows missing latitude or longitude\n",
    "    (\"impute\", CreatePreprocessor().with_imputer(\n",
    "        imputer_type=\"SimpleGeoImputer\",\n",
    "    ).build()),\n",
    "\n",
    "    # Keep only data within the network's bounding box\n",
    "    (\"filter\", CreatePreprocessor().with_filter(\n",
    "        filter_type=\"BoundingBoxFilter\"\n",
    "    ).build()),\n",
    "\n",
    "    # Count collisions per intersection\n",
    "    (\"enrich\", CreateEnricher().with_data(\n",
    "        group_by=\"nearest_intersection\"\n",
    "    ).count_by(\n",
    "        target=\"nodes\",\n",
    "        output_column=\"collision_count\"\n",
    "    ).build()),\n",
    "\n",
    "    # Enable interactive result visualization\n",
    "    (\"viz\", InteractiveVisualiser())\n",
    "])"
   ]
  },
  {
   "cell_type": "code",
   "execution_count": null,
   "id": "62876127-d7a8-4870-8819-b8b51841be28",
   "metadata": {},
   "outputs": [],
   "source": [
    "data, graph, nodes, edges = pipeline.compose_transform(\n",
    "    latitude_column_name=\"LATITUDE\",\n",
    "    longitude_column_name=\"LONGITUDE\"\n",
    ")"
   ]
  },
  {
   "cell_type": "code",
   "execution_count": null,
   "id": "1a02533a-9e7f-4bf3-870d-e291a7cd964a",
   "metadata": {},
   "outputs": [],
   "source": [
    "# Visualise the enriched network on intersections (nodes)\n",
    "viz = pipeline.visualise(\n",
    "    result_columns=\"collision_count\",\n",
    "    target=\"nodes\",\n",
    "    colormap=\"Reds\",\n",
    "    tile_provider=\"Cartodb dark_matter\"\n",
    ")\n",
    "viz"
   ]
  },
  {
   "cell_type": "code",
   "execution_count": null,
   "id": "bd3cd445-ad60-4178-9b19-c700f193738f",
   "metadata": {},
   "outputs": [],
   "source": []
  }
 ],
 "metadata": {
  "kernelspec": {
   "display_name": "Python 3 (ipykernel)",
   "language": "python",
   "name": "python3"
  },
  "language_info": {
   "codemirror_mode": {
    "name": "ipython",
    "version": 3
   },
   "file_extension": ".py",
   "mimetype": "text/x-python",
   "name": "python",
   "nbconvert_exporter": "python",
   "pygments_lexer": "ipython3",
   "version": "3.10.12"
  }
 },
 "nbformat": 4,
 "nbformat_minor": 5
}
