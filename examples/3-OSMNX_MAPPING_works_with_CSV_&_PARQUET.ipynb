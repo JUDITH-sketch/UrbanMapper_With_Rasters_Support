{
 "cells": [
  {
   "cell_type": "markdown",
   "metadata": {},
   "source": [
    "# Welcome to OSMNxMapping ☀️!\n",
    "\n",
    "In this Jupyter notebook, we'll explore how to load two common file formats—CSV and Parquet—containing taxi trip data into OSMNxMapping and visualise them interactively using Skrub. These files typically include explicit latitude and longitude columns, which OSMNxMapping handles seamlessly thanks to its loader factory supporting various data formats.\n",
    "\n",
    "**Goal**: Learn to:\n",
    "- Import the OSMNxMapping library.\n",
    "- Initialise an OSMNxMapping instance.\n",
    "- Load a CSV file with taxi trip data.\n",
    "- Load a Parquet file with taxi trip data.\n",
    "- Visualise both datasets interactively with Skrub.\n",
    "\n",
    "We'll use example files (`taxi_trips.csv` and `taxi_trips.parquet`) representing NYC taxi trips. For further steps like querying road networks, mapping data, enriching networks, or visualising results, please refer to the `1-OSMNX_MAPPING_with_Auctus_basics` notebook.\n",
    "\n",
    "Let's get started! 🚕"
   ]
  },
  {
   "cell_type": "markdown",
   "metadata": {},
   "source": [
    "## Step 1: Import the Library\n",
    "\n",
    "We begin by importing the `osmnx_mapping` library with the alias `oxm` for ease of use."
   ]
  },
  {
   "cell_type": "code",
   "execution_count": null,
   "metadata": {},
   "outputs": [],
   "source": [
    "import osmnx_mapping as oxm"
   ]
  },
  {
   "cell_type": "markdown",
   "metadata": {},
   "source": [
    "## Step 2: Initialise an OSMNxMapping Instance\n",
    "\n",
    "Next, we create an instance of `OSMNxMapping` named `taxi_trips`. This instance will manage our urban taxi trip data. At this stage, no data is loaded—it’s just the foundation for our next steps."
   ]
  },
  {
   "cell_type": "code",
   "execution_count": null,
   "metadata": {},
   "outputs": [],
   "source": [
    "taxi_trips = oxm.OSMNxMapping()"
   ]
  },
  {
   "cell_type": "markdown",
   "metadata": {},
   "source": [
    "## Step 3: Load the CSV File\n",
    "\n",
    "We load the CSV file `taxi_trips.csv` using the `load_from_file` method from the `LoaderMixin`. This file contains taxi trip data with explicit latitude and longitude columns, which we specify to ensure proper geospatial conversion.\n",
    "\n",
    "> **Note**: Ensure the file path (`\"./taxi_trips.csv\"`) matches the location of your CSV file. Adjust it if necessary, and replace `\"latitude\"` and `\"longitude\"` with your dataset’s actual column names if they differ (e.g., `\"pickup_latitude\"`)."
   ]
  },
  {
   "cell_type": "code",
   "execution_count": null,
   "metadata": {},
   "outputs": [],
   "source": [
    "csv_data = taxi_trips.loader.load_from_file(\n",
    "    file_path=\"./taxi_trips.csv\",\n",
    "    latitude_column=\"latitude\",  # Replace with your CSV's latitude column name\n",
    "    longitude_column=\"longitude\"  # Replace with your CSV's longitude column name\n",
    ")"
   ]
  },
  {
   "cell_type": "markdown",
   "metadata": {},
   "source": [
    "## Step 4: Load the Parquet File\n",
    "\n",
    "Similarly, we load the Parquet file `taxi_trips.parquet` using the same `load_from_file` method. The loader factory automatically detects the file format and processes it accordingly, again using explicit latitude and longitude columns.\n",
    "\n",
    "> **Note**: Ensure the file path (`\"./taxi_trips.parquet\"`) matches your Parquet file’s location. Adjust column names as needed, consistent with the CSV."
   ]
  },
  {
   "cell_type": "code",
   "execution_count": null,
   "metadata": {},
   "outputs": [],
   "source": [
    "parquet_data = taxi_trips.loader.load_from_file(\n",
    "    file_path=\"./taxi_trips.parquet\",\n",
    "    latitude_column=\"latitude\",  # Replace with your Parquet's latitude column name\n",
    "    longitude_column=\"longitude\"  # Replace with your Parquet's longitude column name\n",
    ")"
   ]
  },
  {
   "cell_type": "markdown",
   "metadata": {},
   "source": [
    "## Step 5: Visualise the Loaded Data Interactively\n",
    "\n",
    "Now, we use the `TableVisMixin`’s `interactive_display` method to visualise both datasets interactively with Skrub. This creates sortable, filterable tables in the notebook, allowing you to explore the attributes of the taxi trip data from both the CSV and Parquet files."
   ]
  },
  {
   "cell_type": "markdown",
   "metadata": {},
   "source": [
    "### Substep 1: Visualise CSV Data"
   ]
  },
  {
   "cell_type": "code",
   "execution_count": null,
   "metadata": {},
   "outputs": [],
   "source": [
    "taxi_trips.table_vis.interactive_display(csv_data, title=\"Taxi Trips from CSV\")"
   ]
  },
  {
   "cell_type": "markdown",
   "metadata": {},
   "source": [
    "### Substep 2: Visualise Parquet Data"
   ]
  },
  {
   "cell_type": "code",
   "execution_count": null,
   "metadata": {},
   "outputs": [],
   "source": [
    "taxi_trips.table_vis.interactive_display(parquet_data, title=\"Taxi Trips from Parquet\")"
   ]
  },
  {
   "cell_type": "markdown",
   "metadata": {},
   "source": [
    "## Conclusion\n",
    "\n",
    "Well done! 🥐 You’ve successfully loaded taxi trip data from both a CSV and a Parquet file into OSMNxMapping and visualised them interactively using Skrub. This is a fantastic starting point for working with tabular urban data in different formats.\n",
    "\n",
    "To take your analysis further—such as querying a road network, mapping taxi trips to streets, enriching the network, or visualising the results—check out the `1-OSMNX_MAPPING_with_Auctus_basics` notebook. It builds on this foundation with a complete workflow.\n",
    "\n",
    "Happy mapping! 🌆"
   ]
  }
 ],
 "metadata": {
  "kernelspec": {
   "display_name": "Python 3 (ipykernel)",
   "language": "python",
   "name": "python3"
  },
  "language_info": {
   "codemirror_mode": {
    "name": "ipython",
    "version": 3
   },
   "file_extension": ".py",
   "mimetype": "text/x-python",
   "name": "python",
   "nbconvert_exporter": "python",
   "pygments_lexer": "ipython3",
   "version": "3.10.12"
  }
 },
 "nbformat": 4,
 "nbformat_minor": 4
}
