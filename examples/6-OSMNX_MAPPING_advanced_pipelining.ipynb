{
 "cells": [
  {
   "cell_type": "markdown",
   "metadata": {},
   "source": [
    "# Welcome to OSMNxMapping ☀️!\n",
    "\n",
    "In this Jupyter notebook, we'll explore advanced pipelining techniques using the `UrbanPipeline` class in OSMNxMapping. We'll work with taxi trip data from New York City, enriching a Manhattan street network with multiple aggregations: the count of trips and the average tip amount per street segment. This example demonstrates how to perform multiple singular enrichments in a single pipeline, showcasing the flexibility and power of OSMNxMapping.\n",
    "\n",
    "**Goals**:\n",
    "- Import the OSMNxMapping library and necessary modules.\n",
    "- Initialise an OSMNxMapping instance.\n",
    "- Build a pipeline that includes loading, preprocessing, multiple singular enrichments, and visualisation.\n",
    "- Execute the pipeline using `compose_transform`.\n",
    "- Visualise the enriched network with multiple attributes.\n",
    "- Understand how to handle multiple enrichments in a single workflow.\n",
    "\n",
    "Unlike previous notebooks, we won’t use Auctus here—data must be available locally in CSV, Shapefile, or Parquet format. We'll use a sample CSV file (`taxis.csv`). For foundational steps or alternative approaches, refer to the `1-OSMNX_MAPPING_with_Auctus_basics` notebook.\n",
    "\n",
    "Let’s get started! 🚀"
   ]
  },
  {
   "cell_type": "markdown",
   "metadata": {},
   "source": [
    "## Step 1: Import the Library and Modules\n",
    "\n",
    "We start by importing the `osmnx_mapping` library and the necessary modules for building our pipeline. This includes classes for the network, data loader, preprocessors, enrichers, and visualisers.\n"
   ]
  },
  {
   "cell_type": "code",
   "execution_count": 1,
   "metadata": {},
   "outputs": [],
   "source": [
    "import osmnx_mapping as oxm\n",
    "from osmnx_mapping.pipeline import UrbanPipeline\n",
    "from osmnx_mapping.modules.network import OSMNxNetwork\n",
    "from osmnx_mapping.modules.loader import CSVLoader\n",
    "from osmnx_mapping.modules.preprocessing import CreatePreprocessor\n",
    "from osmnx_mapping.modules.enricher import CreateEnricher\n",
    "from osmnx_mapping.modules.visualiser import InteractiveVisualiser\n"
   ]
  },
  {
   "cell_type": "markdown",
   "metadata": {},
   "source": [
    "## Step 2: Initialise an OSMNxMapping Instance\n",
    "\n",
    "We create an instance of `OSMNxMapping` named `taxi_trips`. This instance will manage our pipeline and urban data analysis.\n"
   ]
  },
  {
   "cell_type": "code",
   "execution_count": 2,
   "metadata": {},
   "outputs": [],
   "source": [
    "taxi_trips = oxm.OSMNxMapping()"
   ]
  },
  {
   "cell_type": "markdown",
   "metadata": {},
   "source": [
    "## Step 3: Build the Urban Pipeline\n",
    "\n",
    "We construct an `UrbanPipeline` with a series of steps to process our taxi trip data and enrich the Manhattan street network:\n",
    "\n",
    "- **Network**: Query a drive network for Manhattan, NYC using `OSMNxNetwork`.\n",
    "- **Loader**: Load the taxi trip data from a CSV file using `CSVLoader`.\n",
    "- **Impute**: Handle missing geospatial data using `SimpleGeoImputer`.\n",
    "- **Filter**: Retain only data points within the network's bounding box using `BoundingBoxFilter`.\n",
    "- **Enrich trip_count**: Calculate the count of trips per street segment.\n",
    "- **Enrich avg_tip_amount**: Calculate the average tip amount per street segment.\n",
    "- **Visualise**: Set up an `InteractiveVisualiser` for interactive visualisation.\n",
    "\n",
    "> **Note**: Ensure the file path to the CSV file is correct and that the column names match your dataset.\n"
   ]
  },
  {
   "metadata": {},
   "cell_type": "code",
   "outputs": [],
   "execution_count": null,
   "source": [
    "pipeline_csv = UrbanPipeline([\n",
    "    (\"network\", OSMNxNetwork(place_name=\"Manhattan, NYC\", network_type=\"drive\")),\n",
    "    (\"loader\", CSVLoader(file_path=\"./taxis.csv\")),\n",
    "    (\"impute\", CreatePreprocessor().with_imputer(\n",
    "        imputer_type=\"SimpleGeoImputer\",\n",
    "    ).build()),\n",
    "    (\"filter\", CreatePreprocessor().with_filter(\n",
    "        filter_type=\"BoundingBoxFilter\"\n",
    "    ).build()),\n",
    "    (\"enrich avg_trip_count\", CreateEnricher()\n",
    "        .with_data(group_by=\"nearest_node\")\n",
    "        .count_by(edge_method=\"average\", output_column=\"avg_trip_count\")\n",
    "        .build()\n",
    "    ),\n",
    "    (\"enrich avg_tip_amount\", CreateEnricher()\n",
    "        .with_data(group_by=\"nearest_node\", values_from=\"tip_amount\")\n",
    "        .aggregate_with(method=\"mean\", output_column=\"avg_tip_amount\")\n",
    "        .build()\n",
    "    ),\n",
    "    (\"viz\", InteractiveVisualiser())\n",
    "])\n"
   ]
  },
  {
   "cell_type": "markdown",
   "metadata": {},
   "source": [
    "### Understanding the Enrichment Steps\n",
    "\n",
    "In this pipeline, we perform two distinct enrichments on the network:\n",
    "\n",
    "1. **Enrich avg_trip_count**:\n",
    "   - We use `CreateEnricher().with_data(group_by=\"nearest_node\")` to group the data by the nearest node in the network.\n",
    "   - Then, `.count_by(edge_method=\"average\", output_column=\"avg_trip_count\")` counts the number of trips associated with each node and averages this count across the edges connected to each node. This gives us a measure of trip density per street segment.\n",
    "\n",
    "2. **Enrich avg_tip_amount**:\n",
    "   - Similarly, `CreateEnricher().with_data(group_by=\"nearest_node\", values_from=\"tip_amount\")` groups the data by the nearest node and considers the `tip_amount` values.\n",
    "   - `.aggregate_with(method=\"mean\", output_column=\"avg_tip_amount\")` calculates the mean tip amount for trips associated with each node. Since we didn't specify an `edge_method`, it defaults to assigning the node value to the edges in a suitable way (e.g., averaging between connected nodes).\n",
    "\n",
    "These enrichments allow us to analyse different aspects of the taxi trip data on the street network simultaneously.\n"
   ]
  },
  {
   "cell_type": "markdown",
   "metadata": {},
   "source": [
    "## Step 4: Execute the Pipeline\n",
    "\n",
    "We execute the pipeline using `compose_transform`, which runs all the defined steps in sequence. We specify the latitude and longitude column names from the dataset to ensure correct geospatial processing.\n",
    "\n",
    "This step returns the processed data, enriched graph, nodes, and edges.\n"
   ]
  },
  {
   "cell_type": "code",
   "execution_count": 4,
   "metadata": {},
   "outputs": [],
   "source": [
    "data_csv, graph_csv, nodes_csv, edges_csv = pipeline_csv.compose_transform(\n",
    "    latitude_column_name=\"pickup_latitude\",\n",
    "    longitude_column_name=\"pickup_longitude\"\n",
    ")\n"
   ]
  },
  {
   "cell_type": "markdown",
   "metadata": {},
   "source": [
    "## Step 5: Visualise the Enriched Network\n",
    "\n",
    "Finally, we visualise the enriched network using the `visualise` method of the pipeline. We specify the columns to visualise (`avg_trip_count` and `avg_tip_amount`) and choose a colormap for the visualisation.\n",
    "\n",
    "The `InteractiveVisualiser` will display an interactive map, allowing you to explore both enriched attributes.\n",
    "\n",
    "> **Note**: Ensure that the Jupyter extensions for interactive visualisation are installed as per the library's installation instructions.\n"
   ]
  },
  {
   "cell_type": "code",
   "execution_count": 7,
   "metadata": {},
   "outputs": [
    {
     "data": {
      "application/vnd.jupyter.widget-view+json": {
       "model_id": "8984ed90b9d9403fbd9b534241b2ae86",
       "version_major": 2,
       "version_minor": 0
      },
      "text/plain": [
       "VBox(children=(Dropdown(description='Viz. with:', options=('avg_trip_count', 'avg_tip_amount'), value='avg_tri…"
      ]
     },
     "execution_count": 7,
     "metadata": {},
     "output_type": "execute_result"
    }
   ],
   "source": [
    "viz_csv = pipeline_csv.visualise(result_columns=[\"avg_trip_count\", \"avg_tip_amount\"], colormap=\"Greens\")\n",
    "viz_csv\n"
   ]
  },
  {
   "cell_type": "markdown",
   "metadata": {},
   "source": [
    "## Conclusion\n",
    "\n",
    "Congratulations! 🎉 You've successfully built an advanced urban pipeline using OSMNxMapping to enrich a Manhattan street network with multiple attributes from taxi trip data. This example demonstrates the power of pipelining for handling complex urban data workflows efficiently.\n",
    "\n",
    "For more details on each component or to explore other features, refer to the OSMNxMapping API documentation and the `examples/` directory.\n",
    "\n",
    "Happy urban mapping! 🌆\n"
   ]
  },
  {
   "cell_type": "code",
   "execution_count": null,
   "metadata": {},
   "outputs": [],
   "source": []
  }
 ],
 "metadata": {
  "kernelspec": {
   "display_name": "Python 3 (ipykernel)",
   "language": "python",
   "name": "python3"
  },
  "language_info": {
   "codemirror_mode": {
    "name": "ipython",
    "version": 3
   },
   "file_extension": ".py",
   "mimetype": "text/x-python",
   "name": "python",
   "nbconvert_exporter": "python",
   "pygments_lexer": "ipython3",
   "version": "3.10.12"
  }
 },
 "nbformat": 4,
 "nbformat_minor": 4
}
