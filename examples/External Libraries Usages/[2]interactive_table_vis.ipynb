{
 "cells": [
  {
   "cell_type": "markdown",
   "metadata": {},
   "source": [
    "# Interactive Table Visualisation with UrbanMapper\n",
    "\n",
    "Welcome to this notebook! 🎉 In this tutorial, you’ll learn how to use UrbanMapper to load a CSV file and visualise it interactively using the `TableVisMixin` class. This is a great way to explore your urban data dynamically thanks to Skrub table viz https://skrub-data.org/stable/.\n",
    "\n",
    "**What you’ll do**:\n",
    "- Load a CSV file with UrbanMapper’s loader (you’ll provide the file path).\n",
    "- Use `TableVisMixin` to display the data in an interactive table.\n",
    "\n",
    "Let’s dive in! 🚀"
   ]
  },
  {
   "cell_type": "markdown",
   "metadata": {},
   "source": [
    "## Step 1: Initialising UrbanMapper\n",
    "\n",
    "We’ll start by creating an instance of `UrbanMapper`. This sets up the environment for loading your CSV data."
   ]
  },
  {
   "cell_type": "code",
   "execution_count": null,
   "metadata": {},
   "outputs": [],
   "source": [
    "import urban_mapper as um\n",
    "\n",
    "# Initialize UrbanMapper\n",
    "mapper = um.UrbanMapper()"
   ]
  },
  {
   "cell_type": "markdown",
   "metadata": {},
   "source": [
    "## Step 3: Loading Your CSV Data\n",
    "\n",
    "Now, we’ll load your CSV file using UrbanMapper’s loader. Replace `\"<path>\"` with the actual path to your CSV file. We’ll specify longitude and latitude columns to prepare the data for geospatial use. Change appropriately."
   ]
  },
  {
   "cell_type": "code",
   "execution_count": null,
   "metadata": {},
   "outputs": [],
   "source": [
    "# Load CSV data (replace '<path>' with your file path)\n",
    "csv_loader = mapper.loader.from_file(\"./../../data/TAXIS/csv/taxisvis1M.csv\").with_columns(\"pickup_latitude\", \"pickup_longitude\")\n",
    "data = csv_loader.load()\n",
    "data.head()  # Preview the first few rows"
   ]
  },
  {
   "cell_type": "markdown",
   "metadata": {},
   "source": [
    "## Step 4: Displaying the Table Interactively\n",
    "\n",
    "With your data loaded, let’s use `TableVisMixin` to create an interactive table. This will allow you to sort, filter, and explore the data dynamically. We’ll display the first 10 rows, sorted by longitude.\n",
    "\n",
    "Click on some features / columns and use the nice interactive viz by Skrub."
   ]
  },
  {
   "cell_type": "code",
   "execution_count": null,
   "metadata": {},
   "outputs": [],
   "source": [
    "# Create an instance of TableVisMixin\n",
    "vis = mapper.table_vis.interactive_display(\n",
    "    dataframe=data,\n",
    "    n_rows=10,\n",
    "    title=\"Interactive Urban Data Report\",\n",
    "    verbose=1\n",
    ")\n",
    "vis"
   ]
  },
  {
   "cell_type": "markdown",
   "metadata": {},
   "source": [
    "## Wrapping Up\n",
    "\n",
    "That’s it! 🎈 You’ve successfully loaded your CSV data with UrbanMapper and visualised it interactively using `TableVisMixin`. This interactive display makes it easy to explore your dataset. Feel free to tweak the `n_rows`, `order_by`, or other parameters to customise the view!"
   ]
  },
  {
   "cell_type": "code",
   "execution_count": null,
   "metadata": {},
   "outputs": [],
   "source": []
  }
 ],
 "metadata": {
  "kernelspec": {
   "display_name": "Python 3 (ipykernel)",
   "language": "python",
   "name": "python3"
  },
  "language_info": {
   "codemirror_mode": {
    "name": "ipython",
    "version": 3
   },
   "file_extension": ".py",
   "mimetype": "text/x-python",
   "name": "python",
   "nbconvert_exporter": "python",
   "pygments_lexer": "ipython3",
   "version": "3.10.12"
  }
 },
 "nbformat": 4,
 "nbformat_minor": 4
}
