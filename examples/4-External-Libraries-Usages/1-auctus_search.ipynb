{
 "cells": [
  {
   "cell_type": "markdown",
   "metadata": {},
   "source": [
    "# Auctus Search\n",
    "\n",
    "This notebook introduces you to searching and loading urban datasets using `Auctus`, a data discovery tool integrated with `UrbanMapper`. We’ll guide you through finding datasets, profiling them, and loading them for analysis.\n",
    "\n",
    "**Further readings**:\n",
    "- https://auctus.vida-nyu.org/\n",
    "\n",
    "Let’s dive in! 🚀\n",
    "\n",
    "⚠️ Please Note — Within The Documentation's Interactive Examples ⚠️\n",
    "\n",
    "First and foremost, please bear with us; some of our Jupyter Notebooks cannot be interactive and are thus displayed as is in the documentation.  Feel free to install the library and test it out locally.  Next, determine whether they are interactive, which means you can see the output of each cell.  As a result, because it is not a good practice to save datasets in a GitHub (or any other Git in general) repository, we attempted to import urban datasets from `HuggingFace` using `from_huggingface(.)` rather than `from_file(.)`, which would need local file availability.  Nonetheless, this was (1) not always viable (certain datasets are not on `HuggingFace`), and (2) this does not preclude you from using `from_file(.)` or any other available via the API reference's `Loader` module."
   ]
  },
  {
   "cell_type": "code",
   "execution_count": null,
   "metadata": {},
   "outputs": [],
   "source": [
    "import urban_mapper as um\n",
    "\n",
    "# Start up UrbanMapper\n",
    "pluto_buildings = um.UrbanMapper()"
   ]
  },
  {
   "cell_type": "markdown",
   "metadata": {},
   "source": [
    "## Searching for Datasets with Auctus\n",
    "\n",
    "Let’s begin by searching for datasets related to 'PLUTO' using Auctus. This step queries the Auctus system and displays initial results so you can see what datasets are available."
   ]
  },
  {
   "cell_type": "code",
   "execution_count": null,
   "metadata": {},
   "outputs": [],
   "source": [
    "collection = pluto_buildings.auctus.search_datasets(search_query=\"PLUTO\", display_initial_results=True)"
   ]
  },
  {
   "cell_type": "markdown",
   "metadata": {},
   "source": [
    "## Profiling the Selected Dataset\n",
    "\n",
    "Next, we’ll profile the dataset you’ve selected from the search results. This gives you a closer look at its structure and contents to ensure it’s the right fit for your analysis."
   ]
  },
  {
   "cell_type": "code",
   "execution_count": null,
   "metadata": {},
   "outputs": [],
   "source": [
    "pluto_buildings.auctus.profile_selected_dataset()"
   ]
  },
  {
   "cell_type": "markdown",
   "metadata": {},
   "source": [
    "## Loading the Dataset from Auctus\n",
    "\n",
    "Once you’re happy with the dataset, this step loads it directly from Auctus into UrbanMapper, making it ready for further use."
   ]
  },
  {
   "cell_type": "code",
   "execution_count": null,
   "metadata": {},
   "outputs": [],
   "source": [
    "dataset = pluto_buildings.auctus.load_dataset_from_auctus()"
   ]
  },
  {
   "cell_type": "markdown",
   "metadata": {},
   "source": [
    "## Integrating the Dataset with UrbanMapper’s Loader\n",
    "\n",
    "Finally, we’ll take the loaded dataset and integrate it into UrbanMapper’s loader. By specifying the latitude and longitude columns, we prepare the data for geospatial analysis."
   ]
  },
  {
   "cell_type": "code",
   "execution_count": null,
   "metadata": {},
   "outputs": [],
   "source": [
    "pluto_data_loader = pluto_buildings.loader.from_dataframe(dataset).with_columns(\"latitude\", \"longitude\")\n",
    "pluto_data = pluto_data_loader.load()\n",
    "pluto_data"
   ]
  },
  {
   "cell_type": "markdown",
   "metadata": {},
   "source": [
    "## Wrapping Up\n",
    "\n",
    "That’s it! 🎈 You’ve successfully searched for a dataset with Auctus, profiled it, and loaded it into UrbanMapper. You’re now ready to explore more features, like creating urban layers or enriching your data."
   ]
  },
  {
   "cell_type": "code",
   "execution_count": null,
   "metadata": {},
   "outputs": [],
   "source": []
  }
 ],
 "metadata": {
  "kernelspec": {
   "display_name": "Python 3 (ipykernel)",
   "language": "python",
   "name": "python3"
  },
  "language_info": {
   "codemirror_mode": {
    "name": "ipython",
    "version": 3
   },
   "file_extension": ".py",
   "mimetype": "text/x-python",
   "name": "python",
   "nbconvert_exporter": "python",
   "pygments_lexer": "ipython3",
   "version": "3.10.12"
  }
 },
 "nbformat": 4,
 "nbformat_minor": 4
}
