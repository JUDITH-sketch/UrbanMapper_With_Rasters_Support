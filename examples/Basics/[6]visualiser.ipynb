{
 "cells": [
  {
   "cell_type": "markdown",
   "metadata": {},
   "source": [
    "# Visualiser Basics\n",
    "\n",
    "Welcome to the Visualiser module 👋 where your urban data gets to strut its stuff on maps—static and interactive ones alike. Let’s make an enriched layer pop!\n",
    "\n",
    "**What you’ll learn**:\n",
    "- Setting up an enriched layer.\n",
    "- Drawing a static map.\n",
    "- Creating an interactive map with a dark theme.\n",
    "\n",
    "Let’s make some pretty maps! 🗺️"
   ]
  },
  {
   "cell_type": "code",
   "execution_count": null,
   "metadata": {},
   "outputs": [],
   "source": [
    "import urban_mapper as um\n",
    "\n",
    "# Kick off UrbanMapper\n",
    "mapper = um.UrbanMapper()"
   ]
  },
  {
   "cell_type": "markdown",
   "metadata": {},
   "source": [
    "## Preparing the Data and Layer\n",
    "\n",
    "First, let’s load data, create a layer, and enrich it with average building floors.\n",
    "\n",
    "Note that:\n",
    "\n",
    "- Loader example can be seen in `examples/Basics/loader.ipynb`\n",
    "- Urban Layer example can be seen in `examples/Basics/urban_layer.ipynb`\n",
    "- Enricher example can be see in `examples/Basics/enricher.ipynb`\n",
    "- Imputer example can be seen in `examples/Basics/imputer.ipynb`\n",
    "- Filter example can be seen in `examples/Basics/filter.ipynb`"
   ]
  },
  {
   "cell_type": "code",
   "execution_count": null,
   "metadata": {},
   "outputs": [],
   "source": [
    "# Load data\n",
    "data = (\n",
    "    mapper.loader.from_file(\"./pluto.csv\")  # From the loader module\n",
    "    .with_columns(\"longitude\", \"latitude\")\n",
    "    .load()\n",
    ")\n",
    "\n",
    "# Create urban layer\n",
    "layer = (\n",
    "    mapper.urban_layer.with_type(\"streets_intersections\")  # From the urban_layer module\n",
    "    .from_place(\"Downtown Brooklyn, New York City, USA\")\n",
    "    .build()\n",
    ")\n",
    "\n",
    "# Impute your data if they contain missing values\n",
    "data = (\n",
    "    mapper.imputer.with_type(\"SimpleGeoImputer\")  # From the imputer module\n",
    "    .on_columns(\"longitude\", \"latitude\")\n",
    "    .transform(\n",
    "        data, layer\n",
    "    )  # All imputers require access to the urban layer in case they need to extract information from it.\n",
    ")\n",
    "\n",
    "# Filter your data if they contain data beyond the bounding box your urban layer above\n",
    "data = mapper.filter.with_type(\"BoundingBoxFilter\").transform(  # From the filter module\n",
    "    data, layer\n",
    ")\n",
    "\n",
    "\n",
    "# Map data to nearest layer\n",
    "_, mapped_data = layer.map_nearest_layer(\n",
    "    data,\n",
    "    longitude_column=\"longitude\",\n",
    "    latitude_column=\"latitude\",\n",
    "    output_column=\"nearest_intersection\",\n",
    ")\n",
    "\n",
    "# Enrich layer\n",
    "enricher = (\n",
    "    mapper.enricher.with_data(  # From the enricher module\n",
    "        group_by=\"nearest_intersection\", values_from=\"numfloors\"\n",
    "    )\n",
    "    .aggregate_by(method=\"mean\", output_column=\"avg_floors\")\n",
    "    .build()\n",
    ")\n",
    "enriched_layer = enricher.enrich(mapped_data, layer)"
   ]
  },
  {
   "cell_type": "markdown",
   "metadata": {},
   "source": [
    "## Static Visualisation\n",
    "\n",
    "Let’s whip up a static map with Matplotlib to see our enriched layer."
   ]
  },
  {
   "cell_type": "code",
   "execution_count": null,
   "metadata": {},
   "outputs": [],
   "source": [
    "# Static visualisation\n",
    "fig_static = (\n",
    "    mapper.visual.with_type(\"Static\")  # From the visualiser module\n",
    "    .show(columns=[\"avg_floors\"])  # Show the avg_floors column\n",
    "    .render(enriched_layer.get_layer())\n",
    ")"
   ]
  },
  {
   "cell_type": "markdown",
   "metadata": {},
   "source": [
    "## Interactive Visualisation\n",
    "\n",
    "Now, let’s go fancy with an interactive Folium map—dark theme, because why not?"
   ]
  },
  {
   "cell_type": "code",
   "execution_count": null,
   "metadata": {},
   "outputs": [],
   "source": [
    "# Interactive visualisation\n",
    "fig_interactive = (\n",
    "    mapper.visual.with_type(\"Interactive\")  # From the visualiser module\n",
    "    .with_style({\"tiles\": \"CartoDB dark_matter\"})\n",
    "    .show(columns=[\"avg_floors\"])  # Show the avg_floors column\n",
    "    .render(enriched_layer.get_layer())\n",
    ")\n",
    "fig_interactive"
   ]
  },
  {
   "cell_type": "markdown",
   "metadata": {},
   "source": [
    "## Be Able To Preview Your Visualiser\n",
    "\n",
    "Want to check your visualiser’s setup? `preview()` shows you the type and style—perfect for shared projects!"
   ]
  },
  {
   "cell_type": "code",
   "execution_count": null,
   "metadata": {},
   "outputs": [],
   "source": [
    "# Preview visualiser\n",
    "print(mapper.visual.preview())"
   ]
  },
  {
   "cell_type": "markdown",
   "metadata": {},
   "source": [
    "## Wrapping Up\n",
    "\n",
    "Blimey, you’re ace! 🌟 You’ve made static and interactive maps like a pro. Tweak the styles or columns next—you’re unstoppable! 🚀"
   ]
  },
  {
   "cell_type": "code",
   "execution_count": null,
   "metadata": {},
   "outputs": [],
   "source": []
  }
 ],
 "metadata": {
  "kernelspec": {
   "display_name": "Python 3 (ipykernel)",
   "language": "python",
   "name": "python3"
  },
  "language_info": {
   "codemirror_mode": {
    "name": "ipython",
    "version": 3
   },
   "file_extension": ".py",
   "mimetype": "text/x-python",
   "name": "python",
   "nbconvert_exporter": "python",
   "pygments_lexer": "ipython3",
   "version": "3.10.12"
  }
 },
 "nbformat": 4,
 "nbformat_minor": 4
}
