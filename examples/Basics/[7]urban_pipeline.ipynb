{
 "cells": [
  {
   "cell_type": "markdown",
   "metadata": {},
   "source": [
    "# Urban Pipeline Basics\n",
    "\n",
    "Welcome to this Basics notebook on the `UrbanPipeline` 👋 class—a cracking little tool in UrbanMapper that lets you bundle up all your workflow steps into one neat package.\n",
    "\n",
    "In this notebook, we’ll:\n",
    "\n",
    "- Get to grips with what the `UrbanPipeline` does.\n",
    "- Build a simple pipeline with a few key steps.\n",
    "- Run it and show off the results.\n",
    "\n",
    "Let’s get started! 🌟"
   ]
  },
  {
   "cell_type": "code",
   "execution_count": null,
   "metadata": {},
   "outputs": [],
   "source": [
    "import urban_mapper as um\n",
    "from urban_mapper.pipeline import UrbanPipeline\n",
    "\n",
    "# Fire up UrbanMapper\n",
    "mapper = um.UrbanMapper()"
   ]
  },
  {
   "cell_type": "markdown",
   "metadata": {},
   "source": [
    "## What’s the `UrbanPipeline` All About?\n",
    "\n",
    "The `UrbanPipeline` class is like the conductor of an orchestra –– for the ML enthusiasts, it is trying to mimick what does Scikit-Learn does with the Scikit Pipeline –– —it brings together all the UrbanMapper steps (loading data, creating layers, imputing missing bits, filtering, enriching, and visualising) and makes them play in harmony. You define your steps, pop them into the pipeline, and it handles the rest. It’s brilliant for keeping your workflow tidy and repeatable!"
   ]
  },
  {
   "cell_type": "markdown",
   "metadata": {},
   "source": [
    "## Setting Up a Simple Pipeline\n",
    "\n",
    "Let’s build a pipeline that does the following:\n",
    "\n",
    "- Loads PLUTO data from a CSV file.\n",
    "- Creates a street intersections layer for Downtown Brooklyn.\n",
    "- Imputes missing coordinates.\n",
    "- Filters data to the layer’s bounding box.\n",
    "- Enriches the layer with average building floors.\n",
    "- Sets up an interactive map to visualise it all.\n",
    "\n",
    "We’ll define each step and slot them into our pipeline."
   ]
  },
  {
   "cell_type": "code",
   "execution_count": null,
   "metadata": {},
   "outputs": [],
   "source": [
    "# Define the steps\n",
    "urban_layer = (\n",
    "    mapper.urban_layer.with_type(\"streets_intersections\")\n",
    "    .from_place(\"Downtown Brooklyn, New York City, USA\", network_type=\"drive\")\n",
    "    .with_mapping(\n",
    "        longitude_column=\"longitude\",\n",
    "        latitude_column=\"latitude\",\n",
    "        output_column=\"nearest_intersection\",\n",
    "        threshold_distance=50,  # Optional: sets a 50-meter threshold for nearest mapping.\n",
    "        # Distance unit is based on the coordinate reference system, see further in the documentation.\n",
    "    )\n",
    "    .build()\n",
    ")\n",
    "\n",
    "loader = (\n",
    "    mapper.loader.from_file(\"./pluto.csv\").with_columns(\"longitude\", \"latitude\").build()\n",
    ")\n",
    "\n",
    "imputer = (\n",
    "    mapper.imputer.with_type(\"SimpleGeoImputer\")\n",
    "    .on_columns(\"longitude\", \"latitude\")\n",
    "    .build()\n",
    ")\n",
    "\n",
    "filter_step = mapper.filter.with_type(\"BoundingBoxFilter\").build()\n",
    "\n",
    "enricher = (\n",
    "    mapper.enricher.with_data(group_by=\"nearest_intersection\", values_from=\"numfloors\")\n",
    "    .aggregate_by(method=\"mean\", output_column=\"avg_floors\")\n",
    "    .build()\n",
    ")\n",
    "\n",
    "visualiser = (\n",
    "    mapper.visual.with_type(\"Interactive\")\n",
    "    .with_style({\"tiles\": \"CartoDB dark_matter\"})\n",
    "    .build()\n",
    ")\n",
    "\n",
    "# Assemble the pipeline\n",
    "# Note that a step is a tuple with a name and the step itself.\n",
    "pipeline = UrbanPipeline(\n",
    "    [\n",
    "        (\"urban_layer\", urban_layer),\n",
    "        (\"loader\", loader),\n",
    "        (\"imputer\", imputer),\n",
    "        (\"filter\", filter_step),\n",
    "        (\"enricher\", enricher),\n",
    "        (\"visualiser\", visualiser),\n",
    "    ]\n",
    ")\n",
    "\n",
    "# Note that we can do this in a more concise way, but we are showing the steps for clarity.\n",
    "# The concise way would be looking alike this for only with urban layer:\n",
    "\n",
    "# pipeline = UrbanPipeline([\n",
    "#     (\"urban_layer\", (\n",
    "#         mapper.urban_layer\n",
    "#         .with_type(\"streets_intersections\")\n",
    "#         .from_place(\"Downtown Brooklyn, New York City, USA\", network_type=\"drive\")\n",
    "#         .with_mapping(\n",
    "#             longitude_column=\"longitude\",\n",
    "#             latitude_column=\"latitude\",\n",
    "#             output_column=\"nearest_intersection\",\n",
    "#             threshold_distance=50\n",
    "#         )\n",
    "#         .build()\n",
    "#     )),\n",
    "#     # Add the other steps here\n",
    "# ])\n",
    "\n",
    "# Let's preview our urban pipeline workflow\n",
    "pipeline.preview()"
   ]
  },
  {
   "cell_type": "markdown",
   "metadata": {},
   "source": [
    "## Running the Pipeline\n",
    "\n",
    "Time to put it to work! We’ll use `compose_transform` to run the entire pipeline in one go—loading, imputing, filtering, mapping, enriching, all sorted. Then, we’ll visualise the results with a snazzy interactive map.\n",
    "\n",
    "Note however that we could do this in two steps, first calling `compose()` and then `transform()`, but we are showing the two steps in one for simplicity."
   ]
  },
  {
   "cell_type": "code",
   "execution_count": null,
   "metadata": {},
   "outputs": [],
   "source": [
    "# Execute the pipeline\n",
    "mapped_data, enriched_layer = pipeline.compose_transform()\n",
    "\n",
    "# Show the results\n",
    "fig = pipeline.visualise(result_columns=[\"avg_floors\"])\n",
    "# result_columns is basically the columns that will be displayed in the map.\n",
    "# If you want to display only one column, you can pass a string as well.\n",
    "\n",
    "fig  # Displays an interactive map in your notebook"
   ]
  },
  {
   "cell_type": "markdown",
   "metadata": {},
   "source": [
    "## Saving and Loading Your Pipeline\n",
    "\n",
    "Want to keep your pipeline for later? You can save it to a file and load it back up whenever you fancy. It’s like stashing your favourite recipe for a rainy day!"
   ]
  },
  {
   "cell_type": "code",
   "execution_count": null,
   "metadata": {},
   "outputs": [],
   "source": [
    "# Save the pipeline\n",
    "pipeline.save(\"./my_pipeline.joblib\")\n",
    "\n",
    "# Load it back\n",
    "loaded_pipeline = mapper.urban_pipeline.load(  # From the UrbanPipeline module\n",
    "    \"./my_pipeline.joblib\"\n",
    ")\n",
    "\n",
    "# Get all step names\n",
    "step_names = loaded_pipeline.get_step_names()\n",
    "print(\"Pipeline steps:\", step_names)\n",
    "\n",
    "# Access a specific step with get_step\n",
    "urban_layer_step = loaded_pipeline.get_step(\"urban_layer\")\n",
    "print(\"Urban Layer step:\", urban_layer_step)\n",
    "\n",
    "# Access a step with square brackets\n",
    "loader_step = loaded_pipeline[\"loader\"]\n",
    "print(\"Loader step:\", loader_step)\n",
    "\n",
    "# Preview the entire pipeline\n",
    "loaded_pipeline.preview()"
   ]
  },
  {
   "cell_type": "markdown",
   "metadata": {},
   "source": [
    "## Wrapping It Up\n",
    "\n",
    "Smashing job! 🌟 You’ve built and run your first `UrbanPipeline`, bringing together all those UrbanMapper steps into one smooth workflow. You can now reuse it, share it, or tweak it as you like."
   ]
  },
  {
   "cell_type": "code",
   "execution_count": null,
   "metadata": {},
   "outputs": [],
   "source": []
  }
 ],
 "metadata": {
  "kernelspec": {
   "display_name": "Python 3 (ipykernel)",
   "language": "python",
   "name": "python3"
  },
  "language_info": {
   "codemirror_mode": {
    "name": "ipython",
    "version": 3
   },
   "file_extension": ".py",
   "mimetype": "text/x-python",
   "name": "python",
   "nbconvert_exporter": "python",
   "pygments_lexer": "ipython3",
   "version": "3.10.12"
  }
 },
 "nbformat": 4,
 "nbformat_minor": 4
}
