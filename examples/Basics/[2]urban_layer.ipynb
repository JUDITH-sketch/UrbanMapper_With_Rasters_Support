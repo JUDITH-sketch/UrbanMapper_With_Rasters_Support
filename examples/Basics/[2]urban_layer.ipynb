{
 "cells": [
  {
   "cell_type": "markdown",
   "metadata": {},
   "source": [
    "# Urban Layer Basics\n",
    "\n",
    "Hey there! Welcome to the `urban_layer` module! 🌇 This notebook will guide you through creating urban layers—like streets, intersections, and features—for urban analysis.\n",
    "\n",
    "**What’s happening next**:\n",
    "- Importing the `urban_mapper` module.\n",
    "- Initialising an `UrbanMapper` instance to kick things off.\n",
    "\n",
    "Let’s dive in! 🚀"
   ]
  },
  {
   "cell_type": "markdown",
   "metadata": {},
   "source": [
    "To get started, we need to import the `urban_mapper` module and create an instance of the `UrbanMapper` class. This instance, called `mapper`, will be our tool for building urban layers throughout the notebook."
   ]
  },
  {
   "cell_type": "code",
   "execution_count": null,
   "metadata": {},
   "outputs": [],
   "source": [
    "import urban_mapper as um\n",
    "\n",
    "# Fire up UrbanMapper\n",
    "mapper = um.UrbanMapper()"
   ]
  },
  {
   "cell_type": "markdown",
   "metadata": {},
   "source": [
    "## Mapping Streets and Roads\n",
    "\n",
    "Time to create our first urban layer! We’ll map the streets and roads of Downtown Brooklyn using the `urban_layer` module. This layer type, `streets_roads`, pulls data from OSM via OSMnx, and we’ll specify a driving network. Further could be explored via https://osmnx.readthedocs.io/en/stable/user-reference.html#osmnx.graph.graph_from_place as we wrap that.\n",
    "\n",
    "**Next steps**:\n",
    "- Set the layer type to `streets_roads`.\n",
    "- Define the location as Downtown Brooklyn.\n",
    "- Render the layer visually with `static_render()`.\n",
    "\n",
    "Here we go! 🛣️"
   ]
  },
  {
   "cell_type": "markdown",
   "metadata": {},
   "source": [
    "---"
   ]
  },
  {
   "cell_type": "code",
   "execution_count": null,
   "metadata": {},
   "outputs": [],
   "source": [
    "# Create streets layer\n",
    "layer = (\n",
    "    mapper.urban_layer.with_type(\"streets_roads\")  # From the urban_layer module\n",
    "    .from_place(\"Downtown Brooklyn, New York City, USA\", network_type=\"drive\")\n",
    "    # Note that after the place name we can specify what's called kwargs in Python.\n",
    "    # Which are extra arguments / parameters that could be passed to the just chosen urban layer's type.\n",
    "    # Here we chose the streets roads which are leveraged thanks to OSMNX, hence, network_type is one of their parameters.\n",
    "    # See further in the documentation for the others.\n",
    "    .build()\n",
    ")\n",
    "# Render layer\n",
    "layer.static_render()"
   ]
  },
  {
   "cell_type": "markdown",
   "metadata": {},
   "source": [
    "## Plotting Street Intersections\n",
    "\n",
    "Next up, let’s map the intersections in Downtown Brooklyn. Using the `streets_intersections` type, we’ll see where the roads meet—perfect for traffic or urban planning studies!\n",
    "\n",
    "**What’s next**:\n",
    "- Switch the layer type to `streets_intersections`.\n",
    "- Use the same location and network type.\n",
    "- Render the intersections visually.\n",
    "\n",
    "Let’s check it out! 🚦"
   ]
  },
  {
   "cell_type": "markdown",
   "metadata": {},
   "source": [
    "---"
   ]
  },
  {
   "cell_type": "code",
   "execution_count": null,
   "metadata": {},
   "outputs": [],
   "source": [
    "# Create streets layer\n",
    "layer = (\n",
    "    mapper.urban_layer.with_type(\"streets_intersections\")  # From the urban_layer module\n",
    "    .from_place(\"Downtown Brooklyn, New York City, USA\", network_type=\"drive\")\n",
    "    # Note that after the place name we can specify what's called kwargs in Python.\n",
    "    # Which are extra arguments / parameters that could be passed to the just chosen urban layer's type.\n",
    "    # Here we chose the streets roads which are leveraged thanks to OSMNX, hence, network_type is one of their parameters.\n",
    "    # See further in the documentation for the others.\n",
    "    .build()\n",
    ")\n",
    "# Render layer\n",
    "layer.static_render()"
   ]
  },
  {
   "cell_type": "markdown",
   "metadata": {},
   "source": [
    "## Adding Sidewalks from Tile2Net\n",
    "\n",
    "Now, let’s bring in sidewalks! The `streets_sidewalks` type uses a shapefile (from Tile2Net, in this case) instead of a place name. You’ll need to replace the placeholder path with your actual file location.\n",
    "\n",
    "Follow their readme to have an inference of sidewalks given a location of interest: https://github.com/VIDA-NYU/tile2net\n",
    "\n",
    "**Next up**:\n",
    "- Set the layer type to `streets_sidewalks`.\n",
    "- Load data from a shapefile.\n",
    "- Render the sidewalks.\n",
    "\n",
    "Ready to walk the walk? 🚶‍♂️"
   ]
  },
  {
   "cell_type": "markdown",
   "metadata": {},
   "source": [
    "---"
   ]
  },
  {
   "cell_type": "code",
   "execution_count": null,
   "metadata": {},
   "outputs": [],
   "source": [
    "# Create streets layer\n",
    "layer = (\n",
    "    mapper.urban_layer.with_type(\"streets_sidewalks\")  # From the urban_layer module\n",
    "    .from_file(\"<path_towards_a_tile_2_net_shp_inference.shp\") # Here you need to infer from Tile2Net to get the shapefile path to put here.\n",
    "    .build()\n",
    ")\n",
    "# Render layer\n",
    "layer.static_render()"
   ]
  },
  {
   "cell_type": "markdown",
   "metadata": {},
   "source": [
    "## Mapping Crosswalks from Tile2Net\n",
    "\n",
    "Crosswalks are up next! Similar to sidewalks, the `streets_crosswalks` type uses a shapefile. Update the path to point to your Tile2Net output, and we’ll visualise pedestrian crossings.\n",
    "\n",
    "Follow their readme to have an inference of sidewalks given a location of interest: https://github.com/VIDA-NYU/tile2net\n",
    "\n",
    "\n",
    "**What’s happening**:\n",
    "- Use `streets_crosswalks` as the layer type.\n",
    "- Load the shapefile data.\n",
    "- Display the crosswalks.\n",
    "\n",
    "Let’s cross over! 🚸"
   ]
  },
  {
   "cell_type": "markdown",
   "metadata": {},
   "source": [
    "---"
   ]
  },
  {
   "cell_type": "code",
   "execution_count": null,
   "metadata": {},
   "outputs": [],
   "source": [
    "# Create streets layer\n",
    "layer = (\n",
    "    mapper.urban_layer.with_type(\"streets_crosswalks\")  # From the urban_layer module\n",
    "    .from_file(\"<path_towards_a_tile_2_net_shp_inference.shp\") # Here you need to infer from Tile2Net to get the shapefile path to put here.\n",
    "    .build()\n",
    ")\n",
    "# Render layer\n",
    "layer.static_render()"
   ]
  },
  {
   "cell_type": "markdown",
   "metadata": {},
   "source": [
    "## Exploring Parks in Brooklyn\n",
    "\n",
    "Let’s switch gears and map some urban features! Using `streets_features`, we’ll find all the parks in Brooklyn by setting a `leisure` tag. See how tags works here https://osmnx.readthedocs.io/en/stable/user-reference.html#osmnx.features.features_from_place and here for more precision over the tags https://wiki.openstreetmap.org/wiki/Map_features\n",
    "\n",
    "**Next steps**:\n",
    "- Set the layer type to `streets_features`.\n",
    "- Filter for parks in Brooklyn.\n",
    "- Render the result.\n",
    "\n",
    "Time to analyse around the park! 🌳"
   ]
  },
  {
   "cell_type": "markdown",
   "metadata": {},
   "source": [
    "---"
   ]
  },
  {
   "cell_type": "code",
   "execution_count": null,
   "metadata": {},
   "outputs": [],
   "source": [
    "# Create streets layer\n",
    "layer = (\n",
    "    mapper.urban_layer.with_type(\"streets_features\")  \n",
    "    .from_place(\n",
    "        \"Brooklyn, New York City, USA\", \n",
    "        tags={\"leisure\": \"park\"} # get the parks.\n",
    "    )\n",
    "    # Note that after the place name we can specify what's called kwargs in Python.\n",
    "    # Which are extra arguments / parameters that could be passed to the just chosen urban layer's type.\n",
    "    # Here we chose the streets roads which are leveraged thanks to OSMNX, hence, network_type is one of their parameters.\n",
    "    # See further in the documentation for the others.\n",
    "    .build()\n",
    ")\n",
    "layer.static_render()"
   ]
  },
  {
   "cell_type": "markdown",
   "metadata": {},
   "source": [
    "## Finding Restaurants in Brooklyn\n",
    "\n",
    "Hungry? Let’s map restaurants in Brooklyn with the `amenity` tag set to `restaurant`. This shows how flexible `streets_features` is for urban exploration.\n",
    "\n",
    "**What’s next**:\n",
    "- Keep using `streets_features`.\n",
    "- Filter for restaurants.\n",
    "- Visualise the dining spots.\n",
    "\n",
    "Bon appétit! 🍽️"
   ]
  },
  {
   "cell_type": "markdown",
   "metadata": {},
   "source": [
    "---"
   ]
  },
  {
   "cell_type": "code",
   "execution_count": null,
   "metadata": {},
   "outputs": [],
   "source": [
    "# Create streets layer\n",
    "layer = (\n",
    "    mapper.urban_layer.with_type(\"streets_features\")  \n",
    "    .from_place(\n",
    "        \"Brooklyn, New York City, USA\", \n",
    "        tags={\"amenity\": \"restaurant\"}\n",
    "    )\n",
    "    .build()\n",
    ")\n",
    "layer.static_render()"
   ]
  },
  {
   "cell_type": "markdown",
   "metadata": {},
   "source": [
    "## Locating Schools in Brooklyn\n",
    "\n",
    "Now, let’s find schools! Using the `amenity` tag again, we’ll map educational institutions across Brooklyn.\n",
    "\n",
    "**Next up**:\n",
    "- Target schools with `streets_features`.\n",
    "- Render the school locations.\n",
    "\n",
    "Class is in session! 📚"
   ]
  },
  {
   "cell_type": "markdown",
   "metadata": {},
   "source": [
    "---"
   ]
  },
  {
   "cell_type": "code",
   "execution_count": null,
   "metadata": {},
   "outputs": [],
   "source": [
    "# Create streets layer\n",
    "layer = (\n",
    "    mapper.urban_layer.with_type(\"streets_features\")  \n",
    "    .from_place(\n",
    "        \"Brooklyn, New York City, USA\", \n",
    "        tags={\"amenity\": \"school\"}\n",
    "    )\n",
    "    .build()\n",
    ")\n",
    "layer.static_render()"
   ]
  },
  {
   "cell_type": "markdown",
   "metadata": {},
   "source": [
    "## Mapping Hospitals in Brooklyn\n",
    "\n",
    "Health matters! Let’s map hospitals in Brooklyn using the `amenity` tag set to `hospital`.\n",
    "\n",
    "**What’s happening**:\n",
    "- Use `streets_features` to find hospitals.\n",
    "- Display the results.\n",
    "\n",
    "Stay healthy! 🏥"
   ]
  },
  {
   "cell_type": "markdown",
   "metadata": {},
   "source": [
    "---"
   ]
  },
  {
   "cell_type": "code",
   "execution_count": null,
   "metadata": {},
   "outputs": [],
   "source": [
    "# Create streets layer\n",
    "layer = (\n",
    "    mapper.urban_layer.with_type(\"streets_features\")  \n",
    "    .from_place(\n",
    "        \"Brooklyn, New York City, USA\", \n",
    "        tags={\"amenity\": \"hospital\"}\n",
    "    )\n",
    "    .build()\n",
    ")\n",
    "layer.static_render()"
   ]
  },
  {
   "cell_type": "markdown",
   "metadata": {},
   "source": [
    "## Charting Cycleways in Brooklyn\n",
    "\n",
    "For the cyclists out there, let’s map cycleways using the `highway` tag. This highlights bike-friendly paths in Brooklyn.\n",
    "\n",
    "**Next steps**:\n",
    "- Set the tag to `cycleway`.\n",
    "- Render the bike lanes.\n",
    "\n",
    "Pedal on! 🚲"
   ]
  },
  {
   "cell_type": "markdown",
   "metadata": {},
   "source": [
    "---"
   ]
  },
  {
   "cell_type": "code",
   "execution_count": null,
   "metadata": {},
   "outputs": [],
   "source": [
    "# Create streets layer\n",
    "layer = (\n",
    "    mapper.urban_layer.with_type(\"streets_features\")  \n",
    "    .from_place(\n",
    "        \"Brooklyn, New York City, USA\", \n",
    "        tags={\"highway\": \"cycleway\"}\n",
    "    )\n",
    "    .build()\n",
    ")\n",
    "layer.static_render()"
   ]
  },
  {
   "cell_type": "markdown",
   "metadata": {},
   "source": [
    "## Pinpointing Public Transport Stops\n",
    "\n",
    "Let’s map public transport stops in Brooklyn with the `public_transport` tag. Great for transit planning!\n",
    "\n",
    "**What’s next**:\n",
    "- Filter for `stop_position`.\n",
    "- Visualize the stops.\n",
    "\n",
    "All aboard! 🚌"
   ]
  },
  {
   "cell_type": "markdown",
   "metadata": {},
   "source": [
    "---"
   ]
  },
  {
   "cell_type": "code",
   "execution_count": null,
   "metadata": {},
   "outputs": [],
   "source": [
    "# Create streets layer\n",
    "layer = (\n",
    "    mapper.urban_layer.with_type(\"streets_features\")  \n",
    "    .from_place(\n",
    "        \"Brooklyn, New York City, USA\", \n",
    "        tags={\"public_transport\": \"stop_position\"}\n",
    "    )\n",
    "    .build()\n",
    ")\n",
    "layer.static_render()"
   ]
  },
  {
   "cell_type": "markdown",
   "metadata": {},
   "source": [
    "## Highlighting Water Bodies\n",
    "\n",
    "Nature time! Let’s map water bodies in Brooklyn using the `natural` tag set to `water`.\n",
    "\n",
    "**Next up**:\n",
    "- Target water features.\n",
    "- Render the map.\n",
    "\n",
    "Splash! 💧"
   ]
  },
  {
   "cell_type": "markdown",
   "metadata": {},
   "source": [
    "---"
   ]
  },
  {
   "cell_type": "code",
   "execution_count": null,
   "metadata": {},
   "outputs": [],
   "source": [
    "# Create streets layer\n",
    "layer = (\n",
    "    mapper.urban_layer.with_type(\"streets_features\")  \n",
    "    .from_place(\n",
    "        \"Brooklyn, New York City, USA\", \n",
    "        tags={\"natural\": \"water\"}\n",
    "    )\n",
    "    .build()\n",
    ")\n",
    "layer.static_render()"
   ]
  },
  {
   "cell_type": "markdown",
   "metadata": {},
   "source": [
    "## Combining Parks and Playgrounds\n",
    "\n",
    "Why choose one when you can have both? Let’s map parks *and* playgrounds in Brooklyn by using a list in the `leisure` tag.\n",
    "\n",
    "**What’s happening**:\n",
    "- Use a list to filter multiple features.\n",
    "- Display the combined result.\n",
    "\n",
    "Fun for all! 🎠"
   ]
  },
  {
   "cell_type": "markdown",
   "metadata": {},
   "source": [
    "---"
   ]
  },
  {
   "cell_type": "code",
   "execution_count": null,
   "metadata": {},
   "outputs": [],
   "source": [
    "# Create streets layer\n",
    "layer = (\n",
    "    mapper.urban_layer.with_type(\"streets_features\")  \n",
    "    .from_place(\n",
    "        \"Brooklyn, New York City, USA\", \n",
    "        tags = {\"leisure\": [\"park\", \"playground\"]}\n",
    "    )\n",
    "    .build()\n",
    ")\n",
    "layer.static_render()"
   ]
  },
  {
   "cell_type": "markdown",
   "metadata": {},
   "source": [
    "## Savoring French Cuisine\n",
    "\n",
    "Craving something specific? Let’s find French restaurants in Brooklyn with the `cuisine` tag.\n",
    "\n",
    "**Next steps**:\n",
    "- Filter for French cuisine.\n",
    "- Render the tasty spots.\n",
    "\n",
    "Ooh la la! 🇫🇷"
   ]
  },
  {
   "cell_type": "markdown",
   "metadata": {},
   "source": [
    "---"
   ]
  },
  {
   "cell_type": "code",
   "execution_count": null,
   "metadata": {},
   "outputs": [],
   "source": [
    "# Create streets layer\n",
    "layer = (\n",
    "    mapper.urban_layer.with_type(\"streets_features\")  \n",
    "    .from_place(\n",
    "        \"Brooklyn, New York City, USA\", \n",
    "        tags={\n",
    "            \"cuisine\": \"french\"\n",
    "        }\n",
    "    )\n",
    "    .build()\n",
    ")\n",
    "layer.static_render()"
   ]
  },
  {
   "cell_type": "markdown",
   "metadata": {},
   "source": [
    "# ___________________________________"
   ]
  },
  {
   "cell_type": "markdown",
   "metadata": {},
   "source": [
    "## Mapping Cities"
   ]
  },
  {
   "cell_type": "markdown",
   "metadata": {},
   "source": [
    "---"
   ]
  },
  {
   "cell_type": "markdown",
   "metadata": {},
   "source": [
    "Now, let’s map the cities in Hérault, France. We’re using the `region_cities` layer type to fetch city boundaries from OpenStreetMap. The `from_place` method targets 'Hérault, France', and we’ll build and render the layer, adding an interactive map with city names in tooltips."
   ]
  },
  {
   "cell_type": "code",
   "execution_count": null,
   "metadata": {},
   "outputs": [],
   "source": [
    "layer = (\n",
    "    mapper.urban_layer.with_type(\"region_cities\")\n",
    "    .from_place(\"Hérault, France\")\n",
    "    .build()\n",
    ")\n",
    "layer.static_render()\n",
    "layer.get_layer().explore(tooltip=[\"name\"])"
   ]
  },
  {
   "cell_type": "markdown",
   "metadata": {},
   "source": [
    "## Mapping States"
   ]
  },
  {
   "cell_type": "markdown",
   "metadata": {},
   "source": [
    "---"
   ]
  },
  {
   "cell_type": "markdown",
   "metadata": {},
   "source": [
    "In this section, we’re mapping states in Grenada. The `region_states` layer type retrieves state or province boundaries. Using `from_place` with 'Grenada', we’ll construct and visualise the layer interactively."
   ]
  },
  {
   "cell_type": "code",
   "execution_count": null,
   "metadata": {},
   "outputs": [],
   "source": [
    "layer = (\n",
    "    mapper.urban_layer.with_type(\"region_states\")\n",
    "    .from_place(\"Grenada\")\n",
    "    .build()\n",
    ")\n",
    "layer.static_render()\n",
    "layer.get_layer().explore()"
   ]
  },
  {
   "cell_type": "markdown",
   "metadata": {},
   "source": [
    "## Mapping Neighbourhoods"
   ]
  },
  {
   "cell_type": "markdown",
   "metadata": {},
   "source": [
    "---"
   ]
  },
  {
   "cell_type": "markdown",
   "metadata": {},
   "source": [
    "Here, we’re mapping neighbourhoods in Paris, France. The `region_neighbourhoods` layer type focuses on smaller administrative areas like districts. We’ll use `from_place` with 'Paris, France' to build and display the layer, complete with neighbourhood names in an interactive map."
   ]
  },
  {
   "cell_type": "code",
   "execution_count": null,
   "metadata": {},
   "outputs": [],
   "source": [
    "layer = (\n",
    "    mapper.urban_layer.with_type(\"region_neighborhoods\")\n",
    "    .from_place(\"Paris, France\")\n",
    "    .build()\n",
    ")\n",
    "layer.static_render()\n",
    "layer.get_layer().explore(tooltip=[\"name\"])"
   ]
  },
  {
   "cell_type": "markdown",
   "metadata": {},
   "source": [
    "Next, we’re applying the same approach to map neighbourhoods in Montpellier, France. This shows how `region_neighbourhoods` can be used across different cities to visualise local administrative boundaries."
   ]
  },
  {
   "cell_type": "code",
   "execution_count": null,
   "metadata": {},
   "outputs": [],
   "source": [
    "layer = (\n",
    "    mapper.urban_layer.with_type(\"region_neighborhoods\")\n",
    "    .from_place(\"Montpellier, France\")\n",
    "    .build()\n",
    ")\n",
    "layer.static_render()\n",
    "layer.get_layer().explore(tooltip=[\"name\"])"
   ]
  },
  {
   "cell_type": "markdown",
   "metadata": {},
   "source": [
    "Now, we’re mapping neighbourhoods in New York City, United States. Due to incomplete data in OpenStreetMap, we’re overriding the default admin level to '7' with `overwrite_admin_level` to get accurate boundaries, then displaying them interactively."
   ]
  },
  {
   "cell_type": "code",
   "execution_count": null,
   "metadata": {},
   "outputs": [],
   "source": [
    "layer = (\n",
    "    mapper.urban_layer.with_type(\"region_neighborhoods\")\n",
    "    .from_place(\"New York City, United States\", overwrite_admin_level=\"7\") # Here we overwrite because the inference do not find a correct enough level due to the lack of information on OSM.\n",
    "    .build()\n",
    ")\n",
    "layer.get_layer().reset_index().explore(tooltip=[\"name\"])"
   ]
  },
  {
   "cell_type": "markdown",
   "metadata": {},
   "source": [
    "Let’s switch back to cities and map those in Corsica. Using `region_cities`, we’ll retrieve and render city boundaries for this region, adding an interactive map with tooltips."
   ]
  },
  {
   "cell_type": "code",
   "execution_count": null,
   "metadata": {},
   "outputs": [],
   "source": [
    "layer = (\n",
    "    mapper.urban_layer.with_type(\"region_cities\")\n",
    "    .from_place(\"Corsica\")\n",
    "    .build()\n",
    ")\n",
    "layer.static_render()\n",
    "layer.get_layer().reset_index().explore(tooltip=[\"name\"])"
   ]
  },
  {
   "cell_type": "markdown",
   "metadata": {},
   "source": [
    "Here, we’re mapping neighbourhoods around a specific address in London: 'Tower Bridge Rd, London SE1 2UP, United Kingdom'. The `from_address` method with a 1000-metre radius lets us focus on a precise area, which we’ll visualise interactively."
   ]
  },
  {
   "cell_type": "code",
   "execution_count": null,
   "metadata": {},
   "outputs": [],
   "source": [
    "layer = (\n",
    "    mapper.urban_layer.with_type(\"region_neighborhoods\")\n",
    "    .from_address(\"Tower Bridge Rd, London SE1 2UP, United Kingdom\", dist=1000.0)\n",
    "    .build()\n",
    ")\n",
    "layer.static_render()\n",
    "layer.get_layer().reset_index().explore(tooltip=[\"name\"])"
   ]
  },
  {
   "cell_type": "markdown",
   "metadata": {},
   "source": [
    "Similarly, we’re mapping neighbourhoods around '370 Jay St, Brooklyn, New York 11201, United States'. Using `from_address` with a 1000-metre distance, we’ll build and display the local administrative areas."
   ]
  },
  {
   "cell_type": "code",
   "execution_count": null,
   "metadata": {},
   "outputs": [],
   "source": [
    "layer = (\n",
    "    mapper.urban_layer.with_type(\"region_neighborhoods\")\n",
    "    .from_address(\"370 Jay St, Brooklyn, New York 11201, United States\", dist=1000.0)\n",
    "    .build()\n",
    ")\n",
    "layer.static_render()\n",
    "layer.get_layer().reset_index().explore(tooltip=[\"name\"])"
   ]
  },
  {
   "cell_type": "markdown",
   "metadata": {},
   "source": [
    "In this example, we’re mapping neighbourhoods in Barcelona, Spain, using a polygon. We geocode 'Barcelona, Spain' to get its shape, then use `from_polygon` to build and render the neighbourhood layer interactively."
   ]
  },
  {
   "cell_type": "code",
   "execution_count": null,
   "metadata": {},
   "outputs": [],
   "source": [
    "from geopy.geocoders import Nominatim\n",
    "from shapely.wkt import loads\n",
    "\n",
    "# Geocoding Tokyo Japan as a polygon form.\n",
    "geolocator = Nominatim(user_agent=\"urban_mapper\")\n",
    "place_polygon = None\n",
    "location = geolocator.geocode(\"Barcelona, Spain\", geometry=\"wkt\")\n",
    "place_polygon = loads(location.raw[\"geotext\"])\n",
    "\n",
    "layer = (\n",
    "    mapper.urban_layer.with_type(\"region_neighborhoods\")\n",
    "    .from_polygon(place_polygon)\n",
    "    .build()\n",
    ")\n",
    "layer.static_render()\n",
    "layer.get_layer().reset_index().explore(tooltip=[\"name\"])"
   ]
  },
  {
   "cell_type": "markdown",
   "metadata": {},
   "source": [
    "## Previewing Your Layer\n",
    "\n",
    "Curious about your layer’s details? The `preview()` method gives you a quick rundown of the layer type, source, and more—super useful for sharing or debugging.\n",
    "\n",
    "**Next up**:\n",
    "- Print a preview of the last layer (US states).\n",
    "\n",
    "Take a peek! 👀"
   ]
  },
  {
   "cell_type": "code",
   "execution_count": null,
   "metadata": {},
   "outputs": [],
   "source": [
    "# Preview layer\n",
    "print(layer.preview())"
   ]
  },
  {
   "cell_type": "markdown",
   "metadata": {},
   "source": [
    "## Congratulations!\n",
    "\n",
    "Awesome work! 🎉 You’ve built a variety of urban layers, from streets to state boundaries, and even explored them interactively. You’re now ready to take it further—maybe enrich your layers with more data or analyze them with `enricher`?\n",
    "\n",
    "**What’s next**:\n",
    "- Experiment with new tags or areas.\n",
    "- Dive into the `urban_mapper` docs for more tricks.\n",
    "\n",
    "Happy mapping! 🗺️"
   ]
  },
  {
   "cell_type": "code",
   "execution_count": null,
   "metadata": {},
   "outputs": [],
   "source": []
  }
 ],
 "metadata": {
  "kernelspec": {
   "display_name": "Python 3 (ipykernel)",
   "language": "python",
   "name": "python3"
  },
  "language_info": {
   "codemirror_mode": {
    "name": "ipython",
    "version": 3
   },
   "file_extension": ".py",
   "mimetype": "text/x-python",
   "name": "python",
   "nbconvert_exporter": "python",
   "pygments_lexer": "ipython3",
   "version": "3.10.12"
  }
 },
 "nbformat": 4,
 "nbformat_minor": 4
}
