{
 "cells": [
  {
   "cell_type": "markdown",
   "metadata": {},
   "source": [
    "# Urban Layer Basics\n",
    "\n",
    "Welcome to the Urban Layer module! 🌆 This is where you start building the foundations of your urban analysis—like crafting street networks or intersections. Let’s whip up a streets layer and have a look at it!\n",
    "\n",
    "**What you’ll learn**:\n",
    "- Kicking off UrbanMapper.\n",
    "- Creating a streets layer from a place.\n",
    "- Giving it a quick render and a preview.\n",
    "\n",
    "Let’s go! 🛣️"
   ]
  },
  {
   "cell_type": "code",
   "execution_count": null,
   "metadata": {},
   "outputs": [],
   "source": [
    "import urban_mapper as um\n",
    "\n",
    "# Fire up UrbanMapper\n",
    "mapper = um.UrbanMapper()"
   ]
  },
  {
   "cell_type": "markdown",
   "metadata": {},
   "source": [
    "## Creating a Streets Layer\n",
    "\n",
    "Let’s build a streets layer for Downtown Brooklyn. We’ll use the `urban_layer` module, set the type, and pick our spot.\n",
    "\n",
    "More `urban_layer`'s type available, look out for the documentation for latest list of types. In the meantime:\n",
    "\n",
    "- `streets_roads`: Streets and roads.\n",
    "- `streets_intersections`: Intersections.\n",
    "- `streets_sidewalks`: Sidewalks.\n",
    "- `streets_crosswalks`: Crosswalks.\n",
    "- `streets_features`: Streets features. E.g. Parks, Coffee Shops, etc."
   ]
  },
  {
   "cell_type": "code",
   "execution_count": null,
   "metadata": {},
   "outputs": [],
   "source": [
    "# Create streets layer\n",
    "layer = (\n",
    "    mapper.urban_layer.with_type(\"streets_roads\")  # From the urban_layer module\n",
    "    .from_place(\"Downtown Brooklyn, New York City, USA\", network_type=\"drive\")\n",
    "    # Note that after the place name we can specify what's called kwargs in Python.\n",
    "    # Which are extra arguments / parameters that could be passed to the just chosen urban layer's type.\n",
    "    # Here we chose the streets roads which are leveraged thanks to OSMNX, hence, network_type is one of their parameters.\n",
    "    # See further in the documentation for the others.\n",
    "    .build()\n",
    ")"
   ]
  },
  {
   "cell_type": "markdown",
   "metadata": {},
   "source": [
    "## Rendering the Layer\n",
    "\n",
    "Time to see what we’ve got! Let’s render the layer statically for a quick peek."
   ]
  },
  {
   "cell_type": "code",
   "execution_count": null,
   "metadata": {},
   "outputs": [],
   "source": [
    "# Render layer\n",
    "layer.static_render()"
   ]
  },
  {
   "cell_type": "markdown",
   "metadata": {},
   "source": [
    "## Be Able To Preview Your Layer\n",
    "\n",
    "Want a closer look? Use `preview()` to check out details like the layer type and source. Handy when someone shares their urban analysis with you!"
   ]
  },
  {
   "cell_type": "code",
   "execution_count": null,
   "metadata": {},
   "outputs": [],
   "source": [
    "# Preview layer\n",
    "print(layer.preview())"
   ]
  },
  {
   "cell_type": "markdown",
   "metadata": {},
   "source": [
    "## Wrapping Up\n",
    "\n",
    "Top job, you! 🎈 You’ve built and checked out an urban layer. Now you’re all set to map data onto it or jazz it up with the `enricher`."
   ]
  },
  {
   "cell_type": "code",
   "execution_count": null,
   "metadata": {},
   "outputs": [],
   "source": []
  }
 ],
 "metadata": {
  "kernelspec": {
   "display_name": "Python 3",
   "language": "python",
   "name": "python3"
  },
  "language_info": {
   "codemirror_mode": {
    "name": "ipython",
    "version": 3
   },
   "file_extension": ".py",
   "mimetype": "text/x-python",
   "name": "python",
   "nbconvert_exporter": "python",
   "pygments_lexer": "ipython3",
   "version": "3.8.5"
  }
 },
 "nbformat": 4,
 "nbformat_minor": 4
}
