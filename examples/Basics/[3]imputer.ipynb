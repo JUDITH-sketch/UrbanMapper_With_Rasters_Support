{
 "cells": [
  {
   "cell_type": "markdown",
   "metadata": {},
   "source": [
    "# Imputer Basics\n",
    "\n",
    "Welcome to the Imputer module! 🎉 In this notebook, we’re tackling the Imputer module—your best take for sorting out missing geospatial data. Let’s see it in action with some sample data!\n",
    "\n",
    "**What you’ll learn**:\n",
    "- Loading some sample data.\n",
    "- Using `SimpleGeoImputer` to fix missing coordinates."
   ]
  },
  {
   "cell_type": "code",
   "execution_count": null,
   "metadata": {},
   "outputs": [],
   "source": [
    "import urban_mapper as um\n",
    "\n",
    "# Fire up UrbanMapper\n",
    "mapper = um.UrbanMapper()"
   ]
  },
  {
   "cell_type": "markdown",
   "metadata": {},
   "source": [
    "## Loading Sample Data\n",
    "\n",
    "First, let’s grab some sample CSV data. It might have a few gaps in the coordinates, but we’ll sort that out in a jiffy!\n",
    "\n",
    "Note that:\n",
    "\n",
    "- Loader example can be seen in `examples/Basics/loader.ipynb`\n"
   ]
  },
  {
   "cell_type": "code",
   "execution_count": null,
   "metadata": {},
   "outputs": [],
   "source": [
    "# Load CSV data\n",
    "data = (\n",
    "    mapper.loader.from_file(\"./pluto.csv\").with_columns(\"longitude\", \"latitude\").load()\n",
    ")"
   ]
  },
  {
   "cell_type": "markdown",
   "metadata": {},
   "source": [
    "## Applying the Imputer\n",
    "\n",
    "Now, let’s bring in the `SimpleGeoImputer` to patch up any missing longitude or latitude values. We’ll tell it which columns to focus on.\n",
    "\n",
    "`SimpleGeoImputer` naively imputes missing values if either the longitude or latitude is missing.\n",
    "However, more are available. See further in the documentation."
   ]
  },
  {
   "cell_type": "code",
   "execution_count": null,
   "metadata": {},
   "outputs": [],
   "source": [
    "# Create an urban layer (needed for the imputer)\n",
    "# See further in the urban_layer example at examples/Basics/urban_layer.ipynb\n",
    "layer = (\n",
    "    mapper.urban_layer.with_type(  # From the urban_layer's module\n",
    "        \"streets_intersections\"\n",
    "    )\n",
    "    .from_place(\"Downtown Brooklyn, New York City, USA\")\n",
    "    .build()\n",
    ")\n",
    "\n",
    "print(\n",
    "    f\"[Before Impute] Number of missing values in the longitude column: {data['longitude'].isnull().sum()}\"\n",
    ")  # N\n",
    "print(\n",
    "    f\"[Before Impute] Number of missing values in the latitude column: {data['latitude'].isnull().sum()}\"\n",
    ")  # N\n",
    "\n",
    "# Apply the imputer\n",
    "imputed_data = (\n",
    "    mapper.imputer.with_type(\"SimpleGeoImputer\")  # From the imputer module\n",
    "    .on_columns(\"longitude\", \"latitude\")\n",
    "    .transform(\n",
    "        data, layer\n",
    "    )  # All imputers require access to the urban layer in case they need to extract information from it.\n",
    ")\n",
    "\n",
    "print(\n",
    "    f\"[After Impute] Number of missing values in the longitude column: {imputed_data['longitude'].isnull().sum()}\"\n",
    ")  # 0\n",
    "print(\n",
    "    f\"[After Impute] Number of missing values in the latitude column: {imputed_data['latitude'].isnull().sum()}\"\n",
    ")  # 0\n",
    "\n",
    "imputed_data"
   ]
  },
  {
   "cell_type": "markdown",
   "metadata": {},
   "source": [
    "## Be Able To Preview Your Imputer's instance\n",
    "\n",
    "Additionally, you can preview your imputer's instance to see what columns you've specified and the imputer type you've used. Pretty useful when you load a urban analysis shared by someone else."
   ]
  },
  {
   "cell_type": "code",
   "execution_count": null,
   "metadata": {},
   "outputs": [],
   "source": [
    "print(mapper.imputer.preview())"
   ]
  },
  {
   "cell_type": "markdown",
   "metadata": {},
   "source": [
    "## Wrapping Up\n",
    "\n",
    "Brilliant! 🎉 You’ve patched up those missing coordinates like a champ. Your data’s looking spick and span!"
   ]
  }
 ],
 "metadata": {
  "kernelspec": {
   "display_name": "Python 3",
   "language": "python",
   "name": "python3"
  },
  "language_info": {
   "codemirror_mode": {
    "name": "ipython",
    "version": 3
   },
   "file_extension": ".py",
   "mimetype": "text/x-python",
   "name": "python",
   "nbconvert_exporter": "python",
   "pygments_lexer": "ipython3",
   "version": "3.8.5"
  }
 },
 "nbformat": 4,
 "nbformat_minor": 4
}
