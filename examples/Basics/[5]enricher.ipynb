{
 "cells": [
  {
   "cell_type": "markdown",
   "metadata": {},
   "source": [
    "# Enricher Basics\n",
    "\n",
    " Welcome to the Enricher module 👋 where we’ll sprinkle some extra magic onto your urban layers. Let’s add average building floors to a layer and see it sparkle!\n",
    "\n",
    "**What you’ll learn**:\n",
    "- Loading data and creating a layer.\n",
    "- Enriching it with average floors.\n",
    "- Previewing the enrichment setup.\n",
    "\n",
    "Let’s jazz things up! 🏙️"
   ]
  },
  {
   "cell_type": "code",
   "execution_count": null,
   "metadata": {},
   "outputs": [],
   "source": [
    "import urban_mapper as um\n",
    "\n",
    "# Start UrbanMapper\n",
    "mapper = um.UrbanMapper()"
   ]
  },
  {
   "cell_type": "markdown",
   "metadata": {},
   "source": [
    "## Loading Data and Creating a Layer\n",
    "\n",
    "First, let’s grab some PLUTO data and set up a street intersections layer for Downtown Brooklyn.\n",
    "\n",
    "Note that:\n",
    "\n",
    "- Loader example can be seen in `examples/Basics/loader.ipynb`\n",
    "- Urban Layer example can be seen in `examples/Basics/urban_layer.ipynb`\n",
    "- Imputer example can be seen in `examples/Basics/imputer.ipynb`"
   ]
  },
  {
   "cell_type": "code",
   "execution_count": null,
   "metadata": {},
   "outputs": [],
   "source": [
    "# Load data\n",
    "data = (\n",
    "    mapper.loader.from_file(  # From the loader module\n",
    "        \"./pluto.csv\"\n",
    "    )  # Pluto data usually gives lot tax building information in NYC.\n",
    "    .with_columns(\"longitude\", \"latitude\")\n",
    "    .load()\n",
    ")\n",
    "\n",
    "# Create urban layer\n",
    "layer = (\n",
    "    mapper.urban_layer.with_type(\"streets_intersections\")  # From the urban_layer module\n",
    "    .from_place(\"Downtown Brooklyn, New York City, USA\")\n",
    "    .build()\n",
    ")\n",
    "\n",
    "# Impute your data if they contain missing values\n",
    "data = (\n",
    "    mapper.imputer.with_type(\"SimpleGeoImputer\")  # From the imputer module\n",
    "    .on_columns(\"longitude\", \"latitude\")\n",
    "    .transform(\n",
    "        data, layer\n",
    "    )  # All imputers require access to the urban layer in case they need to extract information from it.\n",
    ")"
   ]
  },
  {
   "cell_type": "markdown",
   "metadata": {},
   "source": [
    "## Enriching the Layer\n",
    "\n",
    "Now, let’s enrich the layer with the average number of floors per intersection. We’ll map the data, set up the enricher, and apply it.\n",
    "\n",
    "More enriching workflows exist and would be available per the documentation. Hint: `count_by`\n"
   ]
  },
  {
   "cell_type": "code",
   "execution_count": null,
   "metadata": {},
   "outputs": [],
   "source": [
    "# Map data to the nearest layer\n",
    "# Here the point is to say which intersection of the city maps with which record(s) in your data\n",
    "# so that we can take into account when enriching.\n",
    "_, mapped_data = layer.map_nearest_layer(\n",
    "    data,\n",
    "    longitude_column=\"longitude\",\n",
    "    latitude_column=\"latitude\",\n",
    "    output_column=\"nearest_intersection\",\n",
    ")\n",
    "\n",
    "# Set up and apply enricher\n",
    "enricher = (\n",
    "    mapper.enricher.with_data(  # From the enricher module\n",
    "        group_by=\"nearest_intersection\", values_from=\"numfloors\"\n",
    "    )\n",
    "    # Reading: With data grouped by the nearest intersection, and the values from the attribute numfloors\n",
    "    .aggregate_by(method=\"mean\", output_column=\"avg_floors\")\n",
    "    # Reading: Aggregate by using the mean and output this into the avg_floors new attribute of the urban layer\n",
    "    .build()\n",
    ")\n",
    "enriched_layer = enricher.enrich(\n",
    "    mapped_data, layer\n",
    ")  # Data to use, Urban Layer to Enrich."
   ]
  },
  {
   "cell_type": "markdown",
   "metadata": {},
   "source": [
    "## Be Able To Preview Your Enricher\n",
    "\n",
    "Fancy a peek at your enricher? Use `preview()` to see the setup—great for when you’re digging into someone else’s work!"
   ]
  },
  {
   "cell_type": "code",
   "execution_count": null,
   "metadata": {},
   "outputs": [],
   "source": [
    "# Preview enricher\n",
    "print(enricher.preview())"
   ]
  },
  {
   "cell_type": "markdown",
   "metadata": {},
   "source": [
    "## Wrapping Up\n",
    "\n",
    "Smashing work! 🎉 Your layer’s now enriched with average floors. Try visualising it next with `visualiser`."
   ]
  },
  {
   "cell_type": "code",
   "execution_count": null,
   "metadata": {},
   "outputs": [],
   "source": []
  }
 ],
 "metadata": {
  "kernelspec": {
   "display_name": "Python 3 (ipykernel)",
   "language": "python",
   "name": "python3"
  },
  "language_info": {
   "codemirror_mode": {
    "name": "ipython",
    "version": 3
   },
   "file_extension": ".py",
   "mimetype": "text/x-python",
   "name": "python",
   "nbconvert_exporter": "python",
   "pygments_lexer": "ipython3",
   "version": "3.10.12"
  }
 },
 "nbformat": 4,
 "nbformat_minor": 4
}
