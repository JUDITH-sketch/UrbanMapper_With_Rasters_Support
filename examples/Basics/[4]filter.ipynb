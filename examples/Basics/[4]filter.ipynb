{
 "cells": [
  {
   "cell_type": "markdown",
   "metadata": {},
   "source": [
    "# Filter Basics\n",
    "\n",
    "Welcome to the Filter module🌟 where we’ll zoom in on the important bits of your data.\n",
    "\n",
    "**What you’ll learn**:\n",
    "- Loading data and setting up a layer.\n",
    "- Using `BoundingBoxFilter` to trim your data."
   ]
  },
  {
   "cell_type": "code",
   "execution_count": null,
   "metadata": {},
   "outputs": [],
   "source": [
    "import urban_mapper as um\n",
    "\n",
    "# Get UrbanMapper rolling\n",
    "mapper = um.UrbanMapper()"
   ]
  },
  {
   "cell_type": "markdown",
   "metadata": {},
   "source": [
    "## Loading Data and Creating a Layer\n",
    "\n",
    "First, let’s load some PLUTO data and create a layer for Downtown Brooklyn.\n",
    "\n",
    "Note that:\n",
    "\n",
    "- Loader example can be seen in `examples/Basics/loader.ipynb`\n",
    "- Urban Layer example can be seen in `examples/Basics/urban_layer.ipynb`\n"
   ]
  },
  {
   "cell_type": "code",
   "execution_count": null,
   "metadata": {},
   "outputs": [],
   "source": [
    "# Load data\n",
    "data = (\n",
    "    mapper.loader.from_file(\"./pluto.csv\")  # From the loader module\n",
    "    .with_columns(\"longitude\", \"latitude\")\n",
    "    .load()\n",
    ")\n",
    "\n",
    "# Create urban layer\n",
    "layer = (\n",
    "    mapper.urban_layer.with_type(\"streets_intersections\")  # From the urban_layer module\n",
    "    .from_place(\"Downtown Brooklyn, New York City, USA\")\n",
    "    .build()\n",
    ")"
   ]
  },
  {
   "cell_type": "markdown",
   "metadata": {},
   "source": [
    "## Applying the Filter\n",
    "\n",
    "Now, let’s use the `BoundingBoxFilter` to keep only the data within our layer’s bounds. It’s like putting a spotlight on Downtown Brooklyn say you had data for the whole of New York City.\n",
    "\n",
    "Note that for now there is only `BoundingBoxFilter` but that more could be available in the future. See further in the documentation\n"
   ]
  },
  {
   "cell_type": "code",
   "execution_count": null,
   "metadata": {},
   "outputs": [],
   "source": [
    "# Apply filter\n",
    "filtered_data = mapper.filter.with_type(  # From the filter module\n",
    "    \"BoundingBoxFilter\"\n",
    ").transform(data, layer)\n",
    "filtered_data  # Have a gander at the filtered data"
   ]
  },
  {
   "cell_type": "markdown",
   "metadata": {},
   "source": [
    "## Be Able To Preview Your Filter\n",
    "\n",
    "Curious about your filter? Use `preview()` to see its setup—super useful when you’re borrowing someone else’s analysis!"
   ]
  },
  {
   "cell_type": "code",
   "execution_count": null,
   "metadata": {},
   "outputs": [],
   "source": [
    "# Preview filter\n",
    "print(mapper.filter.preview())"
   ]
  },
  {
   "cell_type": "markdown",
   "metadata": {},
   "source": [
    "## Wrapping Up\n",
    "\n",
    "Well done, you star! You’ve filtered your data to focus on what matters. Next stop: try `enricher` or `visualiser`."
   ]
  },
  {
   "cell_type": "code",
   "execution_count": null,
   "metadata": {},
   "outputs": [],
   "source": []
  }
 ],
 "metadata": {
  "kernelspec": {
   "display_name": "Python 3",
   "language": "python",
   "name": "python3"
  },
  "language_info": {
   "codemirror_mode": {
    "name": "ipython",
    "version": 3
   },
   "file_extension": ".py",
   "mimetype": "text/x-python",
   "name": "python",
   "nbconvert_exporter": "python",
   "pygments_lexer": "ipython3",
   "version": "3.8.5"
  }
 },
 "nbformat": 4,
 "nbformat_minor": 4
}
