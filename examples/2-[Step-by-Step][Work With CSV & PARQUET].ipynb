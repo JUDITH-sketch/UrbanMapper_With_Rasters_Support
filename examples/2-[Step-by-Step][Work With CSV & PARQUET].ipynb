{
 "cells": [
  {
   "cell_type": "markdown",
   "id": "9d0051f61552c8a2",
   "metadata": {},
   "source": [
    "# Welcome to OSMNxMapping ☀️!\n",
    "\n",
    "_Chapter 2_ we will be exploring how to load two common file formats—CSV and Parquet—containing for the sake of the example taxi trip data into OSMNxMapping and visualise them interactively using Skrub. \n",
    "\n",
    "These files typically include explicit latitude and longitude columns, which OSMNxMapping handles seamlessly thanks to its loader factory supporting various data formats.\n",
    "\n",
    "**Goal**: Learn to:\n",
    "- Import the OSMNxMapping library.\n",
    "- Initialise an OSMNxMapping instance.\n",
    "- Load a CSV file with taxi trip data.\n",
    "- Load a Parquet file with taxi trip data.\n",
    "- Visualise both datasets interactively with Skrub.\n",
    "\n",
    "We'll use example files (`taxi_trips.csv` and `taxi_trips.parquet`) representing NYC taxi trips. For further steps like querying road networks, mapping data, enriching networks, or visualising results, please refer to the chapter 1's notebook.\n",
    "\n",
    "Let's get started! 🚕"
   ]
  },
  {
   "cell_type": "markdown",
   "id": "f12b1e4734b6769d",
   "metadata": {},
   "source": [
    "## Step 1: Import the Library\n",
    "\n",
    "We begin by importing the `osmnx_mapping` library with the alias `oxm` for ease of use."
   ]
  },
  {
   "cell_type": "code",
   "execution_count": null,
   "id": "e0c2cd971254d4f1",
   "metadata": {},
   "outputs": [],
   "source": [
    "import osmnx_mapping as oxm"
   ]
  },
  {
   "cell_type": "markdown",
   "id": "52bb8f1f7c795b2f",
   "metadata": {},
   "source": [
    "## Step 2: Initialise an OSMNxMapping Instance\n",
    "\n",
    "Next, we create an instance of `OSMNxMapping` named `taxi_trips`. This instance will manage our urban taxi trip data. At this stage, no data is loaded—it’s just the foundation for our next steps."
   ]
  },
  {
   "cell_type": "code",
   "execution_count": null,
   "id": "78ef982c9362b0ad",
   "metadata": {},
   "outputs": [],
   "source": [
    "taxi_trips = oxm.OSMNxMapping()"
   ]
  },
  {
   "cell_type": "markdown",
   "id": "7bb75e3649091138",
   "metadata": {},
   "source": [
    "## Step 3: Load the CSV File\n",
    "\n",
    "We load the CSV file `taxi_trips.csv` using the `load_from_file` method from the `LoaderMixin`. This file contains taxi trip data with explicit latitude and longitude columns, which we specify to ensure proper geospatial conversion.\n",
    "\n",
    "> **Note**: Ensure the file path (`\"./taxi_trips.csv\"`) matches the location of your CSV file. Adjust it if necessary, and replace `\"latitude\"` and `\"longitude\"` with your dataset’s actual column names if they differ (e.g., `\"pickup_latitude\"`)."
   ]
  },
  {
   "cell_type": "code",
   "execution_count": null,
   "id": "7d0c951d00dfb2c6",
   "metadata": {},
   "outputs": [],
   "source": [
    "csv_data = taxi_trips.loader.load_from_file(\n",
    "    file_path=\"./../data/TAXIS/csv/taxisvis5M.csv\",\n",
    "    latitude_column=\"pickup_latitude\",  # Replace with your CSV's latitude column name\n",
    "    longitude_column=\"pickup_longitude\"  # Replace with your CSV's longitude column name\n",
    ")"
   ]
  },
  {
   "cell_type": "markdown",
   "id": "e50f7ae0621a6ef8",
   "metadata": {},
   "source": [
    "## Step 4: Load the Parquet File\n",
    "\n",
    "Similarly, we load the Parquet file `taxi_trips.parquet` using the same `load_from_file` method. The loader factory automatically detects the file format and processes it accordingly, again using explicit latitude and longitude columns.\n",
    "\n",
    "> **Note**: Ensure the file path (`\"./taxi_trips.parquet\"`) matches your Parquet file’s location. Adjust column names as needed, consistent with the CSV."
   ]
  },
  {
   "cell_type": "code",
   "execution_count": null,
   "id": "9b501daa8d75d51b",
   "metadata": {},
   "outputs": [],
   "source": [
    "parquet_data = taxi_trips.loader.load_from_file(\n",
    "    file_path=\"./../data/TAXIS/parquet/taxisvis5M.parquet\",\n",
    "    latitude_column=\"pickup_latitude\",  # Replace with your Parquet's latitude column name\n",
    "    longitude_column=\"pickup_longitude\"  # Replace with your Parquet's longitude column name\n",
    ")"
   ]
  },
  {
   "cell_type": "markdown",
   "id": "cb2dc2ad434e473a",
   "metadata": {},
   "source": [
    "## Step 5: Visualise the Loaded Data Interactively\n",
    "\n",
    "Now, we use the `TableVisMixin`’s `interactive_display` method to visualise both datasets interactively with Skrub. This creates sortable, filterable tables in the notebook, allowing you to explore the attributes of the taxi trip data from both the CSV and Parquet files."
   ]
  },
  {
   "cell_type": "markdown",
   "id": "6562fac22f5fecb6",
   "metadata": {},
   "source": [
    "### Substep 1: Visualise CSV Data"
   ]
  },
  {
   "cell_type": "code",
   "execution_count": null,
   "id": "2d40a98419443013",
   "metadata": {},
   "outputs": [],
   "source": [
    "taxi_trips.table_vis.interactive_display(csv_data, title=\"Taxi Trips from CSV\")"
   ]
  },
  {
   "cell_type": "markdown",
   "id": "22705edba457ec95",
   "metadata": {},
   "source": [
    "### Substep 2: Visualise Parquet Data"
   ]
  },
  {
   "cell_type": "code",
   "execution_count": null,
   "id": "5fbe5639989fe776",
   "metadata": {},
   "outputs": [],
   "source": [
    "taxi_trips.table_vis.interactive_display(parquet_data, title=\"Taxi Trips from Parquet\")"
   ]
  },
  {
   "cell_type": "markdown",
   "id": "583e767614a1ac85",
   "metadata": {},
   "source": [
    "## Conclusion\n",
    "\n",
    "Well done! 🥐 You’ve successfully loaded taxi trip data from both a CSV and a Parquet file into OSMNxMapping and visualised them interactively using Skrub. This is a fantastic starting point for working with tabular urban data in different formats.\n",
    "\n",
    "To take your analysis further—such as querying a road network, mapping taxi trips to streets, enriching the network, or visualising the results—check out the `1-OSMNX_MAPPING_with_Auctus_basics` notebook. It builds on this foundation with a complete workflow.\n",
    "\n",
    "Happy mapping! 🌆"
   ]
  }
 ],
 "metadata": {
  "kernelspec": {
   "display_name": "Python 3 (ipykernel)",
   "language": "python",
   "name": "python3"
  },
  "language_info": {
   "codemirror_mode": {
    "name": "ipython",
    "version": 3
   },
   "file_extension": ".py",
   "mimetype": "text/x-python",
   "name": "python",
   "nbconvert_exporter": "python",
   "pygments_lexer": "ipython3",
   "version": "3.10.12"
  }
 },
 "nbformat": 4,
 "nbformat_minor": 5
}
