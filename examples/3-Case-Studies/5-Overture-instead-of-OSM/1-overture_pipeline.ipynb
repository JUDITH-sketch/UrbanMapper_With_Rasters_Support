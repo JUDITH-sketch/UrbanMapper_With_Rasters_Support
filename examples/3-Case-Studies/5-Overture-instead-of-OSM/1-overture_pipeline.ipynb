{
 "cells": [
  {
   "cell_type": "markdown",
   "id": "d95ee3ef7f01c67c",
   "metadata": {},
   "source": [
    "# Overture Instead of OSM – Easy Pipeline\n",
    "\n",
    "In a nutshell, yes 100% you can! However, can it be much better integrated? Of course, always!\n",
    "\n",
    "The following notebook showcases the `UrbanMapper` library to process and visualise `building counts` along `road segments` in `Manhattan, NYC` using data coming entirely from `Overture`. It follows a structured pipeline approach, including data loading, filtering, enrichment, and visualisation.\n",
    "\n",
    "https://overturemaps.org/\n"
   ]
  },
  {
   "cell_type": "markdown",
   "id": "c87b344d031ff9be",
   "metadata": {},
   "source": [
    "## Setup\n",
    "\n",
    "Prior all, let's simply initialise an `UrbanMapper` instance, setting the foundation for the pipeline."
   ]
  },
  {
   "cell_type": "code",
   "execution_count": null,
   "id": "838fb255183fb8ce",
   "metadata": {},
   "outputs": [],
   "source": [
    "import urban_mapper as um\n",
    "import geopandas as gpd\n",
    "from urban_mapper.pipeline import UrbanPipeline\n",
    "\n",
    "mapper = um.UrbanMapper()"
   ]
  },
  {
   "cell_type": "markdown",
   "id": "3",
   "metadata": {},
   "source": [
    "## Pre Requisites –– Data Preparation\n",
    "\n",
    "As the goal is to use `Overture` data we must ensure to have them prior all. To do so, follow the (1) https://docs.overturemaps.org/getting-data/overturemaps-py/ or (2) assuming you already have overture installed as in your general `pip` packages (in your CLI):\n",
    "\n",
    "```bash\n",
    "overturemaps download --bbox=-74.257159,40.495992,-73.699215,40.915568 -f geojson --type=segment -o nyc_segments.geojson\n",
    "overturemaps download --bbox=-74.016367,40.702726,-73.934212,40.821589 -f geoparquet --type=building -o manhattan_buildings.parquet\n",
    "```\n",
    "\n",
    "This will, nothing more than downloading the right information (`roads` and `buildings`) at the right location from `Overture` to proceed with `Urban Mapper`.\n",
    "\n",
    "Next we simply need to make sure to clip the segments acquired from `Overture`, to `Manhattan` for computation's sake, but feel free to explore more!"
   ]
  },
  {
   "cell_type": "code",
   "execution_count": null,
   "id": "4",
   "metadata": {},
   "outputs": [],
   "source": [
    "from shapely.geometry import Polygon\n",
    "\n",
    "west, south, east, north = -74.016367, 40.702726, -73.934212, 40.821589\n",
    "bbox = Polygon([(west, south), (east, south), (east, north), (west, north)])\n",
    "\n",
    "roads_gdf = gpd.read_file(\"./nyc_segments.geojson\")\n",
    "\n",
    "if roads_gdf.crs != \"EPSG:4326\":\n",
    "    roads_gdf = roads_gdf.to_crs(\"EPSG:4326\")\n",
    "\n",
    "road_subtype_gdf = roads_gdf[ # Keeping only the essential!\n",
    "    (roads_gdf['subtype'] == 'road') & \n",
    "    (roads_gdf['class'].isin(['motorway', 'residential', 'living_street', 'primary', 'secondary']))\n",
    "]\n",
    "\n",
    "filtered_roads = gpd.clip(road_subtype_gdf, bbox)\n",
    "filtered_roads.reset_index(drop=True, inplace=True)\n",
    "\n",
    "filtered_roads.to_file(\"manhattan_roads.geojson\", driver=\"GeoJSON\")"
   ]
  },
  {
   "cell_type": "markdown",
   "id": "5",
   "metadata": {},
   "source": [
    "# Pre-Requisites –– Transforming the buildings into `Shapefile`\n",
    "\n",
    "The following step converts building data from a `parquet` file to a `shapefile`, as the `UrbanMapper API` currently requires `shapefile` input for `longitude` and `latitude` to be automatically inferred as later-on are heavily required.\n",
    "\n",
    "If the `parquet` buildings file was having `longitude` and `longitude` the following step would not be required.\n",
    "\n",
    "Meanwhile, note that the mechanism behind our `ShapefileLoader` will need to be repeated in the `Parquet`'s one and others to allow for input files to not have `longitude` and `latitude` by default in, yet, via `geometry` coordinates should automatically be inferred. Mechanism is present already, simply needs to be scaled to more primitives."
   ]
  },
  {
   "cell_type": "code",
   "execution_count": null,
   "id": "6",
   "metadata": {},
   "outputs": [],
   "source": [
    "tmp_nyc_buildings = gpd.read_parquet(\"./manhattan_buildings.parquet\")\n",
    "tmp_nyc_buildings.to_file(\"./manhattan_buildings.shp\")"
   ]
  },
  {
   "cell_type": "markdown",
   "id": "7",
   "metadata": {},
   "source": [
    "## Component Instantiation: `Loader`\n",
    "\n",
    "The `loader` component is defined to read the preprocessed building data from the shapefile. Make the primitive ready to be used throughout the `pipeline` later on."
   ]
  },
  {
   "cell_type": "code",
   "execution_count": null,
   "id": "8",
   "metadata": {},
   "outputs": [],
   "source": [
    "loader = (\n",
    "    mapper.loader\n",
    "    .from_file(\"./manhattan_buildings.shp\")\n",
    "    .build()\n",
    ")"
   ]
  },
  {
   "cell_type": "markdown",
   "id": "9",
   "metadata": {},
   "source": [
    "## Component Instantiation: `Urban Layer`\n",
    "\n",
    "The `urban layer` component uses the filtered `road segments`, mapping building coordinates to the nearest road. Make the primitive ready to be used throughout the `pipeline` later on."
   ]
  },
  {
   "cell_type": "code",
   "execution_count": null,
   "id": "10",
   "metadata": {},
   "outputs": [],
   "source": [
    "urban_layer = (\n",
    "    mapper.urban_layer\n",
    "    .with_type(\"custom_urban_layer\")\n",
    "    .from_file(\"./manhattan_roads.geojson\")\n",
    "    .with_mapping(\n",
    "        longitude_column=\"temporary_longitude\",\n",
    "        latitude_column=\"temporary_latitude\",\n",
    "        output_column=\"nearest_road\"\n",
    "    )\n",
    "    .build()\n",
    ")"
   ]
  },
  {
   "cell_type": "markdown",
   "id": "11",
   "metadata": {},
   "source": [
    "## Component Instantiation: `Imputer`\n",
    "\n",
    "The `imputer` fills in missing longitude and latitude values to ensure data integrity. Make the primitive ready to be used throughout the `pipeline` later on."
   ]
  },
  {
   "cell_type": "code",
   "execution_count": null,
   "id": "12",
   "metadata": {},
   "outputs": [],
   "source": [
    "imputer = (\n",
    "    mapper.imputer\n",
    "    .with_type(\"SimpleGeoImputer\")\n",
    "    .on_columns(\"temporary_longitude\", \"temporary_latitude\")\n",
    "    .build()\n",
    ")"
   ]
  },
  {
   "cell_type": "markdown",
   "id": "13",
   "metadata": {},
   "source": [
    "## Component Instantiation: `Filter`\n",
    "\n",
    "The `filter` applies a bounding box to refine the dataset spatially, making sure no buildings from `Brooklyn` are being attached to a road around `Manhattan`. Make the primitive ready to be used throughout the `pipeline` later on."
   ]
  },
  {
   "cell_type": "code",
   "execution_count": null,
   "id": "14",
   "metadata": {},
   "outputs": [],
   "source": [
    "filter_step = (\n",
    "    mapper.filter\n",
    "    .with_type(\"BoundingBoxFilter\")\n",
    "    .build()\n",
    ")"
   ]
  },
  {
   "cell_type": "markdown",
   "id": "15",
   "metadata": {},
   "source": [
    "## Component Instantiation: `Enricher`\n",
    "\n",
    "The following `enricher` **counts** `buildings` per `road segment`, providing the key analytical output. Make the primitive ready to be used throughout the `pipeline` later on."
   ]
  },
  {
   "cell_type": "code",
   "execution_count": null,
   "id": "16",
   "metadata": {},
   "outputs": [],
   "source": [
    "building_count = (\n",
    "    mapper.enricher\n",
    "    .with_data(group_by=\"nearest_road\")\n",
    "    .count_by(output_column=\"building_count\")\n",
    "    .build()\n",
    ")"
   ]
  },
  {
   "cell_type": "markdown",
   "id": "17",
   "metadata": {},
   "source": [
    "## Component Instantiation: `Visualiser`\n",
    "\n",
    "The `visualiser` sets up a basic static matplotlib figure. Make the primitive ready to be used throughout the `pipeline` later on."
   ]
  },
  {
   "cell_type": "code",
   "execution_count": null,
   "id": "18",
   "metadata": {},
   "outputs": [],
   "source": [
    "visualiser = (\n",
    "    mapper.visual\n",
    "    .with_type(\"Static\")\n",
    "    .build()\n",
    ")"
   ]
  },
  {
   "cell_type": "markdown",
   "id": "19",
   "metadata": {},
   "source": [
    "## Pipeline Assembly\n",
    "\n",
    "The pipeline combines all pre-instantiated components in a logical sequence for processing."
   ]
  },
  {
   "cell_type": "code",
   "execution_count": null,
   "id": "20",
   "metadata": {},
   "outputs": [],
   "source": [
    "pipeline = UrbanPipeline([\n",
    "    (\"loader\", loader),\n",
    "    (\"urban_layer\", urban_layer),\n",
    "    (\"impute\", imputer),\n",
    "    (\"filter\", filter_step),\n",
    "    (\"enrich_building_count\", building_count),\n",
    "    (\"visualiser\", visualiser),\n",
    "])"
   ]
  },
  {
   "cell_type": "markdown",
   "id": "21",
   "metadata": {},
   "source": [
    "## Pipeline Execution\n",
    "\n",
    "This step runs the pipeline, transforming the data and generating the enriched layer. Note that there is a nice animation during the pipeline execution for you to follow-up with what's going on!"
   ]
  },
  {
   "cell_type": "code",
   "execution_count": null,
   "id": "22",
   "metadata": {},
   "outputs": [],
   "source": [
    "mapped_data, enriched_layer = pipeline.compose_transform()"
   ]
  },
  {
   "cell_type": "markdown",
   "id": "23",
   "metadata": {},
   "source": [
    "## Visualisation\n",
    "\n",
    "The enriched layer is visualised, showing building counts along road segments statically."
   ]
  },
  {
   "cell_type": "code",
   "execution_count": null,
   "id": "24",
   "metadata": {},
   "outputs": [],
   "source": [
    "fig = pipeline.visualise([\n",
    "    \"building_count\",\n",
    "])"
   ]
  },
  {
   "cell_type": "markdown",
   "id": "25",
   "metadata": {},
   "source": [
    "## Export Results\n",
    "\n",
    "Finally, the processed data is saved to a `JupyterGIS file` for future analysis in a collaborative-in-real-time manner.\n",
    "\n",
    "https://jupytergis.readthedocs.io/"
   ]
  },
  {
   "cell_type": "code",
   "execution_count": null,
   "id": "26",
   "metadata": {},
   "outputs": [],
   "source": [
    "pipeline.to_jgis(\n",
    "    filepath=\"new_york_city_overture_easy_pipeline.JGIS\",\n",
    "    urban_layer_name=\"NYC Overture Roads & Buildings – Easy Pipeline\"\n",
    ")"
   ]
  },
  {
   "cell_type": "code",
   "execution_count": null,
   "id": "6c0007bd-af57-4298-9f3f-05753622a5e7",
   "metadata": {},
   "outputs": [],
   "source": []
  }
 ],
 "metadata": {
  "kernelspec": {
   "display_name": "Python 3 (ipykernel)",
   "language": "python",
   "name": "python3"
  },
  "language_info": {
   "codemirror_mode": {
    "name": "ipython",
    "version": 3
   },
   "file_extension": ".py",
   "mimetype": "text/x-python",
   "name": "python",
   "nbconvert_exporter": "python",
   "pygments_lexer": "ipython3",
   "version": "3.10.12"
  }
 },
 "nbformat": 4,
 "nbformat_minor": 5
}
