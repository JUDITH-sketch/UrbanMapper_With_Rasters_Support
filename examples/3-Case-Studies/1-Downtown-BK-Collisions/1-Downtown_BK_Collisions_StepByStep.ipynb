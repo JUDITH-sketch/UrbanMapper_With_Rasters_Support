{
 "cells": [
  {
   "cell_type": "markdown",
   "metadata": {},
   "source": [
    "# Collisions Study - Step-by-Step\n",
    "\n",
    "This notebook walks through analyzing motor vehicle collisions in Downtown Brooklyn using UrbanMapper.\n",
    "We’ll load collision data, map it to intersections, count collisions per node, and visualise the results.\n",
    "\n",
    "## Data Sources\n",
    "\n",
    "- **[NYC DOT Motor Vehicle Collisions](https://data.cityofnewyork.us/Public-Safety/Motor-Vehicle-Collisions-Crashes/h9gi-nx95)**  \n",
    "\n",
    "\n",
    "⚠️ Please Note — Within The Documentation's Interactive Examples ⚠️\n",
    "\n",
    "First and foremost, please bear with us; some of our Jupyter Notebooks cannot be interactive and are thus displayed as is in the documentation.  Feel free to install the library and test it out locally.  Next, determine whether they are interactive, which means you can see the output of each cell.  As a result, because it is not a good practice to save datasets in a GitHub (or any other Git in general) repository, we attempted to import urban datasets from `HuggingFace` using `from_huggingface(.)` rather than `from_file(.)`, which would need local file availability.  Nonetheless, this was (1) not always viable (certain datasets are not on `HuggingFace`), and (2) this does not preclude you from using `from_file(.)` or any other available via the API reference's `Loader` module."
   ]
  },
  {
   "cell_type": "code",
   "execution_count": null,
   "metadata": {},
   "outputs": [],
   "source": [
    "import urban_mapper as um\n",
    "\n",
    "# Initialise UrbanMapper\n",
    "mapper = um.UrbanMapper()\n",
    "\n",
    "# Step 1: Create urban layer for intersections\n",
    "layer = (\n",
    "    mapper.urban_layer\n",
    "    .with_type(\"streets_intersections\")\n",
    "    .from_place(\"Downtown Brooklyn, New York City, USA\", network_type=\"drive\")\n",
    "    .build()\n",
    ")"
   ]
  },
  {
   "cell_type": "code",
   "execution_count": null,
   "metadata": {},
   "outputs": [],
   "source": [
    "# Step 2: Load collision data\n",
    "# Note: For the documentation interactive mode, we only query 5000 records from the dataset.  Feel free to remove for a more realistic analysis.\n",
    "data = (\n",
    "    mapper.loader\n",
    "    .from_huggingface(\"oscur/NYC_vehicle_collisions\", number_of_rows=5000, streaming=True)\n",
    "    .with_columns(longitude_column=\"LONGITUDE\", latitude_column=\"LATITUDE\")\n",
    "    .load()\n",
    ")\n",
    "\n",
    "data['LONGITUDE'] = data['LONGITUDE'].astype(float)\n",
    "data['LATITUDE'] = data['LATITUDE'].astype(float)"
   ]
  },
  {
   "cell_type": "code",
   "execution_count": null,
   "metadata": {},
   "outputs": [],
   "source": [
    "# Step 3: Impute missing coordinates\n",
    "imputer = (\n",
    "    mapper.imputer\n",
    "    .with_type(\"SimpleGeoImputer\")\n",
    "    .on_columns(longitude_column=\"LONGITUDE\", latitude_column=\"LATITUDE\",)\n",
    "    .build()\n",
    ")\n",
    "data = imputer.transform(data, layer)"
   ]
  },
  {
   "cell_type": "code",
   "execution_count": null,
   "metadata": {},
   "outputs": [],
   "source": [
    "# Step 4: Filter to bounding box\n",
    "filter_step = mapper.filter.with_type(\"BoundingBoxFilter\").build()\n",
    "data = filter_step.transform(data, layer)"
   ]
  },
  {
   "cell_type": "code",
   "execution_count": null,
   "metadata": {},
   "outputs": [],
   "source": [
    "# Step 5: Map to nearest intersections\n",
    "_, mapped_data = layer.map_nearest_layer(\n",
    "    data,\n",
    "    longitude_column=\"LONGITUDE\",\n",
    "    latitude_column=\"LATITUDE\",\n",
    "    output_column=\"nearest_intersection\"\n",
    ")"
   ]
  },
  {
   "cell_type": "code",
   "execution_count": null,
   "metadata": {},
   "outputs": [],
   "source": [
    "\n",
    "# Step 6: Enrich with collision counts\n",
    "enricher = (\n",
    "    mapper.enricher\n",
    "    .with_data(group_by=\"nearest_intersection\")\n",
    "    .count_by(output_column=\"collision_count\")\n",
    "    .build()\n",
    ")\n",
    "enriched_layer = enricher.enrich(mapped_data, layer)"
   ]
  },
  {
   "cell_type": "code",
   "execution_count": null,
   "metadata": {},
   "outputs": [],
   "source": [
    "# Step 7: Visualize interactively\n",
    "visualiser = (\n",
    "    mapper.visual\n",
    "    .with_type(\"Interactive\")\n",
    "    .with_style({\"tiles\": \"CartoDB dark_matter\", \"colorbar_text_color\": \"white\"})\n",
    "    .build()\n",
    ")\n",
    "fig_interactive = visualiser.render(enriched_layer.get_layer(), columns=[\"collision_count\"])\n",
    "fig_interactive"
   ]
  },
  {
   "cell_type": "code",
   "execution_count": null,
   "metadata": {},
   "outputs": [],
   "source": [
    "# Step 8: Visualize statically\n",
    "visualiser = mapper.visual.with_type(\"Static\").build()\n",
    "fig_static = visualiser.render(enriched_layer.get_layer(), columns=[\"collision_count\"])"
   ]
  }
 ],
 "metadata": {
  "kernelspec": {
   "display_name": "Python 3 (ipykernel)",
   "language": "python",
   "name": "python3"
  },
  "language_info": {
   "codemirror_mode": {
    "name": "ipython",
    "version": 3
   },
   "file_extension": ".py",
   "mimetype": "text/x-python",
   "name": "python",
   "nbconvert_exporter": "python",
   "pygments_lexer": "ipython3",
   "version": "3.10.12"
  }
 },
 "nbformat": 4,
 "nbformat_minor": 4
}
