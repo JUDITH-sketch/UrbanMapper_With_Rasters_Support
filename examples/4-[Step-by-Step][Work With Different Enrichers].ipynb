{
 "cells": [
  {
   "cell_type": "markdown",
   "id": "e08f620a8d610df8",
   "metadata": {},
   "source": [
    "# Welcome to OSMNxMapping ☀️!\n",
    "\n",
    "_Chapter 4_ will be about similar to chapter 1 yet will be exploring different enrichers _defaults_ previously used.\n",
    "\n",
    "We therefore will take a different data example. We will map urban taxi trip data to the New York City's street networks –– once more step-by-step for the time being.\n",
    "\n",
    "- Import the library.\n",
    "- Initialise an OSMNxMapping instance.\n",
    "- Search for taxi trip datasets using Auctus (or load manually).\n",
    "- Load the selected dataset.\n",
    "- Convert the dataset for OSMNxMapping.\n",
    "- Query a road network.\n",
    "- Map data to street nodes.\n",
    "- Preprocess the data (imputing and filtering).\n",
    "- Enrich the network by counting trips (with a preview).\n",
    "- Visualise the results.\n",
    "\n",
    "Let's dive in! 🚕"
   ]
  },
  {
   "cell_type": "markdown",
   "id": "3fc8b3d09c8473b1",
   "metadata": {},
   "source": [
    "## Step 1: Import the Library\n",
    "\n",
    "We begin by importing the `osmnx_mapping` library with the alias `oxm` for convenience."
   ]
  },
  {
   "cell_type": "code",
   "execution_count": null,
   "id": "400e11f5a3f4076e",
   "metadata": {},
   "outputs": [],
   "source": [
    "import osmnx_mapping as oxm"
   ]
  },
  {
   "cell_type": "markdown",
   "id": "4dc36dad6660a186",
   "metadata": {},
   "source": [
    "## Step 2: Initialise an OSMNxMapping Instance\n",
    "\n",
    "Next, we create an instance of `OSMNxMapping` named `taxi_trips`. This instance will manage our taxi trip data and road network analysis. At this stage, no data is loaded or queried—it’s just the foundation for our next steps."
   ]
  },
  {
   "cell_type": "code",
   "execution_count": null,
   "id": "9a954b7027e2b266",
   "metadata": {},
   "outputs": [],
   "source": [
    "taxi_trips = oxm.OSMNxMapping()"
   ]
  },
  {
   "cell_type": "markdown",
   "id": "78a74682ea08f0aa",
   "metadata": {},
   "source": [
    "## Step 3: Search for Datasets\n",
    "\n",
    "We use the `AuctusSearchMixin` to search for datasets related to \"taxis\" via the Auctus API. Setting `display_initial_results=True` shows an interactive grid of dataset cards in the notebook.\n",
    "\n",
    "> **Note**: After running this cell, browse the displayed datasets and click \"Select This Dataset\" on the one you want to use (e.g., a NYC taxi trip dataset). Alternatively, you can load taxi trip data manually from a file—see the `examples/` folder in the repository for examples like loading from CSV or Parquet files."
   ]
  },
  {
   "cell_type": "code",
   "execution_count": null,
   "id": "9e4c8ef60a1a84b1",
   "metadata": {},
   "outputs": [],
   "source": [
    "collection = taxi_trips.auctus.search_datasets(search_query=\"taxis, NYC\", size=100, display_initial_results=True)"
   ]
  },
  {
   "cell_type": "markdown",
   "id": "ce171883c7b66c34",
   "metadata": {},
   "source": [
    "## Step 4: Load the Selected Dataset\n",
    "\n",
    "After selecting a dataset in Step 3, we load it into memory using `load_dataset_from_auctus()`. This returns a `pandas.DataFrame` or `geopandas.GeoDataFrame` and displays an interactive table preview by default."
   ]
  },
  {
   "cell_type": "code",
   "execution_count": null,
   "id": "6b8d8117850adcd6",
   "metadata": {},
   "outputs": [],
   "source": [
    "dataset = taxi_trips.auctus.load_dataset_from_auctus()"
   ]
  },
  {
   "cell_type": "markdown",
   "id": "7a790f3c5c568238",
   "metadata": {},
   "source": [
    "## Step 5: Load Your Auctus Dataset into OSMNxMapping\n",
    "\n",
    "We convert the loaded dataset into a format compatible with OSMNxMapping using `load_from_dataframe`. This method transposes the data into a `geopandas.GeoDataFrame`, specifying the latitude and longitude columns. We then display it interactively with `interactive_display` (using Skrub).\n",
    "\n",
    "> **Note**: Adjust `\"latitude\"` and `\"longitude\"` to match your dataset’s actual column names if they differ (e.g., `\"pickup_latitude\"` and `\"pickup_longitude\"` for taxi data)."
   ]
  },
  {
   "cell_type": "code",
   "execution_count": null,
   "id": "c637b495438dfcc3",
   "metadata": {},
   "outputs": [],
   "source": [
    "loaded_data = taxi_trips.loader.load_from_dataframe(\n",
    "    input_dataframe=dataset,\n",
    "    latitude_column=\"latitude\",  # Replace with your dataset's latitude column name\n",
    "    longitude_column=\"longitude\"  # Replace with your dataset's longitude column name\n",
    ")\n",
    "taxi_trips.table_vis.interactive_display(loaded_data)"
   ]
  },
  {
   "cell_type": "markdown",
   "id": "50785b0472c09678",
   "metadata": {},
   "source": [
    "## Step 6: Query a Road Network\n",
    "\n",
    "We query the road network for Manhattan using `network_from_place`. Setting `render=True` displays a plot of the network."
   ]
  },
  {
   "cell_type": "code",
   "execution_count": null,
   "id": "abccfa6634c358ee",
   "metadata": {},
   "outputs": [],
   "source": [
    "graph, nodes, edges = taxi_trips.road_networks.network_from_place(\"Manhattan, New York City, USA\", render=True)"
   ]
  },
  {
   "cell_type": "markdown",
   "id": "f7eff252474cf240",
   "metadata": {},
   "source": [
    "## Step 7: Geo Preprocessing Your Dataset\n",
    "\n",
    "We perform two preprocessing steps:\n",
    "\n",
    "1. **Impute Missing Values**: Drop rows with missing latitude or longitude values using the default `SimpleGeoImputer`.\n",
    "2. **Filter Data**: Keep only points within the road network’s bounding box using `BoundingBoxFilter`.\n",
    "\n",
    "> **Note**: Each `PreprocessingMixin` instance can only perform one action (impute or filter). We reuse the mixin for each step here. For advanced preprocessing, see the `PreprocessingMixin` API."
   ]
  },
  {
   "cell_type": "markdown",
   "id": "836941ff85a6928e",
   "metadata": {},
   "source": [
    "### Substep 1: Impute Missing Values"
   ]
  },
  {
   "cell_type": "code",
   "execution_count": null,
   "id": "ec18489b5651446e",
   "metadata": {},
   "outputs": [],
   "source": [
    "loaded_data = (\n",
    "    taxi_trips.preprocessing\n",
    "    .with_default_imputer(latitude_column_name=\"latitude\", longitude_column_name=\"longitude\")\n",
    "    .transform(input_data=loaded_data)\n",
    ")"
   ]
  },
  {
   "cell_type": "markdown",
   "id": "d7f88b669b7633da",
   "metadata": {},
   "source": [
    "### Substep 2: Filter Data Within Bounding Box\n",
    "\n",
    "Note that this is most of the time very useful especially say your data is for NYC entirely but you are focussing only on Manhattan, you better be filtering this out otherwise you may have outliers that could skew your urban pipeline analysis here."
   ]
  },
  {
   "cell_type": "code",
   "execution_count": null,
   "id": "18ed4b0f6214e140",
   "metadata": {},
   "outputs": [],
   "source": [
    "loaded_data = (\n",
    "    taxi_trips.preprocessing\n",
    "    .with_default_filter(nodes=nodes)\n",
    "    .transform(input_data=loaded_data)\n",
    ")"
   ]
  },
  {
   "cell_type": "markdown",
   "id": "f6bd1fd527883ebb",
   "metadata": {},
   "source": [
    "## Step 8: Map the Loaded Data to the Nearest Street Nodes\n",
    "\n",
    "We map each taxi trip to the nearest node in the road network using `map_nearest_street`. This adds a column (default: `\"nearest_node\"`) to `loaded_data` with the ID of the closest node, essential for the enrichment step."
   ]
  },
  {
   "cell_type": "code",
   "execution_count": null,
   "id": "bf59c39dd9edd891",
   "metadata": {},
   "outputs": [],
   "source": [
    "loaded_data = taxi_trips.road_networks.map_nearest_street(\n",
    "    data=loaded_data,\n",
    "    longitude_column=\"longitude\",\n",
    "    latitude_column=\"latitude\"\n",
    ")"
   ]
  },
  {
   "cell_type": "markdown",
   "id": "f128d64eba75cbe3",
   "metadata": {},
   "source": [
    "## Step 9: Enrich the Network with the Loaded Data\n",
    "\n",
    "We enrich the network by counting the number of taxi trips per street segment, using the `CreateEnricher` factory with `count_by` instead of `aggregate_with` (as used in chapter 1). This counts occurrences by `\"nearest_node\"` without aggregating a specific value column.\n",
    "\n",
    "Before building the enricher, we preview its configuration with `preview()` to compare with Notebook 1’s approach.\n",
    "\n",
    "> **Tip**: Compare this `count_by` method with chapter 1’s `aggregate_with` to see the difference in enrichment strategies!"
   ]
  },
  {
   "cell_type": "code",
   "execution_count": null,
   "id": "441bea43ab6fc9d3",
   "metadata": {},
   "outputs": [],
   "source": [
    "from osmnx_mapping.modules.enricher import CreateEnricher\n",
    "\n",
    "# Configure the enricher to count trips\n",
    "count_enricher = (\n",
    "    CreateEnricher()\n",
    "    .with_data(group_by=\"nearest_node\")\n",
    "    .count_by(edge_method=\"average\", output_column=\"total_trips\")\n",
    ")\n",
    "\n",
    "# Preview the enricher configuration\n",
    "print(count_enricher.preview())\n",
    "\n",
    "# Build the enricher\n",
    "count_enricher = count_enricher.build()\n",
    "\n",
    "# Apply the enricher to the network\n",
    "enriched_data, graph, nodes, edges = taxi_trips.enricher(count_enricher).enrich_network(\n",
    "    input_data=loaded_data,\n",
    "    input_graph=graph,\n",
    "    input_nodes=nodes,\n",
    "    input_edges=edges\n",
    ")"
   ]
  },
  {
   "cell_type": "markdown",
   "id": "bf9970455e0c54e5",
   "metadata": {},
   "source": [
    "## Step 10: Visualise Your Enriched Network\n",
    "\n",
    "We visualise the enriched network in two ways:\n",
    "\n",
    "1. **Static Visualisation**: Using the default `StaticVisualiser` to create a Matplotlib plot.\n",
    "2. **Interactive Visualisation**: Using `InteractiveVisualiser` for a Folium map.\n",
    "\n",
    "> **Note**: Ensure you have the necessary Jupyter extensions installed for interactive visualisations (see the README’s Installation section)."
   ]
  },
  {
   "cell_type": "markdown",
   "id": "95dabfa6afc0e637",
   "metadata": {},
   "source": [
    "### Substep 1: Static Visualisation (Matplotlib)"
   ]
  },
  {
   "cell_type": "code",
   "execution_count": null,
   "id": "72897ad68e893583",
   "metadata": {},
   "outputs": [],
   "source": [
    "viz = taxi_trips.visual.visualise(graph=graph, nodes=nodes, edges=edges, result_columns=\"total_trips\")\n",
    "viz"
   ]
  },
  {
   "cell_type": "markdown",
   "id": "9ed27b953d985cfa",
   "metadata": {},
   "source": [
    "### Substep 2: Interactive Visualisation (Folium)"
   ]
  },
  {
   "cell_type": "code",
   "execution_count": null,
   "id": "c63b44ebbec29fd9",
   "metadata": {},
   "outputs": [],
   "source": [
    "from osmnx_mapping.modules.visualiser.visualisers import InteractiveVisualiser\n",
    "\n",
    "taxi_trips = oxm.OSMNxMapping() # Refreshing the instance to avoid the visualiser to be confused between static and interactive visualiser.\n",
    "\n",
    "viz = taxi_trips.visual(visualiser=InteractiveVisualiser()).visualise(graph=graph, nodes=nodes, edges=edges, result_columns=\"total_trips\")\n",
    "viz"
   ]
  },
  {
   "cell_type": "markdown",
   "id": "1f1e133ef8fc270b",
   "metadata": {},
   "source": [
    "## Conclusion\n",
    "\n",
    "Voila! 🥐 You’ve successfully mapped taxi trip data to Manhattan’s street network, enriched it by counting trips per street segment, and visualised the results both statically and interactively. 🎉\n",
    "\n",
    "Compare this notebook with chapter's 1 and notice how we used `count_by` here instead of `aggregate_with` to simply count trips rather than averaging a value like building floors. The `preview()` output highlights this difference in enrichment strategy.\n",
    "\n",
    "For more advanced features or to explore manual loading options, dive into the [OSMNxMapping API](https://github.com/VIDA-NYU/OSMNXMapping#api) and the `examples/` directory.\n",
    "\n",
    "Happy urban mapping! 🌆"
   ]
  },
  {
   "cell_type": "code",
   "execution_count": null,
   "id": "7e5943db14269153",
   "metadata": {},
   "outputs": [],
   "source": []
  }
 ],
 "metadata": {
  "kernelspec": {
   "display_name": "Python 3 (ipykernel)",
   "language": "python",
   "name": "python3"
  },
  "language_info": {
   "codemirror_mode": {
    "name": "ipython",
    "version": 3
   },
   "file_extension": ".py",
   "mimetype": "text/x-python",
   "name": "python",
   "nbconvert_exporter": "python",
   "pygments_lexer": "ipython3",
   "version": "3.10.12"
  }
 },
 "nbformat": 4,
 "nbformat_minor": 5
}
