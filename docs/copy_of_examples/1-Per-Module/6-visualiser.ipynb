{
 "cells": [
  {
   "cell_type": "markdown",
   "metadata": {},
   "source": [
    "# Visualiser\n",
    "\n",
    "In this notebook we'll explore how to finally visualise the result of an entire workflow (examples `[1-5]`) into a maps—static and interactive visualisers.\n",
    "\n",
    "Let’s make an enriched layer pop!\n",
    "\n",
    "**Data source used**:\n",
    "- PLUTO data from NYC Open Data. https://www.nyc.gov/content/planning/pages/resources/datasets/mappluto-pluto-change\n",
    "\n",
    "Let’s make some pretty maps! 🗺️\n"
   ]
  },
  {
   "cell_type": "code",
   "execution_count": null,
   "metadata": {},
   "outputs": [],
   "source": [
    "import urban_mapper as um\n",
    "\n",
    "# Kick off UrbanMapper\n",
    "mapper = um.UrbanMapper()"
   ]
  },
  {
   "cell_type": "markdown",
   "metadata": {},
   "source": [
    "## Preparing the Data and Layer\n",
    "\n",
    "First, let’s load data, create a layer, and enrich it with average building floors.\n",
    "\n",
    "Note that:\n",
    "\n",
    "- Loader example can be seen in `examples/Basics/loader.ipynb`\n",
    "- Urban Layer example can be seen in `examples/Basics/urban_layer.ipynb`\n",
    "- Enricher example can be see in `examples/Basics/enricher.ipynb`\n",
    "- Imputer example can be seen in `examples/Basics/imputer.ipynb`\n",
    "- Filter example can be seen in `examples/Basics/filter.ipynb`"
   ]
  },
  {
   "cell_type": "code",
   "execution_count": null,
   "metadata": {},
   "outputs": [],
   "source": [
    "######\n",
    "#\n",
    "# We will on purpose do inline chaining of the methods to fasten the process.\n",
    "#\n",
    "######\n",
    "\n",
    "# Load data\n",
    "# Note: For the documentation interactive mode, we only query 5000 records from the dataset.  Feel free to remove for a more realistic analysis.\n",
    "data = mapper.loader.from_huggingface(\"oscur/pluto\", number_of_rows=5000, streaming=True).with_columns(\"longitude\", \"latitude\").load()\n",
    "\n",
    "# Create urban layer\n",
    "layer = mapper.urban_layer.with_type(\"streets_intersections\").from_place(\"Downtown Brooklyn, New York City, USA\").build()\n",
    "\n",
    "# Impute your data if they contain missing values\n",
    "data = mapper.imputer.with_type(\"SimpleGeoImputer\").on_columns(\"longitude\", \"latitude\").transform(data, layer)\n",
    "\n",
    "# Filter your data if they contain data beyond the bounding box your urban layer above\n",
    "data = mapper.filter.with_type(\"BoundingBoxFilter\").transform(data, layer)\n",
    "\n",
    "# Map data to nearest layer\n",
    "_, mapped_data = layer.map_nearest_layer(\n",
    "    data,\n",
    "    longitude_column=\"longitude\",\n",
    "    latitude_column=\"latitude\",\n",
    "    output_column=\"nearest_intersection\",\n",
    ")\n",
    "\n",
    "# Enrich layer\n",
    "enricher = (\n",
    "    mapper.enricher\n",
    "    .with_data(group_by=\"nearest_intersection\", values_from=\"numfloors\")\n",
    "    .aggregate_by(method=\"mean\", output_column=\"avg_floors\")\n",
    "    .build()\n",
    ")\n",
    "\n",
    "enriched_layer = enricher.enrich(mapped_data, layer)"
   ]
  },
  {
   "cell_type": "markdown",
   "metadata": {},
   "source": [
    "## Static Visualisation\n",
    "\n",
    "Now that we've cooked the various ingredients, let’s whip up a static map with Matplotlib to see our enriched layer."
   ]
  },
  {
   "cell_type": "code",
   "execution_count": null,
   "metadata": {},
   "outputs": [],
   "source": [
    "# Static visualisation\n",
    "fig_static = (\n",
    "    mapper\n",
    "    .visual # From the visualiser module\n",
    "    .with_type(\"Static\")  # With type Static\n",
    "    .show(columns=[\"avg_floors\"])  # Show the avg_floors column\n",
    "    .render(enriched_layer.get_layer()) # Render the enriched layer\n",
    ")"
   ]
  },
  {
   "cell_type": "markdown",
   "metadata": {},
   "source": [
    "## Interactive Visualisation\n",
    "\n",
    "Now, let’s go fancy with an interactive Folium map—dark theme, because why not?"
   ]
  },
  {
   "cell_type": "code",
   "execution_count": null,
   "metadata": {},
   "outputs": [],
   "source": [
    "# Interactive visualisation\n",
    "fig_interactive = (\n",
    "    mapper\n",
    "    .visual # From the visualiser module\n",
    "    .with_type(\"Interactive\")  # With type Interactive\n",
    "    .with_style({\"tiles\": \"CartoDB dark_matter\", \"colorbar_text_color\": \"white\"}) # Dark theme style\n",
    "    .show(columns=[\"avg_floors\"])  # Show the avg_floors column\n",
    "    .render(enriched_layer.get_layer()) # Render the enriched layer\n",
    ")\n",
    "fig_interactive"
   ]
  },
  {
   "cell_type": "markdown",
   "metadata": {},
   "source": [
    "## Be Able To Preview Your Visualiser\n",
    "\n",
    "Want to check your visualiser’s setup? `preview()` shows you the type and style—perfect for shared projects!"
   ]
  },
  {
   "cell_type": "code",
   "execution_count": null,
   "metadata": {},
   "outputs": [],
   "source": [
    "# Preview visualiser\n",
    "print(mapper.visual.preview())"
   ]
  },
  {
   "cell_type": "markdown",
   "metadata": {},
   "source": [
    "## Provide many different datasets to the same static visualization\n",
    "\n",
    "You can load many datasets and feed the enricher with a dictionary. All the provided datasets should have the same columns provided in `with_data`, `aggregate_by`, etc.\n",
    "\n",
    "The static visualizer looks into the enriched data with `data_id` column and uses it to show data with different markers."
   ]
  },
  {
   "cell_type": "code",
   "execution_count": null,
   "metadata": {},
   "outputs": [],
   "source": [
    "# Load CSV data\n",
    "data1 = (\n",
    "    mapper\n",
    "    .loader\n",
    "    .from_huggingface(\"oscur/pluto\", number_of_rows=1000, streaming=True).with_columns(\"longitude\", \"latitude\").load()\n",
    "    # From the loader module, from the following file and with the `longitude` and `latitude`\n",
    ")\n",
    "\n",
    "# Load Parquet data\n",
    "data2 = (\n",
    "    mapper\n",
    "    .loader\n",
    "    .from_huggingface(\"oscur/taxisvis1M\", number_of_rows=1000, streaming=True) # To update with your own path\n",
    "    .with_columns(\"pickup_longitude\", \"pickup_latitude\") # Inform your long and lat columns\n",
    "    .with_map({\"pickup_longitude\": \"longitude\", \"pickup_latitude\": \"latitude\"}) ## Routines like layer.map_nearest_layer needs datasets with the same longitude_column and latitude_column    \n",
    "    .load()\n",
    ")\n",
    "\n",
    "data = {\n",
    "  \"pluto_data\": data1,\n",
    "  \"taxi_data\": data2,\n",
    "}\n",
    "\n",
    "# Create a new urban layer to the data\n",
    "layer = mapper.urban_layer.with_type(\"streets_intersections\").from_place(\"Downtown Brooklyn, New York City, USA\").build()\n",
    "\n",
    "# Map datasets to the nearest layer\n",
    "# Here the point is to say which intersection of the city maps with which record(s) in each of your datasets\n",
    "# so that we can take into account when enriching.\n",
    "_, mapped_data = layer.map_nearest_layer(\n",
    "    data,\n",
    "    longitude_column=\"longitude\",\n",
    "    latitude_column=\"latitude\",\n",
    "    output_column=\"nearest_intersection\", # Will create this column in the data, so that we can re-use that throughout the enriching process below.\n",
    ")\n",
    "\n",
    "# Set up and apply enricher with debug enabled\n",
    "enricher = (\n",
    "    mapper\n",
    "    .enricher # From the enricher module\n",
    "    .with_data(\n",
    "        group_by=\"nearest_intersection\", values_from=\"numfloors\", data_id=\"pluto_data\"\n",
    "    ) # Reading: With data grouped by the nearest intersection, and the values from the attribute numfloors\n",
    "      #Both datasets should have the same group_by and values_from columns\n",
    "    .aggregate_by(\n",
    "        method=\"mean\", output_column=\"avg_floors\"\n",
    "    ) # Reading: Aggregate by using the mean and output the computation into the avg_floors new attribute of the urban layer\n",
    "    .with_debug()  # Enable debug to add DEBUG_avg_floors column which will contain the list of indices from the input data used for each enrichment\n",
    "    .build()\n",
    ")\n",
    "enriched_layer = enricher.enrich(\n",
    "    mapped_data, layer\n",
    ")  # Data to use, Urban Layer to Enrich.\n",
    "\n",
    "# Static visualisation\n",
    "fig_static = (\n",
    "    mapper\n",
    "    .visual # From the visualiser module\n",
    "    .with_type(\"Static\")  # With type Static\n",
    "    .show(columns=[\"avg_floors\"])  # Show the avg_floors column\n",
    "    .render(enriched_layer.get_layer()) # Render the enriched layer\n",
    ")"
   ]
  },
  {
   "cell_type": "markdown",
   "metadata": {},
   "source": [
    "# More visualiser primitives ?\n",
    "\n",
    "Wants more? Come shout that out on https://github.com/VIDA-NYU/UrbanMapper/issues/9"
   ]
  },
  {
   "cell_type": "markdown",
   "metadata": {},
   "source": [
    "## Wrapping Up\n",
    "\n",
    "Blimey, you’re ace! 🌟 You’ve made static and interactive maps like a pro. Tweak the styles or columns next—you’re unstoppable! 🚀"
   ]
  }
 ],
 "metadata": {
  "kernelspec": {
   "display_name": "Python 3 (ipykernel)",
   "language": "python",
   "name": "python3"
  },
  "language_info": {
   "codemirror_mode": {
    "name": "ipython",
    "version": 3
   },
   "file_extension": ".py",
   "mimetype": "text/x-python",
   "name": "python",
   "nbconvert_exporter": "python",
   "pygments_lexer": "ipython3",
   "version": "3.10.12"
  }
 },
 "nbformat": 4,
 "nbformat_minor": 4
}
